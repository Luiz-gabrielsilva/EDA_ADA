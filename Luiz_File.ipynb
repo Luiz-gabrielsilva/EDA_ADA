{
 "cells": [
  {
   "cell_type": "markdown",
   "id": "61187dd2",
   "metadata": {
    "heading_collapsed": true
   },
   "source": [
    "## Cabeçalho"
   ]
  },
  {
   "cell_type": "code",
   "execution_count": 3,
   "id": "0ccad252",
   "metadata": {
    "hidden": true
   },
   "outputs": [
    {
     "data": {
      "text/html": [
       "<div>\n",
       "<style scoped>\n",
       "    .dataframe tbody tr th:only-of-type {\n",
       "        vertical-align: middle;\n",
       "    }\n",
       "\n",
       "    .dataframe tbody tr th {\n",
       "        vertical-align: top;\n",
       "    }\n",
       "\n",
       "    .dataframe thead th {\n",
       "        text-align: right;\n",
       "    }\n",
       "</style>\n",
       "<table border=\"1\" class=\"dataframe\">\n",
       "  <thead>\n",
       "    <tr style=\"text-align: right;\">\n",
       "      <th></th>\n",
       "      <th>ano</th>\n",
       "      <th>mes</th>\n",
       "      <th>horas_assistidas</th>\n",
       "      <th>media_visualizacoes</th>\n",
       "      <th>pico_de_visualizacoes</th>\n",
       "      <th>Streams</th>\n",
       "      <th>media_canais</th>\n",
       "      <th>jogos_transmitidos</th>\n",
       "      <th>proporcao_de_espectadores</th>\n",
       "    </tr>\n",
       "  </thead>\n",
       "  <tbody>\n",
       "    <tr>\n",
       "      <th>0</th>\n",
       "      <td>2016</td>\n",
       "      <td>1</td>\n",
       "      <td>480241904</td>\n",
       "      <td>646355</td>\n",
       "      <td>1275257</td>\n",
       "      <td>7701675</td>\n",
       "      <td>20076</td>\n",
       "      <td>12149</td>\n",
       "      <td>29.08</td>\n",
       "    </tr>\n",
       "    <tr>\n",
       "      <th>1</th>\n",
       "      <td>2016</td>\n",
       "      <td>2</td>\n",
       "      <td>441859897</td>\n",
       "      <td>635769</td>\n",
       "      <td>1308032</td>\n",
       "      <td>7038520</td>\n",
       "      <td>20427</td>\n",
       "      <td>12134</td>\n",
       "      <td>28.98</td>\n",
       "    </tr>\n",
       "    <tr>\n",
       "      <th>2</th>\n",
       "      <td>2016</td>\n",
       "      <td>3</td>\n",
       "      <td>490669308</td>\n",
       "      <td>660389</td>\n",
       "      <td>1591551</td>\n",
       "      <td>7390957</td>\n",
       "      <td>20271</td>\n",
       "      <td>12234</td>\n",
       "      <td>28.92</td>\n",
       "    </tr>\n",
       "    <tr>\n",
       "      <th>3</th>\n",
       "      <td>2016</td>\n",
       "      <td>4</td>\n",
       "      <td>377975447</td>\n",
       "      <td>525696</td>\n",
       "      <td>1775120</td>\n",
       "      <td>6869719</td>\n",
       "      <td>16791</td>\n",
       "      <td>12282</td>\n",
       "      <td>28.80</td>\n",
       "    </tr>\n",
       "    <tr>\n",
       "      <th>4</th>\n",
       "      <td>2016</td>\n",
       "      <td>5</td>\n",
       "      <td>449836631</td>\n",
       "      <td>605432</td>\n",
       "      <td>1438962</td>\n",
       "      <td>7535519</td>\n",
       "      <td>19394</td>\n",
       "      <td>12424</td>\n",
       "      <td>28.85</td>\n",
       "    </tr>\n",
       "  </tbody>\n",
       "</table>\n",
       "</div>"
      ],
      "text/plain": [
       "    ano  mes  horas_assistidas  media_visualizacoes  pico_de_visualizacoes  \\\n",
       "0  2016    1         480241904               646355                1275257   \n",
       "1  2016    2         441859897               635769                1308032   \n",
       "2  2016    3         490669308               660389                1591551   \n",
       "3  2016    4         377975447               525696                1775120   \n",
       "4  2016    5         449836631               605432                1438962   \n",
       "\n",
       "   Streams  media_canais  jogos_transmitidos  proporcao_de_espectadores  \n",
       "0  7701675         20076               12149                      29.08  \n",
       "1  7038520         20427               12134                      28.98  \n",
       "2  7390957         20271               12234                      28.92  \n",
       "3  6869719         16791               12282                      28.80  \n",
       "4  7535519         19394               12424                      28.85  "
      ]
     },
     "execution_count": 3,
     "metadata": {},
     "output_type": "execute_result"
    }
   ],
   "source": [
    "import pandas as pd\n",
    "import numpy as np\n",
    "\n",
    "data = pd.read_csv('Twitch_global_data.csv')\n",
    "\n",
    "data.rename(columns={\n",
    "    'year':'ano',\n",
    "    'Month':'mes',\n",
    "    'Hours_watched':'horas_assistidas',\n",
    "    'Avg_viewers':'media_visualizacoes',\n",
    "    'Peak_viewers':'pico_de_visualizacoes',\n",
    "    'Avg_channels':'media_canais',\n",
    "    'Games_streamed':'jogos_transmitidos',\n",
    "    'Viewer_ratio':'proporcao_de_espectadores',\n",
    "}, inplace=True)\n",
    "\n",
    "\n",
    "data.head()"
   ]
  },
  {
   "cell_type": "markdown",
   "id": "836cdba1",
   "metadata": {
    "heading_collapsed": true
   },
   "source": [
    "## Análises Matemáticas"
   ]
  },
  {
   "cell_type": "code",
   "execution_count": 4,
   "id": "1c062aea",
   "metadata": {
    "hidden": true,
    "scrolled": true
   },
   "outputs": [
    {
     "name": "stdout",
     "output_type": "stream",
     "text": [
      "<class 'pandas.core.frame.DataFrame'>\n",
      "RangeIndex: 85 entries, 0 to 84\n",
      "Data columns (total 9 columns):\n",
      " #   Column                     Non-Null Count  Dtype  \n",
      "---  ------                     --------------  -----  \n",
      " 0   ano                        85 non-null     int64  \n",
      " 1   mes                        85 non-null     int64  \n",
      " 2   horas_assistidas           85 non-null     int64  \n",
      " 3   media_visualizacoes        85 non-null     int64  \n",
      " 4   pico_de_visualizacoes      85 non-null     int64  \n",
      " 5   Streams                    85 non-null     int64  \n",
      " 6   media_canais               85 non-null     int64  \n",
      " 7   jogos_transmitidos         85 non-null     int64  \n",
      " 8   proporcao_de_espectadores  85 non-null     float64\n",
      "dtypes: float64(1), int64(8)\n",
      "memory usage: 6.1 KB\n"
     ]
    }
   ],
   "source": [
    "data.info()"
   ]
  },
  {
   "cell_type": "code",
   "execution_count": 5,
   "id": "b2166336",
   "metadata": {
    "hidden": true
   },
   "outputs": [
    {
     "data": {
      "text/plain": [
       "ano                          0\n",
       "mes                          0\n",
       "horas_assistidas             0\n",
       "media_visualizacoes          0\n",
       "pico_de_visualizacoes        0\n",
       "Streams                      0\n",
       "media_canais                 0\n",
       "jogos_transmitidos           0\n",
       "proporcao_de_espectadores    0\n",
       "dtype: int64"
      ]
     },
     "execution_count": 5,
     "metadata": {},
     "output_type": "execute_result"
    }
   ],
   "source": [
    "data.isnull().sum()"
   ]
  },
  {
   "cell_type": "code",
   "execution_count": 6,
   "id": "f0bd1fc2",
   "metadata": {
    "hidden": true
   },
   "outputs": [
    {
     "data": {
      "text/html": [
       "<div>\n",
       "<style scoped>\n",
       "    .dataframe tbody tr th:only-of-type {\n",
       "        vertical-align: middle;\n",
       "    }\n",
       "\n",
       "    .dataframe tbody tr th {\n",
       "        vertical-align: top;\n",
       "    }\n",
       "\n",
       "    .dataframe thead th {\n",
       "        text-align: right;\n",
       "    }\n",
       "</style>\n",
       "<table border=\"1\" class=\"dataframe\">\n",
       "  <thead>\n",
       "    <tr style=\"text-align: right;\">\n",
       "      <th></th>\n",
       "      <th>ano</th>\n",
       "      <th>mes</th>\n",
       "      <th>horas_assistidas</th>\n",
       "      <th>media_visualizacoes</th>\n",
       "      <th>pico_de_visualizacoes</th>\n",
       "      <th>Streams</th>\n",
       "      <th>media_canais</th>\n",
       "      <th>jogos_transmitidos</th>\n",
       "      <th>proporcao_de_espectadores</th>\n",
       "    </tr>\n",
       "  </thead>\n",
       "  <tbody>\n",
       "    <tr>\n",
       "      <th>count</th>\n",
       "      <td>85.000000</td>\n",
       "      <td>85.000000</td>\n",
       "      <td>8.500000e+01</td>\n",
       "      <td>8.500000e+01</td>\n",
       "      <td>8.500000e+01</td>\n",
       "      <td>8.500000e+01</td>\n",
       "      <td>85.000000</td>\n",
       "      <td>85.000000</td>\n",
       "      <td>85.000000</td>\n",
       "    </tr>\n",
       "    <tr>\n",
       "      <th>mean</th>\n",
       "      <td>2019.047059</td>\n",
       "      <td>6.435294</td>\n",
       "      <td>1.171561e+09</td>\n",
       "      <td>1.605636e+06</td>\n",
       "      <td>3.310116e+06</td>\n",
       "      <td>1.543479e+07</td>\n",
       "      <td>60414.117647</td>\n",
       "      <td>24771.341176</td>\n",
       "      <td>26.779176</td>\n",
       "    </tr>\n",
       "    <tr>\n",
       "      <th>std</th>\n",
       "      <td>2.046518</td>\n",
       "      <td>3.503220</td>\n",
       "      <td>6.218263e+08</td>\n",
       "      <td>8.522275e+05</td>\n",
       "      <td>1.637731e+06</td>\n",
       "      <td>6.240952e+06</td>\n",
       "      <td>33558.528869</td>\n",
       "      <td>10319.046780</td>\n",
       "      <td>1.588932</td>\n",
       "    </tr>\n",
       "    <tr>\n",
       "      <th>min</th>\n",
       "      <td>2016.000000</td>\n",
       "      <td>1.000000</td>\n",
       "      <td>3.628332e+08</td>\n",
       "      <td>5.046350e+05</td>\n",
       "      <td>1.186009e+06</td>\n",
       "      <td>5.507554e+06</td>\n",
       "      <td>16592.000000</td>\n",
       "      <td>12134.000000</td>\n",
       "      <td>22.650000</td>\n",
       "    </tr>\n",
       "    <tr>\n",
       "      <th>25%</th>\n",
       "      <td>2017.000000</td>\n",
       "      <td>3.000000</td>\n",
       "      <td>5.755515e+08</td>\n",
       "      <td>7.875870e+05</td>\n",
       "      <td>1.823848e+06</td>\n",
       "      <td>8.672879e+06</td>\n",
       "      <td>25810.000000</td>\n",
       "      <td>15962.000000</td>\n",
       "      <td>25.710000</td>\n",
       "    </tr>\n",
       "    <tr>\n",
       "      <th>50%</th>\n",
       "      <td>2019.000000</td>\n",
       "      <td>6.000000</td>\n",
       "      <td>9.166925e+08</td>\n",
       "      <td>1.264495e+06</td>\n",
       "      <td>2.692333e+06</td>\n",
       "      <td>1.505304e+07</td>\n",
       "      <td>48357.000000</td>\n",
       "      <td>20248.000000</td>\n",
       "      <td>26.890000</td>\n",
       "    </tr>\n",
       "    <tr>\n",
       "      <th>75%</th>\n",
       "      <td>2021.000000</td>\n",
       "      <td>9.000000</td>\n",
       "      <td>1.834840e+09</td>\n",
       "      <td>2.520330e+06</td>\n",
       "      <td>4.815581e+06</td>\n",
       "      <td>2.028536e+07</td>\n",
       "      <td>93867.000000</td>\n",
       "      <td>35577.000000</td>\n",
       "      <td>28.130000</td>\n",
       "    </tr>\n",
       "    <tr>\n",
       "      <th>max</th>\n",
       "      <td>2023.000000</td>\n",
       "      <td>12.000000</td>\n",
       "      <td>2.308295e+09</td>\n",
       "      <td>3.112681e+06</td>\n",
       "      <td>6.707070e+06</td>\n",
       "      <td>2.759115e+07</td>\n",
       "      <td>122763.000000</td>\n",
       "      <td>43611.000000</td>\n",
       "      <td>30.390000</td>\n",
       "    </tr>\n",
       "  </tbody>\n",
       "</table>\n",
       "</div>"
      ],
      "text/plain": [
       "               ano        mes  horas_assistidas  media_visualizacoes  \\\n",
       "count    85.000000  85.000000      8.500000e+01         8.500000e+01   \n",
       "mean   2019.047059   6.435294      1.171561e+09         1.605636e+06   \n",
       "std       2.046518   3.503220      6.218263e+08         8.522275e+05   \n",
       "min    2016.000000   1.000000      3.628332e+08         5.046350e+05   \n",
       "25%    2017.000000   3.000000      5.755515e+08         7.875870e+05   \n",
       "50%    2019.000000   6.000000      9.166925e+08         1.264495e+06   \n",
       "75%    2021.000000   9.000000      1.834840e+09         2.520330e+06   \n",
       "max    2023.000000  12.000000      2.308295e+09         3.112681e+06   \n",
       "\n",
       "       pico_de_visualizacoes       Streams   media_canais  jogos_transmitidos  \\\n",
       "count           8.500000e+01  8.500000e+01      85.000000           85.000000   \n",
       "mean            3.310116e+06  1.543479e+07   60414.117647        24771.341176   \n",
       "std             1.637731e+06  6.240952e+06   33558.528869        10319.046780   \n",
       "min             1.186009e+06  5.507554e+06   16592.000000        12134.000000   \n",
       "25%             1.823848e+06  8.672879e+06   25810.000000        15962.000000   \n",
       "50%             2.692333e+06  1.505304e+07   48357.000000        20248.000000   \n",
       "75%             4.815581e+06  2.028536e+07   93867.000000        35577.000000   \n",
       "max             6.707070e+06  2.759115e+07  122763.000000        43611.000000   \n",
       "\n",
       "       proporcao_de_espectadores  \n",
       "count                  85.000000  \n",
       "mean                   26.779176  \n",
       "std                     1.588932  \n",
       "min                    22.650000  \n",
       "25%                    25.710000  \n",
       "50%                    26.890000  \n",
       "75%                    28.130000  \n",
       "max                    30.390000  "
      ]
     },
     "execution_count": 6,
     "metadata": {},
     "output_type": "execute_result"
    }
   ],
   "source": [
    "data.describe()"
   ]
  },
  {
   "cell_type": "markdown",
   "id": "53edd714",
   "metadata": {},
   "source": [
    "## Etapa Projeto"
   ]
  },
  {
   "cell_type": "markdown",
   "id": "22d1d7c4",
   "metadata": {
    "heading_collapsed": true
   },
   "source": [
    "### Médias por HA e MV"
   ]
  },
  {
   "cell_type": "code",
   "execution_count": 64,
   "id": "f1d8ae19",
   "metadata": {
    "hidden": true
   },
   "outputs": [
    {
     "data": {
      "text/html": [
       "<div>\n",
       "<style scoped>\n",
       "    .dataframe tbody tr th:only-of-type {\n",
       "        vertical-align: middle;\n",
       "    }\n",
       "\n",
       "    .dataframe tbody tr th {\n",
       "        vertical-align: top;\n",
       "    }\n",
       "\n",
       "    .dataframe thead th {\n",
       "        text-align: right;\n",
       "    }\n",
       "</style>\n",
       "<table border=\"1\" class=\"dataframe\">\n",
       "  <thead>\n",
       "    <tr style=\"text-align: right;\">\n",
       "      <th></th>\n",
       "      <th>ano</th>\n",
       "      <th>mes</th>\n",
       "      <th>horas_assistidas</th>\n",
       "      <th>media_visualizacoes</th>\n",
       "      <th>pico_de_visualizacoes</th>\n",
       "      <th>Streams</th>\n",
       "      <th>media_canais</th>\n",
       "      <th>jogos_transmitidos</th>\n",
       "      <th>proporcao_de_espectadores</th>\n",
       "    </tr>\n",
       "  </thead>\n",
       "  <tbody>\n",
       "    <tr>\n",
       "      <th>0</th>\n",
       "      <td>2016</td>\n",
       "      <td>1</td>\n",
       "      <td>480241904</td>\n",
       "      <td>646355</td>\n",
       "      <td>1275257</td>\n",
       "      <td>7701675</td>\n",
       "      <td>20076</td>\n",
       "      <td>12149</td>\n",
       "      <td>29.08</td>\n",
       "    </tr>\n",
       "    <tr>\n",
       "      <th>1</th>\n",
       "      <td>2016</td>\n",
       "      <td>2</td>\n",
       "      <td>441859897</td>\n",
       "      <td>635769</td>\n",
       "      <td>1308032</td>\n",
       "      <td>7038520</td>\n",
       "      <td>20427</td>\n",
       "      <td>12134</td>\n",
       "      <td>28.98</td>\n",
       "    </tr>\n",
       "    <tr>\n",
       "      <th>2</th>\n",
       "      <td>2016</td>\n",
       "      <td>3</td>\n",
       "      <td>490669308</td>\n",
       "      <td>660389</td>\n",
       "      <td>1591551</td>\n",
       "      <td>7390957</td>\n",
       "      <td>20271</td>\n",
       "      <td>12234</td>\n",
       "      <td>28.92</td>\n",
       "    </tr>\n",
       "    <tr>\n",
       "      <th>3</th>\n",
       "      <td>2016</td>\n",
       "      <td>4</td>\n",
       "      <td>377975447</td>\n",
       "      <td>525696</td>\n",
       "      <td>1775120</td>\n",
       "      <td>6869719</td>\n",
       "      <td>16791</td>\n",
       "      <td>12282</td>\n",
       "      <td>28.80</td>\n",
       "    </tr>\n",
       "    <tr>\n",
       "      <th>4</th>\n",
       "      <td>2016</td>\n",
       "      <td>5</td>\n",
       "      <td>449836631</td>\n",
       "      <td>605432</td>\n",
       "      <td>1438962</td>\n",
       "      <td>7535519</td>\n",
       "      <td>19394</td>\n",
       "      <td>12424</td>\n",
       "      <td>28.85</td>\n",
       "    </tr>\n",
       "  </tbody>\n",
       "</table>\n",
       "</div>"
      ],
      "text/plain": [
       "    ano  mes  horas_assistidas  media_visualizacoes  pico_de_visualizacoes  \\\n",
       "0  2016    1         480241904               646355                1275257   \n",
       "1  2016    2         441859897               635769                1308032   \n",
       "2  2016    3         490669308               660389                1591551   \n",
       "3  2016    4         377975447               525696                1775120   \n",
       "4  2016    5         449836631               605432                1438962   \n",
       "\n",
       "   Streams  media_canais  jogos_transmitidos  proporcao_de_espectadores  \n",
       "0  7701675         20076               12149                      29.08  \n",
       "1  7038520         20427               12134                      28.98  \n",
       "2  7390957         20271               12234                      28.92  \n",
       "3  6869719         16791               12282                      28.80  \n",
       "4  7535519         19394               12424                      28.85  "
      ]
     },
     "execution_count": 64,
     "metadata": {},
     "output_type": "execute_result"
    }
   ],
   "source": [
    "data.head()"
   ]
  },
  {
   "cell_type": "code",
   "execution_count": 52,
   "id": "855c9a5d",
   "metadata": {
    "hidden": true
   },
   "outputs": [
    {
     "data": {
      "text/plain": [
       "((2021, 5, 2308295297, 3106723), (2016, 9, 362833210, 504635))"
      ]
     },
     "execution_count": 52,
     "metadata": {},
     "output_type": "execute_result"
    }
   ],
   "source": [
    "maior_horas = data.groupby(['ano', 'mes', 'horas_assistidas', 'media_visualizacoes'])['horas_assistidas'].sum().idxmax()\n",
    "menor_horas = data.groupby(['ano', 'mes', 'horas_assistidas', 'media_visualizacoes'])['horas_assistidas'].sum().idxmin()\n",
    "maior_horas, menor_horas"
   ]
  },
  {
   "cell_type": "markdown",
   "id": "c21cb358",
   "metadata": {
    "hidden": true
   },
   "source": [
    "<b><i>O maior número de horas assistidas foi de 2308295297 horas com 3106723 médias visualizações no mês 5 do ano 2021. O menor número de horas assistidas foi de 362833210 horas com 504635 médias visualizações no mês 9 do ano 2016.</i></b>"
   ]
  },
  {
   "cell_type": "code",
   "execution_count": 51,
   "id": "f63df78b",
   "metadata": {
    "hidden": true
   },
   "outputs": [
    {
     "data": {
      "text/plain": [
       "((2021, 4, 2238018281, 3112681), (2016, 9, 362833210, 504635))"
      ]
     },
     "execution_count": 51,
     "metadata": {},
     "output_type": "execute_result"
    }
   ],
   "source": [
    "maior_visus = data.groupby(['ano', 'mes', 'horas_assistidas', 'media_visualizacoes'])['media_visualizacoes'].sum().idxmax()\n",
    "menor_visus = data.groupby(['ano', 'mes', 'horas_assistidas', 'media_visualizacoes'])['media_visualizacoes'].sum().idxmin()\n",
    "\n",
    "maior_visus, menor_visus"
   ]
  },
  {
   "cell_type": "markdown",
   "id": "c44ed747",
   "metadata": {
    "hidden": true
   },
   "source": [
    "<b><i>A maior média de visualizações foi de 3112681 visualizações no mês 4 do ano 2021 com 2238018281 horas assistidas. A menor média de visualizações foi de 504635 visualizações no mês 9 do ano 2016 com 362833210 horas assistidas.</i></b>"
   ]
  },
  {
   "cell_type": "code",
   "execution_count": 55,
   "id": "9097900a",
   "metadata": {
    "hidden": true
   },
   "outputs": [
    {
     "name": "stdout",
     "output_type": "stream",
     "text": [
      "A maior média de horas assistidas por visualizações foi de 743.00\n",
      "A menor média de horas assistidas por visualizações foi de 719.00\n"
     ]
    }
   ],
   "source": [
    "print(f'A maior média de horas assistidas por visualizações foi de {maior_horas[2] / maior_horas[-1]:.2f}')\n",
    "print(f'A menor média de horas assistidas por visualizações foi de {menor_horas[2] / menor_horas[-1]:.2f}')"
   ]
  },
  {
   "cell_type": "code",
   "execution_count": 58,
   "id": "2ac73d23",
   "metadata": {
    "hidden": true
   },
   "outputs": [
    {
     "name": "stdout",
     "output_type": "stream",
     "text": [
      "A maior média de visualizações por horas assistidas foi de 719.00\n",
      "A menor média de visualizações por horas assistidas foi de 719.00\n"
     ]
    }
   ],
   "source": [
    "print(f'A maior média de visualizações por horas assistidas foi de {maior_visus[2] / maior_visus[-1]:.2f}')\n",
    "print(f'A menor média de visualizações por horas assistidas foi de {menor_visus[2] / menor_visus[-1]:.2f}')"
   ]
  },
  {
   "cell_type": "markdown",
   "id": "f3caf74a",
   "metadata": {
    "hidden": true
   },
   "source": [
    "<b><i> Há uma diferença de anos entre as datas e os valores analisados, porém, pode se perceber que eles são iguais.</i></b>"
   ]
  },
  {
   "cell_type": "markdown",
   "id": "f803ff06",
   "metadata": {},
   "source": [
    "### Valores médios por mês e ano"
   ]
  },
  {
   "cell_type": "markdown",
   "id": "e2dce655",
   "metadata": {},
   "source": [
    "0, 11 -> 2016  <br>\n",
    "12, 23 -> 2017 <br>\n",
    "24, 35 -> 2018 <br>\n",
    "36, 47 -> 2019 <br>\n",
    "48, 59 -> 2020 <br>\n",
    "60, 71 -> 2021 <br>\n",
    "72, 83 -> 2022 <br>\n",
    "84 -> 2023 <br>\n",
    "\n",
    "<b>Eu quero saber as médias mensais e anuais de horas assistidas por número de visualizações</b>"
   ]
  },
  {
   "cell_type": "code",
   "execution_count": 20,
   "id": "bfea18d5",
   "metadata": {},
   "outputs": [],
   "source": [
    "def analisaMedias(horas:list(), visus:list()):\n",
    "    aux = []\n",
    "    total = []\n",
    "    ano = 2016\n",
    "    for x in range(85):\n",
    "        if x < 12:\n",
    "            aux.append(horas[x] / visus[x])\n",
    "            if x == 11:\n",
    "                aux.append(sum(horas[0:12]) / sum(visus[0:12]))\n",
    "                aux.insert(0, ano)\n",
    "                total.append(aux[:])\n",
    "                aux.clear()\n",
    "        elif 24 > x > 11:\n",
    "            aux.append(horas[x] / visus[x])\n",
    "            if x == 23:\n",
    "                aux.append(sum(horas[11:24]) / sum(visus[11:24]))\n",
    "                aux.insert(0, ano + 1)\n",
    "                total.append(aux[:])\n",
    "                aux.clear()\n",
    "        elif 36 > x > 23:\n",
    "            aux.append(horas[x] / visus[x])\n",
    "            if x == 35:\n",
    "                aux.append(sum(horas[24:36]) / sum(visus[24:36]))\n",
    "                aux.insert(0, ano + 2)\n",
    "                total.append(aux[:])\n",
    "                aux.clear()\n",
    "        elif 48 > x > 35:\n",
    "            aux.append(horas[x] / visus[x])\n",
    "            if x == 47:\n",
    "                aux.append(sum(horas[36:48]) / sum(visus[36:48]))\n",
    "                aux.insert(0, ano + 3)\n",
    "                total.append(aux[:])\n",
    "                aux.clear()\n",
    "        elif 60 > x > 47:\n",
    "            aux.append(horas[x] / visus[x])\n",
    "            if x == 59:\n",
    "                aux.append(sum(horas[48:60]) / sum(visus[48:60]))\n",
    "                aux.insert(0, ano + 4)\n",
    "                total.append(aux[:])\n",
    "                aux.clear()         \n",
    "        elif 72 > x > 59:\n",
    "            aux.append(horas[x] / visus[x])\n",
    "            if x == 71:\n",
    "                aux.append(sum(horas[60:72]) / sum(visus[60:72]))\n",
    "                aux.insert(0, ano + 5) \n",
    "                total.append(aux[:])\n",
    "                aux.clear()\n",
    "        elif 84 > x > 71:\n",
    "            aux.append(horas[x] / visus[x])\n",
    "            if x == 83:\n",
    "                aux.append(sum(horas[72:84]) / sum(visus[72:84]))\n",
    "                aux.insert(0, ano + 6)\n",
    "                total.append(aux[:])\n",
    "                aux.clear()       \n",
    "        else:\n",
    "            aux.append(horas[x] / visus[x])\n",
    "            if x == 84:\n",
    "                aux.append((horas[-1]) / (visus[-1]))\n",
    "                aux.insert(0, ano + 7)\n",
    "                total.append(aux[:])\n",
    "                aux.clear()\n",
    "    return total\n",
    "\n",
    "   \n",
    "        "
   ]
  },
  {
   "cell_type": "code",
   "execution_count": 21,
   "id": "1c1ae4a5",
   "metadata": {},
   "outputs": [],
   "source": [
    "horas_assistidas = [ dados for dados in data['horas_assistidas']]\n",
    "media_visualizacoes = [dados for dados in data['media_visualizacoes']]\n",
    "\n",
    "total_medias = analisaMedias(horas_assistidas, media_visualizacoes)"
   ]
  },
  {
   "cell_type": "markdown",
   "id": "e143c7ec",
   "metadata": {},
   "source": [
    "A variável <b>total_medias</b> corresponde a uma lista com outras 8 listas dentro de si. Cada lista dessas possui 1 determinado ano como valor inicial, 12 valores de médias mensais de horas assistidas por número de espectadores e, por fim, um valor de média anual do total de horas assistidas pelo total de espectadores anuais."
   ]
  },
  {
   "cell_type": "code",
   "execution_count": 26,
   "id": "f572d9ed",
   "metadata": {},
   "outputs": [],
   "source": [
    "maiores = []\n",
    "minimos = []\n",
    "\n",
    "for x in total_medias:\n",
    "    maiores.append(f'O maior valor médio de horas por visus do ano {x[0]} é {max(x[1:-1]):.2f} no mês {x.index(max(x[1:-1]))}')\n",
    "    minimos.append(f'O menor valor médio de horas por visus do ano {x[0]} é {min(x[1:-1]):.2f} no mês {x.index(min(x[1:-1]))}')"
   ]
  },
  {
   "cell_type": "code",
   "execution_count": 27,
   "id": "372d25d7",
   "metadata": {
    "scrolled": true
   },
   "outputs": [
    {
     "data": {
      "text/plain": [
       "(['O maior valor médio de horas por visus do ano 2016 é 743.00 no mês 8',\n",
       "  'O maior valor médio de horas por visus do ano 2017 é 743.00 no mês 1',\n",
       "  'O maior valor médio de horas por visus do ano 2018 é 743.00 no mês 5',\n",
       "  'O maior valor médio de horas por visus do ano 2019 é 743.00 no mês 3',\n",
       "  'O maior valor médio de horas por visus do ano 2020 é 743.00 no mês 1',\n",
       "  'O maior valor médio de horas por visus do ano 2021 é 743.00 no mês 8',\n",
       "  'O maior valor médio de horas por visus do ano 2022 é 743.00 no mês 10',\n",
       "  'O maior valor médio de horas por visus do ano 2023 é 743.00 no mês 1'],\n",
       " ['O menor valor médio de horas por visus do ano 2016 é 695.00 no mês 2',\n",
       "  'O menor valor médio de horas por visus do ano 2017 é 671.00 no mês 2',\n",
       "  'O menor valor médio de horas por visus do ano 2018 é 671.00 no mês 2',\n",
       "  'O menor valor médio de horas por visus do ano 2019 é 671.00 no mês 2',\n",
       "  'O menor valor médio de horas por visus do ano 2020 é 695.00 no mês 2',\n",
       "  'O menor valor médio de horas por visus do ano 2021 é 671.00 no mês 2',\n",
       "  'O menor valor médio de horas por visus do ano 2022 é 671.00 no mês 2',\n",
       "  'O menor valor médio de horas por visus do ano 2023 é 743.00 no mês 1'])"
      ]
     },
     "execution_count": 27,
     "metadata": {},
     "output_type": "execute_result"
    }
   ],
   "source": [
    "maiores, minimos"
   ]
  },
  {
   "cell_type": "markdown",
   "id": "58cb31b2",
   "metadata": {},
   "source": [
    "### Proporção de espectadores "
   ]
  },
  {
   "cell_type": "code",
   "execution_count": 62,
   "id": "3e3c8658",
   "metadata": {},
   "outputs": [
    {
     "data": {
      "text/html": [
       "<div>\n",
       "<style scoped>\n",
       "    .dataframe tbody tr th:only-of-type {\n",
       "        vertical-align: middle;\n",
       "    }\n",
       "\n",
       "    .dataframe tbody tr th {\n",
       "        vertical-align: top;\n",
       "    }\n",
       "\n",
       "    .dataframe thead th {\n",
       "        text-align: right;\n",
       "    }\n",
       "</style>\n",
       "<table border=\"1\" class=\"dataframe\">\n",
       "  <thead>\n",
       "    <tr style=\"text-align: right;\">\n",
       "      <th></th>\n",
       "      <th>ano</th>\n",
       "      <th>mes</th>\n",
       "      <th>horas_assistidas</th>\n",
       "      <th>media_visualizacoes</th>\n",
       "      <th>pico_de_visualizacoes</th>\n",
       "      <th>Streams</th>\n",
       "      <th>media_canais</th>\n",
       "      <th>jogos_transmitidos</th>\n",
       "      <th>proporcao_de_espectadores</th>\n",
       "    </tr>\n",
       "  </thead>\n",
       "  <tbody>\n",
       "    <tr>\n",
       "      <th>0</th>\n",
       "      <td>2016</td>\n",
       "      <td>1</td>\n",
       "      <td>480241904</td>\n",
       "      <td>646355</td>\n",
       "      <td>1275257</td>\n",
       "      <td>7701675</td>\n",
       "      <td>20076</td>\n",
       "      <td>12149</td>\n",
       "      <td>29.08</td>\n",
       "    </tr>\n",
       "    <tr>\n",
       "      <th>1</th>\n",
       "      <td>2016</td>\n",
       "      <td>2</td>\n",
       "      <td>441859897</td>\n",
       "      <td>635769</td>\n",
       "      <td>1308032</td>\n",
       "      <td>7038520</td>\n",
       "      <td>20427</td>\n",
       "      <td>12134</td>\n",
       "      <td>28.98</td>\n",
       "    </tr>\n",
       "    <tr>\n",
       "      <th>2</th>\n",
       "      <td>2016</td>\n",
       "      <td>3</td>\n",
       "      <td>490669308</td>\n",
       "      <td>660389</td>\n",
       "      <td>1591551</td>\n",
       "      <td>7390957</td>\n",
       "      <td>20271</td>\n",
       "      <td>12234</td>\n",
       "      <td>28.92</td>\n",
       "    </tr>\n",
       "    <tr>\n",
       "      <th>3</th>\n",
       "      <td>2016</td>\n",
       "      <td>4</td>\n",
       "      <td>377975447</td>\n",
       "      <td>525696</td>\n",
       "      <td>1775120</td>\n",
       "      <td>6869719</td>\n",
       "      <td>16791</td>\n",
       "      <td>12282</td>\n",
       "      <td>28.80</td>\n",
       "    </tr>\n",
       "    <tr>\n",
       "      <th>4</th>\n",
       "      <td>2016</td>\n",
       "      <td>5</td>\n",
       "      <td>449836631</td>\n",
       "      <td>605432</td>\n",
       "      <td>1438962</td>\n",
       "      <td>7535519</td>\n",
       "      <td>19394</td>\n",
       "      <td>12424</td>\n",
       "      <td>28.85</td>\n",
       "    </tr>\n",
       "  </tbody>\n",
       "</table>\n",
       "</div>"
      ],
      "text/plain": [
       "    ano  mes  horas_assistidas  media_visualizacoes  pico_de_visualizacoes  \\\n",
       "0  2016    1         480241904               646355                1275257   \n",
       "1  2016    2         441859897               635769                1308032   \n",
       "2  2016    3         490669308               660389                1591551   \n",
       "3  2016    4         377975447               525696                1775120   \n",
       "4  2016    5         449836631               605432                1438962   \n",
       "\n",
       "   Streams  media_canais  jogos_transmitidos  proporcao_de_espectadores  \n",
       "0  7701675         20076               12149                      29.08  \n",
       "1  7038520         20427               12134                      28.98  \n",
       "2  7390957         20271               12234                      28.92  \n",
       "3  6869719         16791               12282                      28.80  \n",
       "4  7535519         19394               12424                      28.85  "
      ]
     },
     "execution_count": 62,
     "metadata": {},
     "output_type": "execute_result"
    }
   ],
   "source": [
    "data.head()"
   ]
  },
  {
   "cell_type": "code",
   "execution_count": 30,
   "id": "0903d005",
   "metadata": {},
   "outputs": [
    {
     "data": {
      "text/plain": [
       "(2016, 1, 29.08)"
      ]
     },
     "execution_count": 30,
     "metadata": {},
     "output_type": "execute_result"
    }
   ],
   "source": [
    "data[data['ano'] == 2016].groupby(['ano', 'mes', 'proporcao_de_espectadores'])['proporcao_de_espectadores'].sum().idxmax()"
   ]
  },
  {
   "cell_type": "code",
   "execution_count": 13,
   "id": "d2a154c5",
   "metadata": {},
   "outputs": [
    {
     "data": {
      "text/plain": [
       "(2017, 1, 28.07)"
      ]
     },
     "execution_count": 13,
     "metadata": {},
     "output_type": "execute_result"
    }
   ],
   "source": [
    "data[data['ano'] == 2017].groupby(['ano', 'mes', 'proporcao_de_espectadores'])['proporcao_de_espectadores'].sum().idxmax()"
   ]
  },
  {
   "cell_type": "code",
   "execution_count": 14,
   "id": "b3e5cf4c",
   "metadata": {},
   "outputs": [
    {
     "data": {
      "text/plain": [
       "(2018, 1, 26.02)"
      ]
     },
     "execution_count": 14,
     "metadata": {},
     "output_type": "execute_result"
    }
   ],
   "source": [
    "data[data['ano'] == 2018].groupby(['ano', 'mes', 'proporcao_de_espectadores'])['proporcao_de_espectadores'].sum().idxmax()"
   ]
  },
  {
   "cell_type": "code",
   "execution_count": 15,
   "id": "8b932fd5",
   "metadata": {},
   "outputs": [
    {
     "data": {
      "text/plain": [
       "(2019, 8, 28.26)"
      ]
     },
     "execution_count": 15,
     "metadata": {},
     "output_type": "execute_result"
    }
   ],
   "source": [
    "data[data['ano'] == 2019].groupby(['ano', 'mes', 'proporcao_de_espectadores'])['proporcao_de_espectadores'].sum().idxmax()"
   ]
  },
  {
   "cell_type": "code",
   "execution_count": 16,
   "id": "104b0a60",
   "metadata": {},
   "outputs": [
    {
     "data": {
      "text/plain": [
       "(2020, 4, 26.79)"
      ]
     },
     "execution_count": 16,
     "metadata": {},
     "output_type": "execute_result"
    }
   ],
   "source": [
    "data[data['ano'] == 2020].groupby(['ano', 'mes', 'proporcao_de_espectadores'])['proporcao_de_espectadores'].sum().idxmax()"
   ]
  },
  {
   "cell_type": "code",
   "execution_count": 17,
   "id": "71764aae",
   "metadata": {},
   "outputs": [
    {
     "data": {
      "text/plain": [
       "(2021, 10, 30.39)"
      ]
     },
     "execution_count": 17,
     "metadata": {},
     "output_type": "execute_result"
    }
   ],
   "source": [
    "data[data['ano'] == 2021].groupby(['ano', 'mes', 'proporcao_de_espectadores'])['proporcao_de_espectadores'].sum().idxmax()"
   ]
  },
  {
   "cell_type": "code",
   "execution_count": 18,
   "id": "94a08473",
   "metadata": {},
   "outputs": [
    {
     "data": {
      "text/plain": [
       "(2022, 5, 29.4)"
      ]
     },
     "execution_count": 18,
     "metadata": {},
     "output_type": "execute_result"
    }
   ],
   "source": [
    "data[data['ano'] == 2022].groupby(['ano', 'mes', 'proporcao_de_espectadores'])['proporcao_de_espectadores'].sum().idxmax()"
   ]
  },
  {
   "cell_type": "code",
   "execution_count": 19,
   "id": "8d562044",
   "metadata": {},
   "outputs": [
    {
     "data": {
      "text/plain": [
       "(2023, 1, 27.44)"
      ]
     },
     "execution_count": 19,
     "metadata": {},
     "output_type": "execute_result"
    }
   ],
   "source": [
    "data[data['ano'] == 2023].groupby(['ano', 'mes', 'proporcao_de_espectadores'])['proporcao_de_espectadores'].sum().idxmax()"
   ]
  },
  {
   "cell_type": "code",
   "execution_count": 92,
   "id": "721eee20",
   "metadata": {},
   "outputs": [
    {
     "data": {
      "text/plain": [
       "((18209793, 30.39, 91858), (18859473, 22.65, 95781))"
      ]
     },
     "execution_count": 92,
     "metadata": {},
     "output_type": "execute_result"
    }
   ],
   "source": [
    "pico = data.groupby(['Streams', 'proporcao_de_espectadores', 'media_canais'])['proporcao_de_espectadores'].sum().idxmax()\n",
    "base = data.groupby(['Streams', 'proporcao_de_espectadores', 'media_canais'])['proporcao_de_espectadores'].sum().idxmin()\n",
    "\n",
    "pico, base"
   ]
  },
  {
   "cell_type": "markdown",
   "id": "934bddea",
   "metadata": {},
   "source": [
    "<b><i>O que se pode subentender dos dados acima é que não necessariamente o pico de espectadores está relacionado com os totais máximos de (1) canais, (2) transmissões e (3) números de streams ou até mesmo (4) com a média de visualizações"
   ]
  }
 ],
 "metadata": {
  "kernelspec": {
   "display_name": "Python 3 (ipykernel)",
   "language": "python",
   "name": "python3"
  },
  "language_info": {
   "codemirror_mode": {
    "name": "ipython",
    "version": 3
   },
   "file_extension": ".py",
   "mimetype": "text/x-python",
   "name": "python",
   "nbconvert_exporter": "python",
   "pygments_lexer": "ipython3",
   "version": "3.9.7"
  },
  "vscode": {
   "interpreter": {
    "hash": "7e65d11a531aceda4139f11a64816fba4d738780e1efebb5d97b945e13dbf626"
   }
  }
 },
 "nbformat": 4,
 "nbformat_minor": 5
}
