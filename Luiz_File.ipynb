{
 "cells": [
  {
   "cell_type": "markdown",
   "id": "61187dd2",
   "metadata": {},
   "source": [
    "## Cabeçalho"
   ]
  },
  {
   "cell_type": "code",
   "execution_count": 86,
   "id": "0ccad252",
   "metadata": {
    "scrolled": true
   },
   "outputs": [
    {
     "data": {
      "text/html": [
       "<div>\n",
       "<style scoped>\n",
       "    .dataframe tbody tr th:only-of-type {\n",
       "        vertical-align: middle;\n",
       "    }\n",
       "\n",
       "    .dataframe tbody tr th {\n",
       "        vertical-align: top;\n",
       "    }\n",
       "\n",
       "    .dataframe thead th {\n",
       "        text-align: right;\n",
       "    }\n",
       "</style>\n",
       "<table border=\"1\" class=\"dataframe\">\n",
       "  <thead>\n",
       "    <tr style=\"text-align: right;\">\n",
       "      <th></th>\n",
       "      <th>ano</th>\n",
       "      <th>mes</th>\n",
       "      <th>horas_assistidas</th>\n",
       "      <th>media_visualizacoes</th>\n",
       "      <th>pico_de_visualizacoes</th>\n",
       "      <th>Streams</th>\n",
       "      <th>media_canais</th>\n",
       "      <th>jogos_transmitidos</th>\n",
       "      <th>proporcao_de_espectadores</th>\n",
       "    </tr>\n",
       "  </thead>\n",
       "  <tbody>\n",
       "    <tr>\n",
       "      <th>80</th>\n",
       "      <td>2022</td>\n",
       "      <td>9</td>\n",
       "      <td>1817119612</td>\n",
       "      <td>2527287</td>\n",
       "      <td>4678056</td>\n",
       "      <td>22278079</td>\n",
       "      <td>90376</td>\n",
       "      <td>41863</td>\n",
       "      <td>28.37</td>\n",
       "    </tr>\n",
       "    <tr>\n",
       "      <th>81</th>\n",
       "      <td>2022</td>\n",
       "      <td>10</td>\n",
       "      <td>1883320673</td>\n",
       "      <td>2534751</td>\n",
       "      <td>4610799</td>\n",
       "      <td>22867973</td>\n",
       "      <td>90557</td>\n",
       "      <td>42164</td>\n",
       "      <td>28.35</td>\n",
       "    </tr>\n",
       "    <tr>\n",
       "      <th>82</th>\n",
       "      <td>2022</td>\n",
       "      <td>11</td>\n",
       "      <td>1694262814</td>\n",
       "      <td>2356415</td>\n",
       "      <td>5362892</td>\n",
       "      <td>21744817</td>\n",
       "      <td>88195</td>\n",
       "      <td>41058</td>\n",
       "      <td>26.84</td>\n",
       "    </tr>\n",
       "    <tr>\n",
       "      <th>83</th>\n",
       "      <td>2022</td>\n",
       "      <td>12</td>\n",
       "      <td>1674092138</td>\n",
       "      <td>2253152</td>\n",
       "      <td>3866814</td>\n",
       "      <td>21753674</td>\n",
       "      <td>84728</td>\n",
       "      <td>41548</td>\n",
       "      <td>27.00</td>\n",
       "    </tr>\n",
       "    <tr>\n",
       "      <th>84</th>\n",
       "      <td>2023</td>\n",
       "      <td>1</td>\n",
       "      <td>1866962462</td>\n",
       "      <td>2512735</td>\n",
       "      <td>5593050</td>\n",
       "      <td>24429476</td>\n",
       "      <td>93349</td>\n",
       "      <td>43611</td>\n",
       "      <td>27.44</td>\n",
       "    </tr>\n",
       "  </tbody>\n",
       "</table>\n",
       "</div>"
      ],
      "text/plain": [
       "     ano  mes  horas_assistidas  media_visualizacoes  pico_de_visualizacoes  \\\n",
       "80  2022    9        1817119612              2527287                4678056   \n",
       "81  2022   10        1883320673              2534751                4610799   \n",
       "82  2022   11        1694262814              2356415                5362892   \n",
       "83  2022   12        1674092138              2253152                3866814   \n",
       "84  2023    1        1866962462              2512735                5593050   \n",
       "\n",
       "     Streams  media_canais  jogos_transmitidos  proporcao_de_espectadores  \n",
       "80  22278079         90376               41863                      28.37  \n",
       "81  22867973         90557               42164                      28.35  \n",
       "82  21744817         88195               41058                      26.84  \n",
       "83  21753674         84728               41548                      27.00  \n",
       "84  24429476         93349               43611                      27.44  "
      ]
     },
     "execution_count": 86,
     "metadata": {},
     "output_type": "execute_result"
    }
   ],
   "source": [
    "import pandas as pd\n",
    "import numpy as np\n",
    "\n",
    "data = pd.read_csv('Twitch_global_data.csv')\n",
    "\n",
    "data.rename(columns={\n",
    "    'year':'ano',\n",
    "    'Month':'mes',\n",
    "    'Hours_watched':'horas_assistidas',\n",
    "    'Avg_viewers':'media_visualizacoes',\n",
    "    'Peak_viewers':'pico_de_visualizacoes',\n",
    "    'Avg_channels':'media_canais',\n",
    "    'Games_streamed':'jogos_transmitidos',\n",
    "    'Viewer_ratio':'proporcao_de_espectadores',\n",
    "}, inplace=True)\n",
    "\n",
    "data.tail()"
   ]
  },
  {
   "cell_type": "markdown",
   "id": "13795c9d",
   "metadata": {},
   "source": [
    "<b><i>Nota: Dada as circunstâncias do ano 2023, por ter apenas o mês de janeiro como referência, o trataremos como um outlier. O valor não será removido ou alterado, porém, em certos casos, poderá ser ignorado.</i></b>"
   ]
  },
  {
   "cell_type": "markdown",
   "id": "53edd714",
   "metadata": {
    "heading_collapsed": true
   },
   "source": [
    "## Etapa Projeto"
   ]
  },
  {
   "cell_type": "markdown",
   "id": "22d1d7c4",
   "metadata": {
    "heading_collapsed": true,
    "hidden": true
   },
   "source": [
    "### Médias por HA e MV"
   ]
  },
  {
   "cell_type": "code",
   "execution_count": 64,
   "id": "f1d8ae19",
   "metadata": {
    "hidden": true
   },
   "outputs": [
    {
     "data": {
      "text/html": [
       "<div>\n",
       "<style scoped>\n",
       "    .dataframe tbody tr th:only-of-type {\n",
       "        vertical-align: middle;\n",
       "    }\n",
       "\n",
       "    .dataframe tbody tr th {\n",
       "        vertical-align: top;\n",
       "    }\n",
       "\n",
       "    .dataframe thead th {\n",
       "        text-align: right;\n",
       "    }\n",
       "</style>\n",
       "<table border=\"1\" class=\"dataframe\">\n",
       "  <thead>\n",
       "    <tr style=\"text-align: right;\">\n",
       "      <th></th>\n",
       "      <th>ano</th>\n",
       "      <th>mes</th>\n",
       "      <th>horas_assistidas</th>\n",
       "      <th>media_visualizacoes</th>\n",
       "      <th>pico_de_visualizacoes</th>\n",
       "      <th>Streams</th>\n",
       "      <th>media_canais</th>\n",
       "      <th>jogos_transmitidos</th>\n",
       "      <th>proporcao_de_espectadores</th>\n",
       "    </tr>\n",
       "  </thead>\n",
       "  <tbody>\n",
       "    <tr>\n",
       "      <th>0</th>\n",
       "      <td>2016</td>\n",
       "      <td>1</td>\n",
       "      <td>480241904</td>\n",
       "      <td>646355</td>\n",
       "      <td>1275257</td>\n",
       "      <td>7701675</td>\n",
       "      <td>20076</td>\n",
       "      <td>12149</td>\n",
       "      <td>29.08</td>\n",
       "    </tr>\n",
       "    <tr>\n",
       "      <th>1</th>\n",
       "      <td>2016</td>\n",
       "      <td>2</td>\n",
       "      <td>441859897</td>\n",
       "      <td>635769</td>\n",
       "      <td>1308032</td>\n",
       "      <td>7038520</td>\n",
       "      <td>20427</td>\n",
       "      <td>12134</td>\n",
       "      <td>28.98</td>\n",
       "    </tr>\n",
       "    <tr>\n",
       "      <th>2</th>\n",
       "      <td>2016</td>\n",
       "      <td>3</td>\n",
       "      <td>490669308</td>\n",
       "      <td>660389</td>\n",
       "      <td>1591551</td>\n",
       "      <td>7390957</td>\n",
       "      <td>20271</td>\n",
       "      <td>12234</td>\n",
       "      <td>28.92</td>\n",
       "    </tr>\n",
       "    <tr>\n",
       "      <th>3</th>\n",
       "      <td>2016</td>\n",
       "      <td>4</td>\n",
       "      <td>377975447</td>\n",
       "      <td>525696</td>\n",
       "      <td>1775120</td>\n",
       "      <td>6869719</td>\n",
       "      <td>16791</td>\n",
       "      <td>12282</td>\n",
       "      <td>28.80</td>\n",
       "    </tr>\n",
       "    <tr>\n",
       "      <th>4</th>\n",
       "      <td>2016</td>\n",
       "      <td>5</td>\n",
       "      <td>449836631</td>\n",
       "      <td>605432</td>\n",
       "      <td>1438962</td>\n",
       "      <td>7535519</td>\n",
       "      <td>19394</td>\n",
       "      <td>12424</td>\n",
       "      <td>28.85</td>\n",
       "    </tr>\n",
       "  </tbody>\n",
       "</table>\n",
       "</div>"
      ],
      "text/plain": [
       "    ano  mes  horas_assistidas  media_visualizacoes  pico_de_visualizacoes  \\\n",
       "0  2016    1         480241904               646355                1275257   \n",
       "1  2016    2         441859897               635769                1308032   \n",
       "2  2016    3         490669308               660389                1591551   \n",
       "3  2016    4         377975447               525696                1775120   \n",
       "4  2016    5         449836631               605432                1438962   \n",
       "\n",
       "   Streams  media_canais  jogos_transmitidos  proporcao_de_espectadores  \n",
       "0  7701675         20076               12149                      29.08  \n",
       "1  7038520         20427               12134                      28.98  \n",
       "2  7390957         20271               12234                      28.92  \n",
       "3  6869719         16791               12282                      28.80  \n",
       "4  7535519         19394               12424                      28.85  "
      ]
     },
     "execution_count": 64,
     "metadata": {},
     "output_type": "execute_result"
    }
   ],
   "source": [
    "data.head()"
   ]
  },
  {
   "cell_type": "code",
   "execution_count": 52,
   "id": "855c9a5d",
   "metadata": {
    "hidden": true
   },
   "outputs": [
    {
     "data": {
      "text/plain": [
       "((2021, 5, 2308295297, 3106723), (2016, 9, 362833210, 504635))"
      ]
     },
     "execution_count": 52,
     "metadata": {},
     "output_type": "execute_result"
    }
   ],
   "source": [
    "maior_horas = data.groupby(['ano', 'mes', 'horas_assistidas', 'media_visualizacoes'])['horas_assistidas'].sum().idxmax()\n",
    "menor_horas = data.groupby(['ano', 'mes', 'horas_assistidas', 'media_visualizacoes'])['horas_assistidas'].sum().idxmin()\n",
    "maior_horas, menor_horas"
   ]
  },
  {
   "cell_type": "markdown",
   "id": "c21cb358",
   "metadata": {
    "hidden": true
   },
   "source": [
    "<b><i>O maior número de horas assistidas foi de 2308295297 horas com 3106723 médias visualizações no mês 5 do ano 2021. O menor número de horas assistidas foi de 362833210 horas com 504635 médias visualizações no mês 9 do ano 2016.</i></b>"
   ]
  },
  {
   "cell_type": "code",
   "execution_count": 51,
   "id": "f63df78b",
   "metadata": {
    "hidden": true
   },
   "outputs": [
    {
     "data": {
      "text/plain": [
       "((2021, 4, 2238018281, 3112681), (2016, 9, 362833210, 504635))"
      ]
     },
     "execution_count": 51,
     "metadata": {},
     "output_type": "execute_result"
    }
   ],
   "source": [
    "maior_visus = data.groupby(['ano', 'mes', 'horas_assistidas', 'media_visualizacoes'])['media_visualizacoes'].sum().idxmax()\n",
    "menor_visus = data.groupby(['ano', 'mes', 'horas_assistidas', 'media_visualizacoes'])['media_visualizacoes'].sum().idxmin()\n",
    "\n",
    "maior_visus, menor_visus"
   ]
  },
  {
   "cell_type": "markdown",
   "id": "c44ed747",
   "metadata": {
    "hidden": true
   },
   "source": [
    "<b><i>A maior média de visualizações foi de 3112681 visualizações no mês 4 do ano 2021 com 2238018281 horas assistidas. A menor média de visualizações foi de 504635 visualizações no mês 9 do ano 2016 com 362833210 horas assistidas.</i></b>"
   ]
  },
  {
   "cell_type": "code",
   "execution_count": 55,
   "id": "9097900a",
   "metadata": {
    "hidden": true
   },
   "outputs": [
    {
     "name": "stdout",
     "output_type": "stream",
     "text": [
      "A maior média de horas assistidas por visualizações foi de 743.00\n",
      "A menor média de horas assistidas por visualizações foi de 719.00\n"
     ]
    }
   ],
   "source": [
    "print(f'A maior média de horas assistidas por visualizações foi de {maior_horas[2] / maior_horas[-1]:.2f}')\n",
    "print(f'A menor média de horas assistidas por visualizações foi de {menor_horas[2] / menor_horas[-1]:.2f}')"
   ]
  },
  {
   "cell_type": "markdown",
   "id": "f3caf74a",
   "metadata": {
    "hidden": true
   },
   "source": [
    "<b><i>Pode-se perceber que, no mês em que há os valores máximo e mínimo de horas assistidas, não há necessariamente os valores máximo e mínimos de médias visualizações.</i></b><br>\n"
   ]
  },
  {
   "cell_type": "markdown",
   "id": "f803ff06",
   "metadata": {
    "heading_collapsed": true,
    "hidden": true
   },
   "source": [
    "### Valores médios por mês e ano"
   ]
  },
  {
   "cell_type": "markdown",
   "id": "e2dce655",
   "metadata": {
    "hidden": true
   },
   "source": [
    "0, 11 -> 2016  <br>\n",
    "12, 23 -> 2017 <br>\n",
    "24, 35 -> 2018 <br>\n",
    "36, 47 -> 2019 <br>\n",
    "48, 59 -> 2020 <br>\n",
    "60, 71 -> 2021 <br>\n",
    "72, 83 -> 2022 <br>\n",
    "84 -> 2023 <br>\n",
    "\n",
    "<b>Eu quero saber as médias mensais e anuais de horas assistidas por número de visualizações</b>"
   ]
  },
  {
   "cell_type": "code",
   "execution_count": 20,
   "id": "bfea18d5",
   "metadata": {
    "hidden": true
   },
   "outputs": [],
   "source": [
    "def analisaMedias(horas:list(), visus:list()):\n",
    "    aux = []\n",
    "    total = []\n",
    "    ano = 2016\n",
    "    for x in range(85):\n",
    "        if x < 12:\n",
    "            aux.append(horas[x] / visus[x])\n",
    "            if x == 11:\n",
    "                aux.append(sum(horas[0:12]) / sum(visus[0:12]))\n",
    "                aux.insert(0, ano)\n",
    "                total.append(aux[:])\n",
    "                aux.clear()\n",
    "        elif 24 > x > 11:\n",
    "            aux.append(horas[x] / visus[x])\n",
    "            if x == 23:\n",
    "                aux.append(sum(horas[11:24]) / sum(visus[11:24]))\n",
    "                aux.insert(0, ano + 1)\n",
    "                total.append(aux[:])\n",
    "                aux.clear()\n",
    "        elif 36 > x > 23:\n",
    "            aux.append(horas[x] / visus[x])\n",
    "            if x == 35:\n",
    "                aux.append(sum(horas[24:36]) / sum(visus[24:36]))\n",
    "                aux.insert(0, ano + 2)\n",
    "                total.append(aux[:])\n",
    "                aux.clear()\n",
    "        elif 48 > x > 35:\n",
    "            aux.append(horas[x] / visus[x])\n",
    "            if x == 47:\n",
    "                aux.append(sum(horas[36:48]) / sum(visus[36:48]))\n",
    "                aux.insert(0, ano + 3)\n",
    "                total.append(aux[:])\n",
    "                aux.clear()\n",
    "        elif 60 > x > 47:\n",
    "            aux.append(horas[x] / visus[x])\n",
    "            if x == 59:\n",
    "                aux.append(sum(horas[48:60]) / sum(visus[48:60]))\n",
    "                aux.insert(0, ano + 4)\n",
    "                total.append(aux[:])\n",
    "                aux.clear()         \n",
    "        elif 72 > x > 59:\n",
    "            aux.append(horas[x] / visus[x])\n",
    "            if x == 71:\n",
    "                aux.append(sum(horas[60:72]) / sum(visus[60:72]))\n",
    "                aux.insert(0, ano + 5) \n",
    "                total.append(aux[:])\n",
    "                aux.clear()\n",
    "        elif 84 > x > 71:\n",
    "            aux.append(horas[x] / visus[x])\n",
    "            if x == 83:\n",
    "                aux.append(sum(horas[72:84]) / sum(visus[72:84]))\n",
    "                aux.insert(0, ano + 6)\n",
    "                total.append(aux[:])\n",
    "                aux.clear()       \n",
    "        else:\n",
    "            aux.append(horas[x] / visus[x])\n",
    "            if x == 84:\n",
    "                aux.append((horas[-1]) / (visus[-1]))\n",
    "                aux.insert(0, ano + 7)\n",
    "                total.append(aux[:])\n",
    "                aux.clear()\n",
    "    return total\n",
    "\n",
    "   \n",
    "        "
   ]
  },
  {
   "cell_type": "code",
   "execution_count": 21,
   "id": "1c1ae4a5",
   "metadata": {
    "hidden": true
   },
   "outputs": [],
   "source": [
    "horas_assistidas = [ dados for dados in data['horas_assistidas']]\n",
    "media_visualizacoes = [dados for dados in data['media_visualizacoes']]\n",
    "\n",
    "total_medias = analisaMedias(horas_assistidas, media_visualizacoes)"
   ]
  },
  {
   "cell_type": "markdown",
   "id": "e143c7ec",
   "metadata": {
    "hidden": true
   },
   "source": [
    "A variável <b>total_medias</b> corresponde a uma lista com outras 8 listas dentro de si. Cada lista dessas possui 1 determinado ano como valor inicial, 12 ou (1) valores de médias mensais de horas assistidas por número de espectadores e, por fim, um valor de média anual do total de horas assistidas pelo total de espectadores anuais."
   ]
  },
  {
   "cell_type": "code",
   "execution_count": 26,
   "id": "f572d9ed",
   "metadata": {
    "hidden": true
   },
   "outputs": [],
   "source": [
    "maiores = []\n",
    "minimos = []\n",
    "\n",
    "for x in total_medias:\n",
    "    maiores.append(f'O maior valor médio de horas por visus do ano {x[0]} é {max(x[1:-1]):.2f} no mês {x.index(max(x[1:-1]))}')\n",
    "    minimos.append(f'O menor valor médio de horas por visus do ano {x[0]} é {min(x[1:-1]):.2f} no mês {x.index(min(x[1:-1]))}')"
   ]
  },
  {
   "cell_type": "code",
   "execution_count": 88,
   "id": "372d25d7",
   "metadata": {
    "hidden": true,
    "scrolled": false
   },
   "outputs": [
    {
     "name": "stdout",
     "output_type": "stream",
     "text": [
      "O valor de média anual de 2016 é de 731.19\n",
      "O valor de média anual de 2017 é de 729.96\n",
      "O valor de média anual de 2018 é de 729.54\n",
      "O valor de média anual de 2019 é de 728.81\n",
      "O valor de média anual de 2020 é de 731.42\n",
      "O valor de média anual de 2021 é de 728.77\n",
      "O valor de média anual de 2022 é de 728.38\n",
      "O valor de média anual de 2023 é de 743.00\n"
     ]
    }
   ],
   "source": [
    "for x in range(8):\n",
    "    print(f'O valor de média anual de {total_medias[x][0]} é de {total_medias[x][-1]:.2f}')"
   ]
  },
  {
   "cell_type": "code",
   "execution_count": 89,
   "id": "98c65c3f",
   "metadata": {
    "hidden": true
   },
   "outputs": [
    {
     "data": {
      "text/plain": [
       "(['O maior valor médio de horas por visus do ano 2016 é 743.00 no mês 8',\n",
       "  'O maior valor médio de horas por visus do ano 2017 é 743.00 no mês 1',\n",
       "  'O maior valor médio de horas por visus do ano 2018 é 743.00 no mês 5',\n",
       "  'O maior valor médio de horas por visus do ano 2019 é 743.00 no mês 3',\n",
       "  'O maior valor médio de horas por visus do ano 2020 é 743.00 no mês 1',\n",
       "  'O maior valor médio de horas por visus do ano 2021 é 743.00 no mês 8',\n",
       "  'O maior valor médio de horas por visus do ano 2022 é 743.00 no mês 10',\n",
       "  'O maior valor médio de horas por visus do ano 2023 é 743.00 no mês 1'],\n",
       " ['O menor valor médio de horas por visus do ano 2016 é 695.00 no mês 2',\n",
       "  'O menor valor médio de horas por visus do ano 2017 é 671.00 no mês 2',\n",
       "  'O menor valor médio de horas por visus do ano 2018 é 671.00 no mês 2',\n",
       "  'O menor valor médio de horas por visus do ano 2019 é 671.00 no mês 2',\n",
       "  'O menor valor médio de horas por visus do ano 2020 é 695.00 no mês 2',\n",
       "  'O menor valor médio de horas por visus do ano 2021 é 671.00 no mês 2',\n",
       "  'O menor valor médio de horas por visus do ano 2022 é 671.00 no mês 2',\n",
       "  'O menor valor médio de horas por visus do ano 2023 é 743.00 no mês 1'])"
      ]
     },
     "execution_count": 89,
     "metadata": {},
     "output_type": "execute_result"
    }
   ],
   "source": [
    "maiores, minimos"
   ]
  },
  {
   "cell_type": "code",
   "execution_count": 87,
   "id": "e74025e1",
   "metadata": {
    "hidden": true,
    "scrolled": true
   },
   "outputs": [
    {
     "name": "stdout",
     "output_type": "stream",
     "text": [
      "(2016, 12, 14033)\n",
      "(2017, 12, 16871)\n",
      "(2018, 7, 19290)\n",
      "(2019, 5, 20751)\n",
      "(2020, 12, 32840)\n",
      "(2021, 5, 36960)\n",
      "(2022, 7, 43566)\n"
     ]
    }
   ],
   "source": [
    "for num in range(2016, 2023):\n",
    "    print(data[data['ano'] == num].groupby(['ano', 'mes', 'jogos_transmitidos'])['jogos_transmitidos'].sum().idxmax())"
   ]
  },
  {
   "cell_type": "code",
   "execution_count": 91,
   "id": "2fe3430e",
   "metadata": {
    "hidden": true,
    "scrolled": true
   },
   "outputs": [
    {
     "name": "stdout",
     "output_type": "stream",
     "text": [
      "(2016, 3, 490669308)\n",
      "(2017, 1, 601251200)\n",
      "(2018, 11, 865630693)\n",
      "(2019, 8, 999177398)\n",
      "(2020, 12, 1877319317)\n",
      "(2021, 5, 2308295297)\n",
      "(2022, 1, 2162446961)\n"
     ]
    }
   ],
   "source": [
    "for num in range(2016, 2023):\n",
    "    print(data[data['ano'] == num].groupby(['ano', 'mes', 'horas_assistidas'])['horas_assistidas'].sum().idxmax())"
   ]
  },
  {
   "cell_type": "code",
   "execution_count": 92,
   "id": "d6504487",
   "metadata": {
    "hidden": true
   },
   "outputs": [
    {
     "name": "stdout",
     "output_type": "stream",
     "text": [
      "(2016, 3, 660389)\n",
      "(2017, 1, 809220)\n",
      "(2018, 11, 1203936)\n",
      "(2019, 8, 1344787)\n",
      "(2020, 12, 2526674)\n",
      "(2021, 4, 3112681)\n",
      "(2022, 2, 2956001)\n"
     ]
    }
   ],
   "source": [
    "for num in range(2016, 2023):\n",
    "    print(data[data['ano'] == num].groupby(['ano', 'mes', 'media_visualizacoes'])['media_visualizacoes'].sum().idxmax())"
   ]
  },
  {
   "cell_type": "markdown",
   "id": "b090e134",
   "metadata": {
    "hidden": true
   },
   "source": [
    "<b><i>Provável que por conta da pandemia, o número de jogos e transmissões aumento muito a partir de 2020</i></b>"
   ]
  },
  {
   "cell_type": "markdown",
   "id": "58cb31b2",
   "metadata": {
    "heading_collapsed": true,
    "hidden": true
   },
   "source": [
    "### Proporção de espectadores "
   ]
  },
  {
   "cell_type": "code",
   "execution_count": 62,
   "id": "3e3c8658",
   "metadata": {
    "hidden": true
   },
   "outputs": [
    {
     "data": {
      "text/html": [
       "<div>\n",
       "<style scoped>\n",
       "    .dataframe tbody tr th:only-of-type {\n",
       "        vertical-align: middle;\n",
       "    }\n",
       "\n",
       "    .dataframe tbody tr th {\n",
       "        vertical-align: top;\n",
       "    }\n",
       "\n",
       "    .dataframe thead th {\n",
       "        text-align: right;\n",
       "    }\n",
       "</style>\n",
       "<table border=\"1\" class=\"dataframe\">\n",
       "  <thead>\n",
       "    <tr style=\"text-align: right;\">\n",
       "      <th></th>\n",
       "      <th>ano</th>\n",
       "      <th>mes</th>\n",
       "      <th>horas_assistidas</th>\n",
       "      <th>media_visualizacoes</th>\n",
       "      <th>pico_de_visualizacoes</th>\n",
       "      <th>Streams</th>\n",
       "      <th>media_canais</th>\n",
       "      <th>jogos_transmitidos</th>\n",
       "      <th>proporcao_de_espectadores</th>\n",
       "    </tr>\n",
       "  </thead>\n",
       "  <tbody>\n",
       "    <tr>\n",
       "      <th>0</th>\n",
       "      <td>2016</td>\n",
       "      <td>1</td>\n",
       "      <td>480241904</td>\n",
       "      <td>646355</td>\n",
       "      <td>1275257</td>\n",
       "      <td>7701675</td>\n",
       "      <td>20076</td>\n",
       "      <td>12149</td>\n",
       "      <td>29.08</td>\n",
       "    </tr>\n",
       "    <tr>\n",
       "      <th>1</th>\n",
       "      <td>2016</td>\n",
       "      <td>2</td>\n",
       "      <td>441859897</td>\n",
       "      <td>635769</td>\n",
       "      <td>1308032</td>\n",
       "      <td>7038520</td>\n",
       "      <td>20427</td>\n",
       "      <td>12134</td>\n",
       "      <td>28.98</td>\n",
       "    </tr>\n",
       "    <tr>\n",
       "      <th>2</th>\n",
       "      <td>2016</td>\n",
       "      <td>3</td>\n",
       "      <td>490669308</td>\n",
       "      <td>660389</td>\n",
       "      <td>1591551</td>\n",
       "      <td>7390957</td>\n",
       "      <td>20271</td>\n",
       "      <td>12234</td>\n",
       "      <td>28.92</td>\n",
       "    </tr>\n",
       "    <tr>\n",
       "      <th>3</th>\n",
       "      <td>2016</td>\n",
       "      <td>4</td>\n",
       "      <td>377975447</td>\n",
       "      <td>525696</td>\n",
       "      <td>1775120</td>\n",
       "      <td>6869719</td>\n",
       "      <td>16791</td>\n",
       "      <td>12282</td>\n",
       "      <td>28.80</td>\n",
       "    </tr>\n",
       "    <tr>\n",
       "      <th>4</th>\n",
       "      <td>2016</td>\n",
       "      <td>5</td>\n",
       "      <td>449836631</td>\n",
       "      <td>605432</td>\n",
       "      <td>1438962</td>\n",
       "      <td>7535519</td>\n",
       "      <td>19394</td>\n",
       "      <td>12424</td>\n",
       "      <td>28.85</td>\n",
       "    </tr>\n",
       "  </tbody>\n",
       "</table>\n",
       "</div>"
      ],
      "text/plain": [
       "    ano  mes  horas_assistidas  media_visualizacoes  pico_de_visualizacoes  \\\n",
       "0  2016    1         480241904               646355                1275257   \n",
       "1  2016    2         441859897               635769                1308032   \n",
       "2  2016    3         490669308               660389                1591551   \n",
       "3  2016    4         377975447               525696                1775120   \n",
       "4  2016    5         449836631               605432                1438962   \n",
       "\n",
       "   Streams  media_canais  jogos_transmitidos  proporcao_de_espectadores  \n",
       "0  7701675         20076               12149                      29.08  \n",
       "1  7038520         20427               12134                      28.98  \n",
       "2  7390957         20271               12234                      28.92  \n",
       "3  6869719         16791               12282                      28.80  \n",
       "4  7535519         19394               12424                      28.85  "
      ]
     },
     "execution_count": 62,
     "metadata": {},
     "output_type": "execute_result"
    }
   ],
   "source": [
    "data.head()"
   ]
  },
  {
   "cell_type": "code",
   "execution_count": 69,
   "id": "0903d005",
   "metadata": {
    "hidden": true
   },
   "outputs": [
    {
     "data": {
      "text/plain": [
       "(2016, 1, 29.08)"
      ]
     },
     "execution_count": 69,
     "metadata": {},
     "output_type": "execute_result"
    }
   ],
   "source": [
    "data[data['ano'] == 2016].groupby(['ano', 'mes', 'proporcao_de_espectadores'])['proporcao_de_espectadores'].sum().idxmax()"
   ]
  },
  {
   "cell_type": "code",
   "execution_count": 70,
   "id": "d2a154c5",
   "metadata": {
    "hidden": true
   },
   "outputs": [
    {
     "data": {
      "text/plain": [
       "(2017, 1, 28.07)"
      ]
     },
     "execution_count": 70,
     "metadata": {},
     "output_type": "execute_result"
    }
   ],
   "source": [
    "data[data['ano'] == 2017].groupby(['ano', 'mes', 'proporcao_de_espectadores'])['proporcao_de_espectadores'].sum().idxmax()"
   ]
  },
  {
   "cell_type": "code",
   "execution_count": 71,
   "id": "b3e5cf4c",
   "metadata": {
    "hidden": true
   },
   "outputs": [
    {
     "data": {
      "text/plain": [
       "(2018, 1, 26.02)"
      ]
     },
     "execution_count": 71,
     "metadata": {},
     "output_type": "execute_result"
    }
   ],
   "source": [
    "data[data['ano'] == 2018].groupby(['ano', 'mes', 'proporcao_de_espectadores'])['proporcao_de_espectadores'].sum().idxmax()"
   ]
  },
  {
   "cell_type": "code",
   "execution_count": 72,
   "id": "8b932fd5",
   "metadata": {
    "hidden": true
   },
   "outputs": [
    {
     "data": {
      "text/plain": [
       "(2019, 8, 28.26)"
      ]
     },
     "execution_count": 72,
     "metadata": {},
     "output_type": "execute_result"
    }
   ],
   "source": [
    "data[data['ano'] == 2019].groupby(['ano', 'mes', 'proporcao_de_espectadores'])['proporcao_de_espectadores'].sum().idxmax()"
   ]
  },
  {
   "cell_type": "code",
   "execution_count": 73,
   "id": "104b0a60",
   "metadata": {
    "hidden": true
   },
   "outputs": [
    {
     "data": {
      "text/plain": [
       "(2020, 4, 26.79)"
      ]
     },
     "execution_count": 73,
     "metadata": {},
     "output_type": "execute_result"
    }
   ],
   "source": [
    "data[data['ano'] == 2020].groupby(['ano', 'mes', 'proporcao_de_espectadores'])['proporcao_de_espectadores'].sum().idxmax()"
   ]
  },
  {
   "cell_type": "code",
   "execution_count": 74,
   "id": "71764aae",
   "metadata": {
    "hidden": true
   },
   "outputs": [
    {
     "data": {
      "text/plain": [
       "(2021, 10, 30.39)"
      ]
     },
     "execution_count": 74,
     "metadata": {},
     "output_type": "execute_result"
    }
   ],
   "source": [
    "data[data['ano'] == 2021].groupby(['ano', 'mes', 'proporcao_de_espectadores'])['proporcao_de_espectadores'].sum().idxmax()"
   ]
  },
  {
   "cell_type": "code",
   "execution_count": 75,
   "id": "94a08473",
   "metadata": {
    "hidden": true
   },
   "outputs": [
    {
     "data": {
      "text/plain": [
       "(2022, 5, 29.4)"
      ]
     },
     "execution_count": 75,
     "metadata": {},
     "output_type": "execute_result"
    }
   ],
   "source": [
    "data[data['ano'] == 2022].groupby(['ano', 'mes', 'proporcao_de_espectadores'])['proporcao_de_espectadores'].sum().idxmax()"
   ]
  },
  {
   "cell_type": "code",
   "execution_count": 76,
   "id": "8d562044",
   "metadata": {
    "hidden": true
   },
   "outputs": [
    {
     "data": {
      "text/plain": [
       "(2023, 1, 27.44)"
      ]
     },
     "execution_count": 76,
     "metadata": {},
     "output_type": "execute_result"
    }
   ],
   "source": [
    "data[data['ano'] == 2023].groupby(['ano', 'mes', 'proporcao_de_espectadores'])['proporcao_de_espectadores'].sum().idxmax()"
   ]
  },
  {
   "cell_type": "code",
   "execution_count": 92,
   "id": "721eee20",
   "metadata": {
    "hidden": true
   },
   "outputs": [
    {
     "data": {
      "text/plain": [
       "((18209793, 30.39, 91858), (18859473, 22.65, 95781))"
      ]
     },
     "execution_count": 92,
     "metadata": {},
     "output_type": "execute_result"
    }
   ],
   "source": [
    "pico = data.groupby(['Streams', 'proporcao_de_espectadores', 'media_canais'])['proporcao_de_espectadores'].sum().idxmax()\n",
    "base = data.groupby(['Streams', 'proporcao_de_espectadores', 'media_canais'])['proporcao_de_espectadores'].sum().idxmin()\n",
    "\n",
    "pico, base"
   ]
  },
  {
   "cell_type": "markdown",
   "id": "a2a95f5c",
   "metadata": {
    "hidden": true
   },
   "source": [
    "<b><i>O que se pode subentender dos dados acima é que não necessariamente o pico de espectadores está relacionado com os totais máximos de (1) canais, (2) transmissões e (3) números de streams ou até mesmo (4) com a média de visualizações"
   ]
  },
  {
   "cell_type": "markdown",
   "id": "2f89f905",
   "metadata": {
    "heading_collapsed": true,
    "hidden": true
   },
   "source": [
    "### Horas por Jogos"
   ]
  },
  {
   "cell_type": "code",
   "execution_count": 55,
   "id": "5b9b6120",
   "metadata": {
    "hidden": true
   },
   "outputs": [
    {
     "data": {
      "text/html": [
       "<div>\n",
       "<style scoped>\n",
       "    .dataframe tbody tr th:only-of-type {\n",
       "        vertical-align: middle;\n",
       "    }\n",
       "\n",
       "    .dataframe tbody tr th {\n",
       "        vertical-align: top;\n",
       "    }\n",
       "\n",
       "    .dataframe thead th {\n",
       "        text-align: right;\n",
       "    }\n",
       "</style>\n",
       "<table border=\"1\" class=\"dataframe\">\n",
       "  <thead>\n",
       "    <tr style=\"text-align: right;\">\n",
       "      <th></th>\n",
       "      <th>ano</th>\n",
       "      <th>mes</th>\n",
       "      <th>horas_assistidas</th>\n",
       "      <th>media_visualizacoes</th>\n",
       "      <th>pico_de_visualizacoes</th>\n",
       "      <th>Streams</th>\n",
       "      <th>media_canais</th>\n",
       "      <th>jogos_transmitidos</th>\n",
       "      <th>proporcao_de_espectadores</th>\n",
       "    </tr>\n",
       "  </thead>\n",
       "  <tbody>\n",
       "    <tr>\n",
       "      <th>24</th>\n",
       "      <td>2018</td>\n",
       "      <td>1</td>\n",
       "      <td>720220030</td>\n",
       "      <td>969340</td>\n",
       "      <td>2315343</td>\n",
       "      <td>11222734</td>\n",
       "      <td>33580</td>\n",
       "      <td>18309</td>\n",
       "      <td>26.02</td>\n",
       "    </tr>\n",
       "    <tr>\n",
       "      <th>25</th>\n",
       "      <td>2018</td>\n",
       "      <td>2</td>\n",
       "      <td>615710441</td>\n",
       "      <td>917601</td>\n",
       "      <td>1735587</td>\n",
       "      <td>10729066</td>\n",
       "      <td>35548</td>\n",
       "      <td>18667</td>\n",
       "      <td>25.82</td>\n",
       "    </tr>\n",
       "    <tr>\n",
       "      <th>26</th>\n",
       "      <td>2018</td>\n",
       "      <td>3</td>\n",
       "      <td>721341613</td>\n",
       "      <td>970850</td>\n",
       "      <td>2399946</td>\n",
       "      <td>13495972</td>\n",
       "      <td>38981</td>\n",
       "      <td>19274</td>\n",
       "      <td>25.79</td>\n",
       "    </tr>\n",
       "    <tr>\n",
       "      <th>27</th>\n",
       "      <td>2018</td>\n",
       "      <td>4</td>\n",
       "      <td>729326135</td>\n",
       "      <td>1014361</td>\n",
       "      <td>2009005</td>\n",
       "      <td>13101238</td>\n",
       "      <td>39491</td>\n",
       "      <td>19132</td>\n",
       "      <td>25.80</td>\n",
       "    </tr>\n",
       "    <tr>\n",
       "      <th>28</th>\n",
       "      <td>2018</td>\n",
       "      <td>5</td>\n",
       "      <td>762177378</td>\n",
       "      <td>1025810</td>\n",
       "      <td>1714327</td>\n",
       "      <td>13869534</td>\n",
       "      <td>38746</td>\n",
       "      <td>19011</td>\n",
       "      <td>25.76</td>\n",
       "    </tr>\n",
       "    <tr>\n",
       "      <th>29</th>\n",
       "      <td>2018</td>\n",
       "      <td>6</td>\n",
       "      <td>789065029</td>\n",
       "      <td>1097447</td>\n",
       "      <td>2847241</td>\n",
       "      <td>13888432</td>\n",
       "      <td>39761</td>\n",
       "      <td>18833</td>\n",
       "      <td>25.62</td>\n",
       "    </tr>\n",
       "    <tr>\n",
       "      <th>30</th>\n",
       "      <td>2018</td>\n",
       "      <td>7</td>\n",
       "      <td>796242999</td>\n",
       "      <td>1071659</td>\n",
       "      <td>1974783</td>\n",
       "      <td>14910026</td>\n",
       "      <td>41629</td>\n",
       "      <td>19290</td>\n",
       "      <td>25.41</td>\n",
       "    </tr>\n",
       "    <tr>\n",
       "      <th>31</th>\n",
       "      <td>2018</td>\n",
       "      <td>8</td>\n",
       "      <td>855860641</td>\n",
       "      <td>1151898</td>\n",
       "      <td>3929074</td>\n",
       "      <td>15769306</td>\n",
       "      <td>44383</td>\n",
       "      <td>19233</td>\n",
       "      <td>25.34</td>\n",
       "    </tr>\n",
       "    <tr>\n",
       "      <th>32</th>\n",
       "      <td>2018</td>\n",
       "      <td>9</td>\n",
       "      <td>815061013</td>\n",
       "      <td>1133603</td>\n",
       "      <td>2431863</td>\n",
       "      <td>15005606</td>\n",
       "      <td>44246</td>\n",
       "      <td>18526</td>\n",
       "      <td>25.23</td>\n",
       "    </tr>\n",
       "    <tr>\n",
       "      <th>33</th>\n",
       "      <td>2018</td>\n",
       "      <td>10</td>\n",
       "      <td>852724761</td>\n",
       "      <td>1147678</td>\n",
       "      <td>2093870</td>\n",
       "      <td>14934884</td>\n",
       "      <td>43558</td>\n",
       "      <td>18524</td>\n",
       "      <td>25.11</td>\n",
       "    </tr>\n",
       "    <tr>\n",
       "      <th>34</th>\n",
       "      <td>2018</td>\n",
       "      <td>11</td>\n",
       "      <td>865630693</td>\n",
       "      <td>1203936</td>\n",
       "      <td>2515155</td>\n",
       "      <td>14422767</td>\n",
       "      <td>45464</td>\n",
       "      <td>18789</td>\n",
       "      <td>24.76</td>\n",
       "    </tr>\n",
       "    <tr>\n",
       "      <th>35</th>\n",
       "      <td>2018</td>\n",
       "      <td>12</td>\n",
       "      <td>845969862</td>\n",
       "      <td>1138586</td>\n",
       "      <td>2021262</td>\n",
       "      <td>16271867</td>\n",
       "      <td>48190</td>\n",
       "      <td>19156</td>\n",
       "      <td>24.36</td>\n",
       "    </tr>\n",
       "  </tbody>\n",
       "</table>\n",
       "</div>"
      ],
      "text/plain": [
       "     ano  mes  horas_assistidas  media_visualizacoes  pico_de_visualizacoes  \\\n",
       "24  2018    1         720220030               969340                2315343   \n",
       "25  2018    2         615710441               917601                1735587   \n",
       "26  2018    3         721341613               970850                2399946   \n",
       "27  2018    4         729326135              1014361                2009005   \n",
       "28  2018    5         762177378              1025810                1714327   \n",
       "29  2018    6         789065029              1097447                2847241   \n",
       "30  2018    7         796242999              1071659                1974783   \n",
       "31  2018    8         855860641              1151898                3929074   \n",
       "32  2018    9         815061013              1133603                2431863   \n",
       "33  2018   10         852724761              1147678                2093870   \n",
       "34  2018   11         865630693              1203936                2515155   \n",
       "35  2018   12         845969862              1138586                2021262   \n",
       "\n",
       "     Streams  media_canais  jogos_transmitidos  proporcao_de_espectadores  \n",
       "24  11222734         33580               18309                      26.02  \n",
       "25  10729066         35548               18667                      25.82  \n",
       "26  13495972         38981               19274                      25.79  \n",
       "27  13101238         39491               19132                      25.80  \n",
       "28  13869534         38746               19011                      25.76  \n",
       "29  13888432         39761               18833                      25.62  \n",
       "30  14910026         41629               19290                      25.41  \n",
       "31  15769306         44383               19233                      25.34  \n",
       "32  15005606         44246               18526                      25.23  \n",
       "33  14934884         43558               18524                      25.11  \n",
       "34  14422767         45464               18789                      24.76  \n",
       "35  16271867         48190               19156                      24.36  "
      ]
     },
     "execution_count": 55,
     "metadata": {},
     "output_type": "execute_result"
    }
   ],
   "source": [
    "data[24:36]"
   ]
  },
  {
   "cell_type": "code",
   "execution_count": 52,
   "id": "54a43a6b",
   "metadata": {
    "hidden": true
   },
   "outputs": [
    {
     "data": {
      "text/html": [
       "<div>\n",
       "<style scoped>\n",
       "    .dataframe tbody tr th:only-of-type {\n",
       "        vertical-align: middle;\n",
       "    }\n",
       "\n",
       "    .dataframe tbody tr th {\n",
       "        vertical-align: top;\n",
       "    }\n",
       "\n",
       "    .dataframe thead th {\n",
       "        text-align: right;\n",
       "    }\n",
       "</style>\n",
       "<table border=\"1\" class=\"dataframe\">\n",
       "  <thead>\n",
       "    <tr style=\"text-align: right;\">\n",
       "      <th></th>\n",
       "      <th>horas_assistidas</th>\n",
       "      <th>jogos_transmitidos</th>\n",
       "    </tr>\n",
       "    <tr>\n",
       "      <th>ano</th>\n",
       "      <th></th>\n",
       "      <th></th>\n",
       "    </tr>\n",
       "  </thead>\n",
       "  <tbody>\n",
       "    <tr>\n",
       "      <th>2016</th>\n",
       "      <td>490669308</td>\n",
       "      <td>14033</td>\n",
       "    </tr>\n",
       "    <tr>\n",
       "      <th>2017</th>\n",
       "      <td>601251200</td>\n",
       "      <td>16871</td>\n",
       "    </tr>\n",
       "    <tr>\n",
       "      <th>2018</th>\n",
       "      <td>865630693</td>\n",
       "      <td>19290</td>\n",
       "    </tr>\n",
       "    <tr>\n",
       "      <th>2019</th>\n",
       "      <td>999177398</td>\n",
       "      <td>20751</td>\n",
       "    </tr>\n",
       "    <tr>\n",
       "      <th>2020</th>\n",
       "      <td>1877319317</td>\n",
       "      <td>32840</td>\n",
       "    </tr>\n",
       "    <tr>\n",
       "      <th>2021</th>\n",
       "      <td>2308295297</td>\n",
       "      <td>36960</td>\n",
       "    </tr>\n",
       "    <tr>\n",
       "      <th>2022</th>\n",
       "      <td>2162446961</td>\n",
       "      <td>43566</td>\n",
       "    </tr>\n",
       "    <tr>\n",
       "      <th>2023</th>\n",
       "      <td>1866962462</td>\n",
       "      <td>43611</td>\n",
       "    </tr>\n",
       "  </tbody>\n",
       "</table>\n",
       "</div>"
      ],
      "text/plain": [
       "      horas_assistidas  jogos_transmitidos\n",
       "ano                                       \n",
       "2016         490669308               14033\n",
       "2017         601251200               16871\n",
       "2018         865630693               19290\n",
       "2019         999177398               20751\n",
       "2020        1877319317               32840\n",
       "2021        2308295297               36960\n",
       "2022        2162446961               43566\n",
       "2023        1866962462               43611"
      ]
     },
     "execution_count": 52,
     "metadata": {},
     "output_type": "execute_result"
    }
   ],
   "source": [
    "data.groupby('ano')[['horas_assistidas', 'jogos_transmitidos']].max()"
   ]
  },
  {
   "cell_type": "markdown",
   "id": "1a7d88f6",
   "metadata": {
    "hidden": true
   },
   "source": [
    "O que os dados acima nos permite entender é que o total máximo de horas assistidas não está relacionada ao total máximo de jogos transmitidos. "
   ]
  },
  {
   "cell_type": "code",
   "execution_count": null,
   "id": "4156c905",
   "metadata": {
    "hidden": true
   },
   "outputs": [],
   "source": []
  }
 ],
 "metadata": {
  "kernelspec": {
   "display_name": "Python 3 (ipykernel)",
   "language": "python",
   "name": "python3"
  },
  "language_info": {
   "codemirror_mode": {
    "name": "ipython",
    "version": 3
   },
   "file_extension": ".py",
   "mimetype": "text/x-python",
   "name": "python",
   "nbconvert_exporter": "python",
   "pygments_lexer": "ipython3",
   "version": "3.9.7"
  },
  "vscode": {
   "interpreter": {
    "hash": "7e65d11a531aceda4139f11a64816fba4d738780e1efebb5d97b945e13dbf626"
   }
  }
 },
 "nbformat": 4,
 "nbformat_minor": 5
}
