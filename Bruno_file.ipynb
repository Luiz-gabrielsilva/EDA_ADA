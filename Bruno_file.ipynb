{
 "cells": [
  {
   "cell_type": "code",
   "execution_count": 175,
   "metadata": {
    "collapsed": true
   },
   "outputs": [],
   "source": [
    "import pandas as pd\n",
    "import numpy as np"
   ]
  },
  {
   "cell_type": "markdown",
   "source": [
    "## Leitura do Twitch_global_data.csv"
   ],
   "metadata": {
    "collapsed": false
   }
  },
  {
   "cell_type": "code",
   "execution_count": 176,
   "outputs": [
    {
     "data": {
      "text/plain": "     ano  mes  horas_assistidas  media_visualizacoes  pico_de_visualizacoes  \\\n80  2022    9        1817119612              2527287                4678056   \n81  2022   10        1883320673              2534751                4610799   \n82  2022   11        1694262814              2356415                5362892   \n83  2022   12        1674092138              2253152                3866814   \n84  2023    1        1866962462              2512735                5593050   \n\n     Streams  media_canais  jogos_transmitidos  proporcao_de_espectadores  \n80  22278079         90376               41863                      28.37  \n81  22867973         90557               42164                      28.35  \n82  21744817         88195               41058                      26.84  \n83  21753674         84728               41548                      27.00  \n84  24429476         93349               43611                      27.44  ",
      "text/html": "<div>\n<style scoped>\n    .dataframe tbody tr th:only-of-type {\n        vertical-align: middle;\n    }\n\n    .dataframe tbody tr th {\n        vertical-align: top;\n    }\n\n    .dataframe thead th {\n        text-align: right;\n    }\n</style>\n<table border=\"1\" class=\"dataframe\">\n  <thead>\n    <tr style=\"text-align: right;\">\n      <th></th>\n      <th>ano</th>\n      <th>mes</th>\n      <th>horas_assistidas</th>\n      <th>media_visualizacoes</th>\n      <th>pico_de_visualizacoes</th>\n      <th>Streams</th>\n      <th>media_canais</th>\n      <th>jogos_transmitidos</th>\n      <th>proporcao_de_espectadores</th>\n    </tr>\n  </thead>\n  <tbody>\n    <tr>\n      <th>80</th>\n      <td>2022</td>\n      <td>9</td>\n      <td>1817119612</td>\n      <td>2527287</td>\n      <td>4678056</td>\n      <td>22278079</td>\n      <td>90376</td>\n      <td>41863</td>\n      <td>28.37</td>\n    </tr>\n    <tr>\n      <th>81</th>\n      <td>2022</td>\n      <td>10</td>\n      <td>1883320673</td>\n      <td>2534751</td>\n      <td>4610799</td>\n      <td>22867973</td>\n      <td>90557</td>\n      <td>42164</td>\n      <td>28.35</td>\n    </tr>\n    <tr>\n      <th>82</th>\n      <td>2022</td>\n      <td>11</td>\n      <td>1694262814</td>\n      <td>2356415</td>\n      <td>5362892</td>\n      <td>21744817</td>\n      <td>88195</td>\n      <td>41058</td>\n      <td>26.84</td>\n    </tr>\n    <tr>\n      <th>83</th>\n      <td>2022</td>\n      <td>12</td>\n      <td>1674092138</td>\n      <td>2253152</td>\n      <td>3866814</td>\n      <td>21753674</td>\n      <td>84728</td>\n      <td>41548</td>\n      <td>27.00</td>\n    </tr>\n    <tr>\n      <th>84</th>\n      <td>2023</td>\n      <td>1</td>\n      <td>1866962462</td>\n      <td>2512735</td>\n      <td>5593050</td>\n      <td>24429476</td>\n      <td>93349</td>\n      <td>43611</td>\n      <td>27.44</td>\n    </tr>\n  </tbody>\n</table>\n</div>"
     },
     "execution_count": 176,
     "metadata": {},
     "output_type": "execute_result"
    }
   ],
   "source": [
    "data = pd.read_csv('Twitch_global_data.csv')\n",
    "\n",
    "data.rename(columns={\n",
    "    'year':'ano',\n",
    "    'Month':'mes',\n",
    "    'Hours_watched':'horas_assistidas',\n",
    "    'Avg_viewers':'media_visualizacoes',\n",
    "    'Peak_viewers':'pico_de_visualizacoes',\n",
    "    'Avg_channels':'media_canais',\n",
    "    'Games_streamed':'jogos_transmitidos',\n",
    "    'Viewer_ratio':'proporcao_de_espectadores',\n",
    "}, inplace=True)\n",
    "\n",
    "data.tail()"
   ],
   "metadata": {
    "collapsed": false
   }
  },
  {
   "cell_type": "markdown",
   "source": [
    "## Pré tratamento de dados (global)"
   ],
   "metadata": {
    "collapsed": false
   }
  },
  {
   "cell_type": "code",
   "execution_count": 177,
   "outputs": [
    {
     "name": "stdout",
     "output_type": "stream",
     "text": [
      "<class 'pandas.core.frame.DataFrame'>\n",
      "RangeIndex: 85 entries, 0 to 84\n",
      "Data columns (total 9 columns):\n",
      " #   Column                     Non-Null Count  Dtype  \n",
      "---  ------                     --------------  -----  \n",
      " 0   ano                        85 non-null     int64  \n",
      " 1   mes                        85 non-null     int64  \n",
      " 2   horas_assistidas           85 non-null     int64  \n",
      " 3   media_visualizacoes        85 non-null     int64  \n",
      " 4   pico_de_visualizacoes      85 non-null     int64  \n",
      " 5   Streams                    85 non-null     int64  \n",
      " 6   media_canais               85 non-null     int64  \n",
      " 7   jogos_transmitidos         85 non-null     int64  \n",
      " 8   proporcao_de_espectadores  85 non-null     float64\n",
      "dtypes: float64(1), int64(8)\n",
      "memory usage: 6.1 KB\n"
     ]
    }
   ],
   "source": [
    "data.info()"
   ],
   "metadata": {
    "collapsed": false
   }
  },
  {
   "cell_type": "code",
   "execution_count": 178,
   "outputs": [
    {
     "data": {
      "text/plain": "ano                          0\nmes                          0\nhoras_assistidas             0\nmedia_visualizacoes          0\npico_de_visualizacoes        0\nStreams                      0\nmedia_canais                 0\njogos_transmitidos           0\nproporcao_de_espectadores    0\ndtype: int64"
     },
     "execution_count": 178,
     "metadata": {},
     "output_type": "execute_result"
    }
   ],
   "source": [
    "data.isnull().sum()"
   ],
   "metadata": {
    "collapsed": false
   }
  },
  {
   "cell_type": "markdown",
   "source": [
    "## Leitura do Twitch_game_data.csv"
   ],
   "metadata": {
    "collapsed": false
   }
  },
  {
   "cell_type": "code",
   "execution_count": 179,
   "outputs": [
    {
     "data": {
      "text/plain": "   Rank                              Game  Month  Year Hours_watched  \\\n0     1                 League of Legends      1  2016      94377226   \n1     2  Counter-Strike: Global Offensive      1  2016      47832863   \n2     3                            Dota 2      1  2016      45185893   \n3     4                       Hearthstone      1  2016      39936159   \n4     5       Call of Duty: Black Ops III      1  2016      16153057   \n\n  Hours_Streamed Peak_viewers Peak_channels Streamers Avg_viewers  \\\n0  1362044 hours       530270          2903    129172      127021   \n1   830105 hours       372654          2197    120849       64378   \n2   433397 hours       315083          1100     44074       60815   \n3   235903 hours       131357           517     36170       53749   \n4  1151578 hours        71639          3620    214054       21740   \n\n  Avg_channels Avg_viewer_ratio  \n0         1833            69.29  \n1         1117            57.62  \n2          583           104.26  \n3          317           169.29  \n4         1549            14.03  ",
      "text/html": "<div>\n<style scoped>\n    .dataframe tbody tr th:only-of-type {\n        vertical-align: middle;\n    }\n\n    .dataframe tbody tr th {\n        vertical-align: top;\n    }\n\n    .dataframe thead th {\n        text-align: right;\n    }\n</style>\n<table border=\"1\" class=\"dataframe\">\n  <thead>\n    <tr style=\"text-align: right;\">\n      <th></th>\n      <th>Rank</th>\n      <th>Game</th>\n      <th>Month</th>\n      <th>Year</th>\n      <th>Hours_watched</th>\n      <th>Hours_Streamed</th>\n      <th>Peak_viewers</th>\n      <th>Peak_channels</th>\n      <th>Streamers</th>\n      <th>Avg_viewers</th>\n      <th>Avg_channels</th>\n      <th>Avg_viewer_ratio</th>\n    </tr>\n  </thead>\n  <tbody>\n    <tr>\n      <th>0</th>\n      <td>1</td>\n      <td>League of Legends</td>\n      <td>1</td>\n      <td>2016</td>\n      <td>94377226</td>\n      <td>1362044 hours</td>\n      <td>530270</td>\n      <td>2903</td>\n      <td>129172</td>\n      <td>127021</td>\n      <td>1833</td>\n      <td>69.29</td>\n    </tr>\n    <tr>\n      <th>1</th>\n      <td>2</td>\n      <td>Counter-Strike: Global Offensive</td>\n      <td>1</td>\n      <td>2016</td>\n      <td>47832863</td>\n      <td>830105 hours</td>\n      <td>372654</td>\n      <td>2197</td>\n      <td>120849</td>\n      <td>64378</td>\n      <td>1117</td>\n      <td>57.62</td>\n    </tr>\n    <tr>\n      <th>2</th>\n      <td>3</td>\n      <td>Dota 2</td>\n      <td>1</td>\n      <td>2016</td>\n      <td>45185893</td>\n      <td>433397 hours</td>\n      <td>315083</td>\n      <td>1100</td>\n      <td>44074</td>\n      <td>60815</td>\n      <td>583</td>\n      <td>104.26</td>\n    </tr>\n    <tr>\n      <th>3</th>\n      <td>4</td>\n      <td>Hearthstone</td>\n      <td>1</td>\n      <td>2016</td>\n      <td>39936159</td>\n      <td>235903 hours</td>\n      <td>131357</td>\n      <td>517</td>\n      <td>36170</td>\n      <td>53749</td>\n      <td>317</td>\n      <td>169.29</td>\n    </tr>\n    <tr>\n      <th>4</th>\n      <td>5</td>\n      <td>Call of Duty: Black Ops III</td>\n      <td>1</td>\n      <td>2016</td>\n      <td>16153057</td>\n      <td>1151578 hours</td>\n      <td>71639</td>\n      <td>3620</td>\n      <td>214054</td>\n      <td>21740</td>\n      <td>1549</td>\n      <td>14.03</td>\n    </tr>\n  </tbody>\n</table>\n</div>"
     },
     "execution_count": 179,
     "metadata": {},
     "output_type": "execute_result"
    }
   ],
   "source": [
    "data_games = pd.read_csv('Twitch_game_data.csv', encoding='latin1')\n",
    "data_games.head()"
   ],
   "metadata": {
    "collapsed": false
   }
  },
  {
   "cell_type": "code",
   "execution_count": 180,
   "outputs": [
    {
     "data": {
      "text/plain": "       Rank                         Game  Month  Year   Hours_watched  \\\n16995   196  Tom Clancy's The Division 2      1  2023  666943(118.3%)   \n16996   197              Persona 5 Royal      1  2023   664503(-2.9%)   \n16997   198                   Bloodborne      1  2023   663078(59.1%)   \n16998   199          PowerWash Simulator      1  2023  657644(356.0%)   \n16999   200               Eternal Return      1  2023    642217(2.4%)   \n\n      Hours_Streamed   Peak_viewers Peak_channels     Streamers  Avg_viewers  \\\n16995   97138(59.5%)    2759(49.9%)    249(48.2%)  12805(68.1%)  897(118.2%)   \n16996    68310(2.7%)   10494(19.6%)     198(4.8%)    7475(4.8%)   894(-2.9%)   \n16997   45522(31.8%)    9455(30.4%)     117(8.3%)   8355(27.5%)   892(59.3%)   \n16998   18494(53.7%)  63757(473.9%)   192(346.5%)   6589(42.3%)  885(356.2%)   \n16999    24245(7.7%)    9933(16.7%)     97(15.5%)    1997(6.2%)    864(2.5%)   \n\n      Avg_channels Avg_viewer_ratio  \n16995   130(60.5%)      6.87(36.9%)  \n16996     91(2.2%)      9.73(-5.4%)  \n16997    61(32.6%)     14.57(20.7%)  \n16998      24(50%)    35.56(196.6%)  \n16999     32(6.7%)     26.49(-4.9%)  ",
      "text/html": "<div>\n<style scoped>\n    .dataframe tbody tr th:only-of-type {\n        vertical-align: middle;\n    }\n\n    .dataframe tbody tr th {\n        vertical-align: top;\n    }\n\n    .dataframe thead th {\n        text-align: right;\n    }\n</style>\n<table border=\"1\" class=\"dataframe\">\n  <thead>\n    <tr style=\"text-align: right;\">\n      <th></th>\n      <th>Rank</th>\n      <th>Game</th>\n      <th>Month</th>\n      <th>Year</th>\n      <th>Hours_watched</th>\n      <th>Hours_Streamed</th>\n      <th>Peak_viewers</th>\n      <th>Peak_channels</th>\n      <th>Streamers</th>\n      <th>Avg_viewers</th>\n      <th>Avg_channels</th>\n      <th>Avg_viewer_ratio</th>\n    </tr>\n  </thead>\n  <tbody>\n    <tr>\n      <th>16995</th>\n      <td>196</td>\n      <td>Tom Clancy's The Division 2</td>\n      <td>1</td>\n      <td>2023</td>\n      <td>666943(118.3%)</td>\n      <td>97138(59.5%)</td>\n      <td>2759(49.9%)</td>\n      <td>249(48.2%)</td>\n      <td>12805(68.1%)</td>\n      <td>897(118.2%)</td>\n      <td>130(60.5%)</td>\n      <td>6.87(36.9%)</td>\n    </tr>\n    <tr>\n      <th>16996</th>\n      <td>197</td>\n      <td>Persona 5 Royal</td>\n      <td>1</td>\n      <td>2023</td>\n      <td>664503(-2.9%)</td>\n      <td>68310(2.7%)</td>\n      <td>10494(19.6%)</td>\n      <td>198(4.8%)</td>\n      <td>7475(4.8%)</td>\n      <td>894(-2.9%)</td>\n      <td>91(2.2%)</td>\n      <td>9.73(-5.4%)</td>\n    </tr>\n    <tr>\n      <th>16997</th>\n      <td>198</td>\n      <td>Bloodborne</td>\n      <td>1</td>\n      <td>2023</td>\n      <td>663078(59.1%)</td>\n      <td>45522(31.8%)</td>\n      <td>9455(30.4%)</td>\n      <td>117(8.3%)</td>\n      <td>8355(27.5%)</td>\n      <td>892(59.3%)</td>\n      <td>61(32.6%)</td>\n      <td>14.57(20.7%)</td>\n    </tr>\n    <tr>\n      <th>16998</th>\n      <td>199</td>\n      <td>PowerWash Simulator</td>\n      <td>1</td>\n      <td>2023</td>\n      <td>657644(356.0%)</td>\n      <td>18494(53.7%)</td>\n      <td>63757(473.9%)</td>\n      <td>192(346.5%)</td>\n      <td>6589(42.3%)</td>\n      <td>885(356.2%)</td>\n      <td>24(50%)</td>\n      <td>35.56(196.6%)</td>\n    </tr>\n    <tr>\n      <th>16999</th>\n      <td>200</td>\n      <td>Eternal Return</td>\n      <td>1</td>\n      <td>2023</td>\n      <td>642217(2.4%)</td>\n      <td>24245(7.7%)</td>\n      <td>9933(16.7%)</td>\n      <td>97(15.5%)</td>\n      <td>1997(6.2%)</td>\n      <td>864(2.5%)</td>\n      <td>32(6.7%)</td>\n      <td>26.49(-4.9%)</td>\n    </tr>\n  </tbody>\n</table>\n</div>"
     },
     "execution_count": 180,
     "metadata": {},
     "output_type": "execute_result"
    }
   ],
   "source": [
    "data_games.tail()"
   ],
   "metadata": {
    "collapsed": false
   }
  },
  {
   "cell_type": "markdown",
   "source": [
    "## Pré tratamento de dados (game)"
   ],
   "metadata": {
    "collapsed": false
   }
  },
  {
   "cell_type": "code",
   "execution_count": 181,
   "outputs": [
    {
     "name": "stdout",
     "output_type": "stream",
     "text": [
      "<class 'pandas.core.frame.DataFrame'>\n",
      "RangeIndex: 17000 entries, 0 to 16999\n",
      "Data columns (total 12 columns):\n",
      " #   Column            Non-Null Count  Dtype \n",
      "---  ------            --------------  ----- \n",
      " 0   Rank              17000 non-null  int64 \n",
      " 1   Game              16999 non-null  object\n",
      " 2   Month             17000 non-null  int64 \n",
      " 3   Year              17000 non-null  int64 \n",
      " 4   Hours_watched     17000 non-null  object\n",
      " 5   Hours_Streamed    17000 non-null  object\n",
      " 6   Peak_viewers      17000 non-null  object\n",
      " 7   Peak_channels     17000 non-null  object\n",
      " 8   Streamers         17000 non-null  object\n",
      " 9   Avg_viewers       17000 non-null  object\n",
      " 10  Avg_channels      17000 non-null  object\n",
      " 11  Avg_viewer_ratio  17000 non-null  object\n",
      "dtypes: int64(3), object(9)\n",
      "memory usage: 1.6+ MB\n"
     ]
    }
   ],
   "source": [
    "data_games.info()"
   ],
   "metadata": {
    "collapsed": false
   }
  },
  {
   "cell_type": "code",
   "execution_count": 182,
   "outputs": [
    {
     "data": {
      "text/plain": "      Rank Game  Month  Year Hours_watched Hours_Streamed Peak_viewers  \\\n7561   162  NaN      2  2019        317951    77004 hours        30919   \n\n     Peak_channels Streamers Avg_viewers Avg_channels Avg_viewer_ratio  \n7561          5804     21758         473          114             4.13  ",
      "text/html": "<div>\n<style scoped>\n    .dataframe tbody tr th:only-of-type {\n        vertical-align: middle;\n    }\n\n    .dataframe tbody tr th {\n        vertical-align: top;\n    }\n\n    .dataframe thead th {\n        text-align: right;\n    }\n</style>\n<table border=\"1\" class=\"dataframe\">\n  <thead>\n    <tr style=\"text-align: right;\">\n      <th></th>\n      <th>Rank</th>\n      <th>Game</th>\n      <th>Month</th>\n      <th>Year</th>\n      <th>Hours_watched</th>\n      <th>Hours_Streamed</th>\n      <th>Peak_viewers</th>\n      <th>Peak_channels</th>\n      <th>Streamers</th>\n      <th>Avg_viewers</th>\n      <th>Avg_channels</th>\n      <th>Avg_viewer_ratio</th>\n    </tr>\n  </thead>\n  <tbody>\n    <tr>\n      <th>7561</th>\n      <td>162</td>\n      <td>NaN</td>\n      <td>2</td>\n      <td>2019</td>\n      <td>317951</td>\n      <td>77004 hours</td>\n      <td>30919</td>\n      <td>5804</td>\n      <td>21758</td>\n      <td>473</td>\n      <td>114</td>\n      <td>4.13</td>\n    </tr>\n  </tbody>\n</table>\n</div>"
     },
     "execution_count": 182,
     "metadata": {},
     "output_type": "execute_result"
    }
   ],
   "source": [
    "data_games[data_games['Game'].isnull()]"
   ],
   "metadata": {
    "collapsed": false
   }
  },
  {
   "cell_type": "markdown",
   "source": [
    "### Conversão para numéricos"
   ],
   "metadata": {
    "collapsed": false
   }
  },
  {
   "cell_type": "code",
   "execution_count": 183,
   "outputs": [],
   "source": [
    "#Limpa os valores que estão entre parênteses e converte para inteiro Ex: 542342(12.0%) String -> [542342 , 12.0%)] list -> 542342 inteiro\n",
    "data_games['Hours_watched'] = data_games.loc[:,'Hours_watched'].str.split('(').apply(lambda lista: lista[0]).astype('int')\n",
    "data_games['Peak_viewers'] = data_games.loc[:,'Peak_viewers'].str.split('(').apply(lambda lista: lista[0]).astype('int')\n",
    "data_games['Peak_channels'] = data_games.loc[:,'Peak_channels'].str.split('(').apply(lambda lista: lista[0]).astype('int')\n",
    "data_games['Streamers'] = data_games.loc[:,'Streamers'].str.split('(').apply(lambda lista: lista[0]).astype('int')"
   ],
   "metadata": {
    "collapsed": false
   }
  },
  {
   "cell_type": "code",
   "execution_count": 184,
   "outputs": [],
   "source": [
    "#Limpa os valores que estão entre parênteses Ex: 542342(12.0%) String -> [542342 , 12.0%)] list -> [542342] string dentro de uma lista\n",
    "data_games['Hours_Streamed'] = data_games.loc[:, 'Hours_Streamed'].str.split('(').apply(lambda lista: lista[0])\n",
    "#Verifica valores não numéricos e os retira da string, converte a string restante em inteiro Ex: 231456 hours string -> 231456 string -> 231456 inteiro\n",
    "data_games['Hours_Streamed'] = data_games['Hours_Streamed'].replace(to_replace=r'[^0-9]', value='', regex=True).astype(int)"
   ],
   "metadata": {
    "collapsed": false
   }
  },
  {
   "cell_type": "code",
   "execution_count": 185,
   "outputs": [],
   "source": [
    "#Limpa os valores que estão entre parênteses e converte para float Ex: 470(15.0%) String -> [470 , 15.0%)] list -> 470 float\n",
    "data_games['Avg_viewers'] = data_games.loc[:,'Avg_viewers'].str.split('(').apply(lambda lista: lista[0]).astype('float')\n",
    "data_games['Avg_channels'] = data_games.loc[:,'Avg_channels'].str.split('(').apply(lambda lista: lista[0]).astype('float')\n",
    "data_games['Avg_viewer_ratio'] = data_games.loc[:,'Avg_viewer_ratio'].str.split('(').apply(lambda lista: lista[0]).astype('float')"
   ],
   "metadata": {
    "collapsed": false
   }
  },
  {
   "cell_type": "code",
   "execution_count": 186,
   "outputs": [
    {
     "name": "stdout",
     "output_type": "stream",
     "text": [
      "<class 'pandas.core.frame.DataFrame'>\n",
      "RangeIndex: 17000 entries, 0 to 16999\n",
      "Data columns (total 12 columns):\n",
      " #   Column            Non-Null Count  Dtype  \n",
      "---  ------            --------------  -----  \n",
      " 0   Rank              17000 non-null  int64  \n",
      " 1   Game              16999 non-null  object \n",
      " 2   Month             17000 non-null  int64  \n",
      " 3   Year              17000 non-null  int64  \n",
      " 4   Hours_watched     17000 non-null  int32  \n",
      " 5   Hours_Streamed    17000 non-null  int32  \n",
      " 6   Peak_viewers      17000 non-null  int32  \n",
      " 7   Peak_channels     17000 non-null  int32  \n",
      " 8   Streamers         17000 non-null  int32  \n",
      " 9   Avg_viewers       17000 non-null  float64\n",
      " 10  Avg_channels      17000 non-null  float64\n",
      " 11  Avg_viewer_ratio  17000 non-null  float64\n",
      "dtypes: float64(3), int32(5), int64(3), object(1)\n",
      "memory usage: 1.2+ MB\n"
     ]
    }
   ],
   "source": [
    "data_games.info()"
   ],
   "metadata": {
    "collapsed": false
   }
  },
  {
   "cell_type": "code",
   "execution_count": 187,
   "outputs": [
    {
     "data": {
      "text/plain": "   Rank                              Game  Month  Year  Hours_watched  \\\n0     1                 League of Legends      1  2016       94377226   \n1     2  Counter-Strike: Global Offensive      1  2016       47832863   \n2     3                            Dota 2      1  2016       45185893   \n3     4                       Hearthstone      1  2016       39936159   \n4     5       Call of Duty: Black Ops III      1  2016       16153057   \n\n   Hours_Streamed  Peak_viewers  Peak_channels  Streamers  Avg_viewers  \\\n0         1362044        530270           2903     129172     127021.0   \n1          830105        372654           2197     120849      64378.0   \n2          433397        315083           1100      44074      60815.0   \n3          235903        131357            517      36170      53749.0   \n4         1151578         71639           3620     214054      21740.0   \n\n   Avg_channels  Avg_viewer_ratio  \n0        1833.0             69.29  \n1        1117.0             57.62  \n2         583.0            104.26  \n3         317.0            169.29  \n4        1549.0             14.03  ",
      "text/html": "<div>\n<style scoped>\n    .dataframe tbody tr th:only-of-type {\n        vertical-align: middle;\n    }\n\n    .dataframe tbody tr th {\n        vertical-align: top;\n    }\n\n    .dataframe thead th {\n        text-align: right;\n    }\n</style>\n<table border=\"1\" class=\"dataframe\">\n  <thead>\n    <tr style=\"text-align: right;\">\n      <th></th>\n      <th>Rank</th>\n      <th>Game</th>\n      <th>Month</th>\n      <th>Year</th>\n      <th>Hours_watched</th>\n      <th>Hours_Streamed</th>\n      <th>Peak_viewers</th>\n      <th>Peak_channels</th>\n      <th>Streamers</th>\n      <th>Avg_viewers</th>\n      <th>Avg_channels</th>\n      <th>Avg_viewer_ratio</th>\n    </tr>\n  </thead>\n  <tbody>\n    <tr>\n      <th>0</th>\n      <td>1</td>\n      <td>League of Legends</td>\n      <td>1</td>\n      <td>2016</td>\n      <td>94377226</td>\n      <td>1362044</td>\n      <td>530270</td>\n      <td>2903</td>\n      <td>129172</td>\n      <td>127021.0</td>\n      <td>1833.0</td>\n      <td>69.29</td>\n    </tr>\n    <tr>\n      <th>1</th>\n      <td>2</td>\n      <td>Counter-Strike: Global Offensive</td>\n      <td>1</td>\n      <td>2016</td>\n      <td>47832863</td>\n      <td>830105</td>\n      <td>372654</td>\n      <td>2197</td>\n      <td>120849</td>\n      <td>64378.0</td>\n      <td>1117.0</td>\n      <td>57.62</td>\n    </tr>\n    <tr>\n      <th>2</th>\n      <td>3</td>\n      <td>Dota 2</td>\n      <td>1</td>\n      <td>2016</td>\n      <td>45185893</td>\n      <td>433397</td>\n      <td>315083</td>\n      <td>1100</td>\n      <td>44074</td>\n      <td>60815.0</td>\n      <td>583.0</td>\n      <td>104.26</td>\n    </tr>\n    <tr>\n      <th>3</th>\n      <td>4</td>\n      <td>Hearthstone</td>\n      <td>1</td>\n      <td>2016</td>\n      <td>39936159</td>\n      <td>235903</td>\n      <td>131357</td>\n      <td>517</td>\n      <td>36170</td>\n      <td>53749.0</td>\n      <td>317.0</td>\n      <td>169.29</td>\n    </tr>\n    <tr>\n      <th>4</th>\n      <td>5</td>\n      <td>Call of Duty: Black Ops III</td>\n      <td>1</td>\n      <td>2016</td>\n      <td>16153057</td>\n      <td>1151578</td>\n      <td>71639</td>\n      <td>3620</td>\n      <td>214054</td>\n      <td>21740.0</td>\n      <td>1549.0</td>\n      <td>14.03</td>\n    </tr>\n  </tbody>\n</table>\n</div>"
     },
     "execution_count": 187,
     "metadata": {},
     "output_type": "execute_result"
    }
   ],
   "source": [
    "data_games.head()"
   ],
   "metadata": {
    "collapsed": false
   }
  },
  {
   "cell_type": "code",
   "execution_count": 188,
   "outputs": [
    {
     "data": {
      "text/plain": "       Rank                         Game  Month  Year  Hours_watched  \\\n16995   196  Tom Clancy's The Division 2      1  2023         666943   \n16996   197              Persona 5 Royal      1  2023         664503   \n16997   198                   Bloodborne      1  2023         663078   \n16998   199          PowerWash Simulator      1  2023         657644   \n16999   200               Eternal Return      1  2023         642217   \n\n       Hours_Streamed  Peak_viewers  Peak_channels  Streamers  Avg_viewers  \\\n16995           97138          2759            249      12805        897.0   \n16996           68310         10494            198       7475        894.0   \n16997           45522          9455            117       8355        892.0   \n16998           18494         63757            192       6589        885.0   \n16999           24245          9933             97       1997        864.0   \n\n       Avg_channels  Avg_viewer_ratio  \n16995         130.0              6.87  \n16996          91.0              9.73  \n16997          61.0             14.57  \n16998          24.0             35.56  \n16999          32.0             26.49  ",
      "text/html": "<div>\n<style scoped>\n    .dataframe tbody tr th:only-of-type {\n        vertical-align: middle;\n    }\n\n    .dataframe tbody tr th {\n        vertical-align: top;\n    }\n\n    .dataframe thead th {\n        text-align: right;\n    }\n</style>\n<table border=\"1\" class=\"dataframe\">\n  <thead>\n    <tr style=\"text-align: right;\">\n      <th></th>\n      <th>Rank</th>\n      <th>Game</th>\n      <th>Month</th>\n      <th>Year</th>\n      <th>Hours_watched</th>\n      <th>Hours_Streamed</th>\n      <th>Peak_viewers</th>\n      <th>Peak_channels</th>\n      <th>Streamers</th>\n      <th>Avg_viewers</th>\n      <th>Avg_channels</th>\n      <th>Avg_viewer_ratio</th>\n    </tr>\n  </thead>\n  <tbody>\n    <tr>\n      <th>16995</th>\n      <td>196</td>\n      <td>Tom Clancy's The Division 2</td>\n      <td>1</td>\n      <td>2023</td>\n      <td>666943</td>\n      <td>97138</td>\n      <td>2759</td>\n      <td>249</td>\n      <td>12805</td>\n      <td>897.0</td>\n      <td>130.0</td>\n      <td>6.87</td>\n    </tr>\n    <tr>\n      <th>16996</th>\n      <td>197</td>\n      <td>Persona 5 Royal</td>\n      <td>1</td>\n      <td>2023</td>\n      <td>664503</td>\n      <td>68310</td>\n      <td>10494</td>\n      <td>198</td>\n      <td>7475</td>\n      <td>894.0</td>\n      <td>91.0</td>\n      <td>9.73</td>\n    </tr>\n    <tr>\n      <th>16997</th>\n      <td>198</td>\n      <td>Bloodborne</td>\n      <td>1</td>\n      <td>2023</td>\n      <td>663078</td>\n      <td>45522</td>\n      <td>9455</td>\n      <td>117</td>\n      <td>8355</td>\n      <td>892.0</td>\n      <td>61.0</td>\n      <td>14.57</td>\n    </tr>\n    <tr>\n      <th>16998</th>\n      <td>199</td>\n      <td>PowerWash Simulator</td>\n      <td>1</td>\n      <td>2023</td>\n      <td>657644</td>\n      <td>18494</td>\n      <td>63757</td>\n      <td>192</td>\n      <td>6589</td>\n      <td>885.0</td>\n      <td>24.0</td>\n      <td>35.56</td>\n    </tr>\n    <tr>\n      <th>16999</th>\n      <td>200</td>\n      <td>Eternal Return</td>\n      <td>1</td>\n      <td>2023</td>\n      <td>642217</td>\n      <td>24245</td>\n      <td>9933</td>\n      <td>97</td>\n      <td>1997</td>\n      <td>864.0</td>\n      <td>32.0</td>\n      <td>26.49</td>\n    </tr>\n  </tbody>\n</table>\n</div>"
     },
     "execution_count": 188,
     "metadata": {},
     "output_type": "execute_result"
    }
   ],
   "source": [
    "data_games.tail()"
   ],
   "metadata": {
    "collapsed": false
   }
  },
  {
   "cell_type": "markdown",
   "source": [
    "## Análise do Top 1 de cada mês"
   ],
   "metadata": {
    "collapsed": false
   }
  },
  {
   "cell_type": "code",
   "execution_count": 228,
   "outputs": [
    {
     "data": {
      "text/plain": "       Rank               Game  Month  Year  Hours_watched  Hours_Streamed  \\\n0         1  League of Legends      1  2016       94377226         1362044   \n200       1  League of Legends      2  2016       93154772         1266715   \n400       1  League of Legends      3  2016       94514511         1264029   \n600       1  League of Legends      4  2016       88389049         1217250   \n800       1  League of Legends      5  2016       80679320         1196096   \n...     ...                ...    ...   ...            ...             ...   \n16000     1      Just Chatting      9  2022      249025325         2874872   \n16200     1      Just Chatting     10  2022      242960233         2945016   \n16400     1      Just Chatting     11  2022      239755926         2671266   \n16600     1      Just Chatting     12  2022      254521690         2801321   \n16800     1      Just Chatting      1  2023      264212906         2948218   \n\n       Peak_viewers  Peak_channels  Streamers  Avg_viewers  Avg_channels  \\\n0            530270           2903     129172     127021.0        1833.0   \n200          475784           2712     117996     134035.0        1822.0   \n400          599114           2585     117734     127206.0        1701.0   \n600          553165           2945     113251     122933.0        1692.0   \n800          433005           2635     118593     108585.0        1609.0   \n...             ...            ...        ...          ...           ...   \n16000        859041           6280     529973     346349.0        3998.0   \n16200        741825           6112     521547     326998.0        3963.0   \n16400        809381           6480     469749     333457.0        3715.0   \n16600        992439           7645     468778     342559.0        3770.0   \n16800        939942           6063     505166     355602.0        3967.0   \n\n       Avg_viewer_ratio  \n0                 69.29  \n200               73.54  \n400               74.77  \n600               72.61  \n800               67.45  \n...                 ...  \n16000             86.62  \n16200             82.50  \n16400             89.75  \n16600             90.86  \n16800             89.62  \n\n[85 rows x 12 columns]",
      "text/html": "<div>\n<style scoped>\n    .dataframe tbody tr th:only-of-type {\n        vertical-align: middle;\n    }\n\n    .dataframe tbody tr th {\n        vertical-align: top;\n    }\n\n    .dataframe thead th {\n        text-align: right;\n    }\n</style>\n<table border=\"1\" class=\"dataframe\">\n  <thead>\n    <tr style=\"text-align: right;\">\n      <th></th>\n      <th>Rank</th>\n      <th>Game</th>\n      <th>Month</th>\n      <th>Year</th>\n      <th>Hours_watched</th>\n      <th>Hours_Streamed</th>\n      <th>Peak_viewers</th>\n      <th>Peak_channels</th>\n      <th>Streamers</th>\n      <th>Avg_viewers</th>\n      <th>Avg_channels</th>\n      <th>Avg_viewer_ratio</th>\n    </tr>\n  </thead>\n  <tbody>\n    <tr>\n      <th>0</th>\n      <td>1</td>\n      <td>League of Legends</td>\n      <td>1</td>\n      <td>2016</td>\n      <td>94377226</td>\n      <td>1362044</td>\n      <td>530270</td>\n      <td>2903</td>\n      <td>129172</td>\n      <td>127021.0</td>\n      <td>1833.0</td>\n      <td>69.29</td>\n    </tr>\n    <tr>\n      <th>200</th>\n      <td>1</td>\n      <td>League of Legends</td>\n      <td>2</td>\n      <td>2016</td>\n      <td>93154772</td>\n      <td>1266715</td>\n      <td>475784</td>\n      <td>2712</td>\n      <td>117996</td>\n      <td>134035.0</td>\n      <td>1822.0</td>\n      <td>73.54</td>\n    </tr>\n    <tr>\n      <th>400</th>\n      <td>1</td>\n      <td>League of Legends</td>\n      <td>3</td>\n      <td>2016</td>\n      <td>94514511</td>\n      <td>1264029</td>\n      <td>599114</td>\n      <td>2585</td>\n      <td>117734</td>\n      <td>127206.0</td>\n      <td>1701.0</td>\n      <td>74.77</td>\n    </tr>\n    <tr>\n      <th>600</th>\n      <td>1</td>\n      <td>League of Legends</td>\n      <td>4</td>\n      <td>2016</td>\n      <td>88389049</td>\n      <td>1217250</td>\n      <td>553165</td>\n      <td>2945</td>\n      <td>113251</td>\n      <td>122933.0</td>\n      <td>1692.0</td>\n      <td>72.61</td>\n    </tr>\n    <tr>\n      <th>800</th>\n      <td>1</td>\n      <td>League of Legends</td>\n      <td>5</td>\n      <td>2016</td>\n      <td>80679320</td>\n      <td>1196096</td>\n      <td>433005</td>\n      <td>2635</td>\n      <td>118593</td>\n      <td>108585.0</td>\n      <td>1609.0</td>\n      <td>67.45</td>\n    </tr>\n    <tr>\n      <th>...</th>\n      <td>...</td>\n      <td>...</td>\n      <td>...</td>\n      <td>...</td>\n      <td>...</td>\n      <td>...</td>\n      <td>...</td>\n      <td>...</td>\n      <td>...</td>\n      <td>...</td>\n      <td>...</td>\n      <td>...</td>\n    </tr>\n    <tr>\n      <th>16000</th>\n      <td>1</td>\n      <td>Just Chatting</td>\n      <td>9</td>\n      <td>2022</td>\n      <td>249025325</td>\n      <td>2874872</td>\n      <td>859041</td>\n      <td>6280</td>\n      <td>529973</td>\n      <td>346349.0</td>\n      <td>3998.0</td>\n      <td>86.62</td>\n    </tr>\n    <tr>\n      <th>16200</th>\n      <td>1</td>\n      <td>Just Chatting</td>\n      <td>10</td>\n      <td>2022</td>\n      <td>242960233</td>\n      <td>2945016</td>\n      <td>741825</td>\n      <td>6112</td>\n      <td>521547</td>\n      <td>326998.0</td>\n      <td>3963.0</td>\n      <td>82.50</td>\n    </tr>\n    <tr>\n      <th>16400</th>\n      <td>1</td>\n      <td>Just Chatting</td>\n      <td>11</td>\n      <td>2022</td>\n      <td>239755926</td>\n      <td>2671266</td>\n      <td>809381</td>\n      <td>6480</td>\n      <td>469749</td>\n      <td>333457.0</td>\n      <td>3715.0</td>\n      <td>89.75</td>\n    </tr>\n    <tr>\n      <th>16600</th>\n      <td>1</td>\n      <td>Just Chatting</td>\n      <td>12</td>\n      <td>2022</td>\n      <td>254521690</td>\n      <td>2801321</td>\n      <td>992439</td>\n      <td>7645</td>\n      <td>468778</td>\n      <td>342559.0</td>\n      <td>3770.0</td>\n      <td>90.86</td>\n    </tr>\n    <tr>\n      <th>16800</th>\n      <td>1</td>\n      <td>Just Chatting</td>\n      <td>1</td>\n      <td>2023</td>\n      <td>264212906</td>\n      <td>2948218</td>\n      <td>939942</td>\n      <td>6063</td>\n      <td>505166</td>\n      <td>355602.0</td>\n      <td>3967.0</td>\n      <td>89.62</td>\n    </tr>\n  </tbody>\n</table>\n<p>85 rows × 12 columns</p>\n</div>"
     },
     "execution_count": 228,
     "metadata": {},
     "output_type": "execute_result"
    }
   ],
   "source": [
    "data_games[data_games['Rank'] == 1]"
   ],
   "metadata": {
    "collapsed": false
   }
  },
  {
   "cell_type": "markdown",
   "source": [
    "### Just Chatting"
   ],
   "metadata": {
    "collapsed": false
   }
  },
  {
   "cell_type": "code",
   "execution_count": 254,
   "outputs": [
    {
     "name": "stdout",
     "output_type": "stream",
     "text": [
      "Year\n",
      "2018     141303847\n",
      "2019     759733055\n",
      "2020    1995891029\n",
      "2021    3020771657\n",
      "2022    3139111208\n",
      "2023     264212906\n",
      "Name: Hours_watched, dtype: int64\n"
     ]
    }
   ],
   "source": [
    "#dataframe com informações apenas do Just Chatting\n",
    "df_just = data_games[data_games['Game'] == 'Just Chatting']\n",
    "print(df_just.groupby(['Year'])['Hours_watched'].sum())"
   ],
   "metadata": {
    "collapsed": false
   }
  },
  {
   "cell_type": "code",
   "execution_count": 318,
   "outputs": [
    {
     "name": "stdout",
     "output_type": "stream",
     "text": [
      "\n",
      "A razão entre o número de horas assistidas no Just Chatting e o número total\n",
      "de horas assistidas na Twitch(2018-2023) é de 0.1062, o que corresponde\n",
      "a uma porcentagem de 10.62 %\n",
      " \n"
     ]
    }
   ],
   "source": [
    "#Horas assistidas do Just Chatting (2018-2023)\n",
    "horas_just = df_just['Hours_watched'].sum()\n",
    "#Total de horas assistidas no geral (2018-2023)\n",
    "horas_total = sum(data.groupby(['ano'])['horas_assistidas'].sum()[2:])\n",
    "#Razão de horas do just chatting em relação ao total de horas\n",
    "print(f'\\nA razão entre o número de horas assistidas no Just Chatting e o número total\\n'\n",
    "      f'de horas assistidas na Twitch(2018-2023) é de {horas_just/horas_total:.4f}, o que corresponde\\n'\n",
    "      f'a uma porcentagem de {(horas_just/horas_total)*100:.2f} %\\n ')"
   ],
   "metadata": {
    "collapsed": false
   }
  },
  {
   "cell_type": "code",
   "execution_count": 256,
   "outputs": [
    {
     "name": "stdout",
     "output_type": "stream",
     "text": [
      "2016          NaN\n",
      "2017          NaN\n",
      "2018     1.508153\n",
      "2019     6.906534\n",
      "2020    10.726575\n",
      "2021    12.412927\n",
      "2022    13.890819\n",
      "2023    14.152020\n",
      "dtype: float64\n"
     ]
    }
   ],
   "source": [
    "#Razão ano a ano em porcentagem\n",
    "print((df_just.groupby(['Year'])['Hours_watched'].sum())*100/(data.groupby(['ano'])['horas_assistidas'].sum()))"
   ],
   "metadata": {
    "collapsed": false
   }
  },
  {
   "cell_type": "markdown",
   "source": [
    "## Análise de jogos"
   ],
   "metadata": {
    "collapsed": false
   }
  },
  {
   "cell_type": "markdown",
   "source": [
    "### League of legends"
   ],
   "metadata": {
    "collapsed": false
   }
  },
  {
   "cell_type": "code",
   "execution_count": 312,
   "outputs": [
    {
     "data": {
      "text/plain": "League of Legends                         85\nLeague of Legends: Wild Rift              28\nRuined King: A League of Legends Story     1\nName: Game, dtype: int64"
     },
     "execution_count": 312,
     "metadata": {},
     "output_type": "execute_result"
    }
   ],
   "source": [
    "#verificação da versão principal de League of legends\n",
    "data_games[data_games['Game'].str.contains('League of Legends') == True]['Game'].value_counts()"
   ],
   "metadata": {
    "collapsed": false
   }
  },
  {
   "cell_type": "code",
   "execution_count": 272,
   "outputs": [
    {
     "data": {
      "text/plain": "Year\n2016    1035469850\n2017    1022398595\n2018     985380685\n2019    1118435546\n2020    1553536532\n2021    1735661105\n2022    1556699612\n2023     126494155\nName: Hours_watched, dtype: int32"
     },
     "execution_count": 272,
     "metadata": {},
     "output_type": "execute_result"
    }
   ],
   "source": [
    "#criação de um dataframe com informações apenas de League of legends\n",
    "df_lol = data_games[data_games['Game'] == 'League of Legends']\n",
    "#quantidade de horas assistidas em cada ano\n",
    "df_lol.groupby(['Year'])['Hours_watched'].sum()"
   ],
   "metadata": {
    "collapsed": false
   }
  },
  {
   "cell_type": "code",
   "execution_count": 269,
   "outputs": [
    {
     "data": {
      "text/plain": "Year\n2016    19.642783\n2017    15.648362\n2018    10.517087\n2019    10.167405\n2020     8.349216\n2021     7.132163\n2022     6.888521\n2023     6.775399\ndtype: float64"
     },
     "execution_count": 269,
     "metadata": {},
     "output_type": "execute_result"
    }
   ],
   "source": [
    "#comparação em relação às horas assistidas no total\n",
    "((df_lol.groupby(['Year'])['Hours_watched'].sum())/(data.groupby(['ano'])['horas_assistidas'].sum()))*100"
   ],
   "metadata": {
    "collapsed": false
   }
  },
  {
   "cell_type": "code",
   "execution_count": 274,
   "outputs": [
    {
     "data": {
      "text/plain": "Year\n2016          NaN\n2017          NaN\n2018    10.678130\n2019    10.921717\n2020     9.352410\n2021     8.142940\n2022     7.999752\n2023     7.892322\ndtype: float64"
     },
     "execution_count": 274,
     "metadata": {},
     "output_type": "execute_result"
    }
   ],
   "source": [
    "#comparação em relação às horas assistidas no total desconsiderando-se o Just Chatting\n",
    "((df_lol.groupby(['Year'])['Hours_watched'].sum())/(data.groupby(['ano'])['horas_assistidas'].sum() - df_just.groupby(['Year'])['Hours_watched'].sum()))*100"
   ],
   "metadata": {
    "collapsed": false
   }
  },
  {
   "cell_type": "markdown",
   "source": [
    "### Dota\n"
   ],
   "metadata": {
    "collapsed": false
   }
  },
  {
   "cell_type": "code",
   "execution_count": 314,
   "outputs": [
    {
     "data": {
      "text/plain": "Dota 2             85\nDota Underlords     9\nName: Game, dtype: int64"
     },
     "execution_count": 314,
     "metadata": {},
     "output_type": "execute_result"
    }
   ],
   "source": [
    "#verificação da versão principal de dota\n",
    "data_games[data_games['Game'].str.contains('Dota') == True]['Game'].value_counts()"
   ],
   "metadata": {
    "collapsed": false
   }
  },
  {
   "cell_type": "code",
   "execution_count": 315,
   "outputs": [
    {
     "data": {
      "text/plain": "Year\n2016    496585969\n2017    449879503\n2018    472414819\n2019    503022570\n2020    497151335\n2021    578484298\n2022    532253215\n2023     43317513\nName: Hours_watched, dtype: int32"
     },
     "execution_count": 315,
     "metadata": {},
     "output_type": "execute_result"
    }
   ],
   "source": [
    "#criação de um dataframe com informações apenas de Dota 2\n",
    "df_dota = data_games[data_games['Game'] == 'Dota 2']\n",
    "#quantidade de horas assistidas em cada ano\n",
    "df_dota.groupby(['Year'])['Hours_watched'].sum()"
   ],
   "metadata": {
    "collapsed": false
   }
  },
  {
   "cell_type": "code",
   "execution_count": 316,
   "outputs": [
    {
     "data": {
      "text/plain": "Year\n2016    9.420197\n2017    6.885649\n2018    5.042141\n2019    4.572846\n2020    2.671855\n2021    2.377102\n2022    2.355263\n2023    2.320213\ndtype: float64"
     },
     "execution_count": 316,
     "metadata": {},
     "output_type": "execute_result"
    }
   ],
   "source": [
    "#comparação em relação às horas assistidas no total\n",
    "((df_dota.groupby(['Year'])['Hours_watched'].sum())/(data.groupby(['ano'])['horas_assistidas'].sum()))*100"
   ],
   "metadata": {
    "collapsed": false
   }
  },
  {
   "cell_type": "code",
   "execution_count": 319,
   "outputs": [
    {
     "data": {
      "text/plain": "Year\n2016         NaN\n2017         NaN\n2018    5.119348\n2019    4.912103\n2020    2.992889\n2021    2.713988\n2022    2.735206\n2023    2.702700\ndtype: float64"
     },
     "execution_count": 319,
     "metadata": {},
     "output_type": "execute_result"
    }
   ],
   "source": [
    "#comparação em relação às horas assistidas no total desconsiderando-se o Just Chatting\n",
    "((df_dota.groupby(['Year'])['Hours_watched'].sum())/(data.groupby(['ano'])['horas_assistidas'].sum() - df_just.groupby(['Year'])['Hours_watched'].sum()))*100"
   ],
   "metadata": {
    "collapsed": false
   }
  },
  {
   "cell_type": "markdown",
   "source": [
    "### Comparação entre League of legends e Dota"
   ],
   "metadata": {
    "collapsed": false
   }
  },
  {
   "cell_type": "code",
   "execution_count": null,
   "outputs": [],
   "source": [],
   "metadata": {
    "collapsed": false
   }
  }
 ],
 "metadata": {
  "kernelspec": {
   "display_name": "Python 3",
   "language": "python",
   "name": "python3"
  },
  "language_info": {
   "codemirror_mode": {
    "name": "ipython",
    "version": 2
   },
   "file_extension": ".py",
   "mimetype": "text/x-python",
   "name": "python",
   "nbconvert_exporter": "python",
   "pygments_lexer": "ipython2",
   "version": "2.7.6"
  }
 },
 "nbformat": 4,
 "nbformat_minor": 0
}
