{
 "cells": [
  {
   "cell_type": "markdown",
   "id": "61187dd2",
   "metadata": {
    "heading_collapsed": true
   },
   "source": [
    "## Cabeçalho"
   ]
  },
  {
   "cell_type": "code",
   "execution_count": 61,
   "id": "0ccad252",
   "metadata": {
    "hidden": true
   },
   "outputs": [
    {
     "data": {
      "text/html": [
       "<div>\n",
       "<style scoped>\n",
       "    .dataframe tbody tr th:only-of-type {\n",
       "        vertical-align: middle;\n",
       "    }\n",
       "\n",
       "    .dataframe tbody tr th {\n",
       "        vertical-align: top;\n",
       "    }\n",
       "\n",
       "    .dataframe thead th {\n",
       "        text-align: right;\n",
       "    }\n",
       "</style>\n",
       "<table border=\"1\" class=\"dataframe\">\n",
       "  <thead>\n",
       "    <tr style=\"text-align: right;\">\n",
       "      <th></th>\n",
       "      <th>year</th>\n",
       "      <th>Month</th>\n",
       "      <th>Hours_watched</th>\n",
       "      <th>Avg_viewers</th>\n",
       "      <th>Peak_viewers</th>\n",
       "      <th>Streams</th>\n",
       "      <th>Avg_channels</th>\n",
       "      <th>Games_streamed</th>\n",
       "      <th>Viewer_ratio</th>\n",
       "    </tr>\n",
       "  </thead>\n",
       "  <tbody>\n",
       "    <tr>\n",
       "      <th>0</th>\n",
       "      <td>2016</td>\n",
       "      <td>1</td>\n",
       "      <td>480241904</td>\n",
       "      <td>646355</td>\n",
       "      <td>1275257</td>\n",
       "      <td>7701675</td>\n",
       "      <td>20076</td>\n",
       "      <td>12149</td>\n",
       "      <td>29.08</td>\n",
       "    </tr>\n",
       "    <tr>\n",
       "      <th>1</th>\n",
       "      <td>2016</td>\n",
       "      <td>2</td>\n",
       "      <td>441859897</td>\n",
       "      <td>635769</td>\n",
       "      <td>1308032</td>\n",
       "      <td>7038520</td>\n",
       "      <td>20427</td>\n",
       "      <td>12134</td>\n",
       "      <td>28.98</td>\n",
       "    </tr>\n",
       "    <tr>\n",
       "      <th>2</th>\n",
       "      <td>2016</td>\n",
       "      <td>3</td>\n",
       "      <td>490669308</td>\n",
       "      <td>660389</td>\n",
       "      <td>1591551</td>\n",
       "      <td>7390957</td>\n",
       "      <td>20271</td>\n",
       "      <td>12234</td>\n",
       "      <td>28.92</td>\n",
       "    </tr>\n",
       "    <tr>\n",
       "      <th>3</th>\n",
       "      <td>2016</td>\n",
       "      <td>4</td>\n",
       "      <td>377975447</td>\n",
       "      <td>525696</td>\n",
       "      <td>1775120</td>\n",
       "      <td>6869719</td>\n",
       "      <td>16791</td>\n",
       "      <td>12282</td>\n",
       "      <td>28.80</td>\n",
       "    </tr>\n",
       "    <tr>\n",
       "      <th>4</th>\n",
       "      <td>2016</td>\n",
       "      <td>5</td>\n",
       "      <td>449836631</td>\n",
       "      <td>605432</td>\n",
       "      <td>1438962</td>\n",
       "      <td>7535519</td>\n",
       "      <td>19394</td>\n",
       "      <td>12424</td>\n",
       "      <td>28.85</td>\n",
       "    </tr>\n",
       "  </tbody>\n",
       "</table>\n",
       "</div>"
      ],
      "text/plain": [
       "   year  Month  Hours_watched  Avg_viewers  Peak_viewers  Streams  \\\n",
       "0  2016      1      480241904       646355       1275257  7701675   \n",
       "1  2016      2      441859897       635769       1308032  7038520   \n",
       "2  2016      3      490669308       660389       1591551  7390957   \n",
       "3  2016      4      377975447       525696       1775120  6869719   \n",
       "4  2016      5      449836631       605432       1438962  7535519   \n",
       "\n",
       "   Avg_channels  Games_streamed  Viewer_ratio  \n",
       "0         20076           12149         29.08  \n",
       "1         20427           12134         28.98  \n",
       "2         20271           12234         28.92  \n",
       "3         16791           12282         28.80  \n",
       "4         19394           12424         28.85  "
      ]
     },
     "execution_count": 61,
     "metadata": {},
     "output_type": "execute_result"
    }
   ],
   "source": [
    "import pandas as pd\n",
    "import numpy as np\n",
    "\n",
    "data = pd.read_csv('Twitch_global_data.csv')\n",
    "data.head()"
   ]
  },
  {
   "cell_type": "markdown",
   "id": "836cdba1",
   "metadata": {
    "heading_collapsed": true
   },
   "source": [
    "## Análises Matemáticas"
   ]
  },
  {
   "cell_type": "code",
   "execution_count": 62,
   "id": "7bb50525",
   "metadata": {
    "hidden": true
   },
   "outputs": [],
   "source": [
    "data.rename(columns={\n",
    "    'year':'ano',\n",
    "    'Month':'mes',\n",
    "    'Hours_watched':'horas_assistidas',\n",
    "    'Avg_viewers':'media_visualizacoes',\n",
    "    'Peak_viewers':'pico_de_visualizacoes',\n",
    "    'Avg_channels':'media_canais',\n",
    "    'Games_streamed':'jogos_transmitidos',\n",
    "    'Viewer_ratio':'proporcao_de_espectadores',\n",
    "}, inplace=True)"
   ]
  },
  {
   "cell_type": "code",
   "execution_count": 4,
   "id": "1c062aea",
   "metadata": {
    "hidden": true,
    "scrolled": true
   },
   "outputs": [
    {
     "name": "stdout",
     "output_type": "stream",
     "text": [
      "<class 'pandas.core.frame.DataFrame'>\n",
      "RangeIndex: 85 entries, 0 to 84\n",
      "Data columns (total 9 columns):\n",
      " #   Column                     Non-Null Count  Dtype  \n",
      "---  ------                     --------------  -----  \n",
      " 0   ano                        85 non-null     int64  \n",
      " 1   mes                        85 non-null     int64  \n",
      " 2   horas_assistidas           85 non-null     int64  \n",
      " 3   media_visualizacoes        85 non-null     int64  \n",
      " 4   pico_de_visualizacoes      85 non-null     int64  \n",
      " 5   Streams                    85 non-null     int64  \n",
      " 6   media_canais               85 non-null     int64  \n",
      " 7   jogos_transmitidos         85 non-null     int64  \n",
      " 8   proporcao_de_espectadores  85 non-null     float64\n",
      "dtypes: float64(1), int64(8)\n",
      "memory usage: 6.1 KB\n"
     ]
    }
   ],
   "source": [
    "data.info()"
   ]
  },
  {
   "cell_type": "code",
   "execution_count": 5,
   "id": "b2166336",
   "metadata": {
    "hidden": true
   },
   "outputs": [
    {
     "data": {
      "text/plain": [
       "ano                          0\n",
       "mes                          0\n",
       "horas_assistidas             0\n",
       "media_visualizacoes          0\n",
       "pico_de_visualizacoes        0\n",
       "Streams                      0\n",
       "media_canais                 0\n",
       "jogos_transmitidos           0\n",
       "proporcao_de_espectadores    0\n",
       "dtype: int64"
      ]
     },
     "execution_count": 5,
     "metadata": {},
     "output_type": "execute_result"
    }
   ],
   "source": [
    "data.isnull().sum()"
   ]
  },
  {
   "cell_type": "code",
   "execution_count": 6,
   "id": "f0bd1fc2",
   "metadata": {
    "hidden": true
   },
   "outputs": [
    {
     "data": {
      "text/html": [
       "<div>\n",
       "<style scoped>\n",
       "    .dataframe tbody tr th:only-of-type {\n",
       "        vertical-align: middle;\n",
       "    }\n",
       "\n",
       "    .dataframe tbody tr th {\n",
       "        vertical-align: top;\n",
       "    }\n",
       "\n",
       "    .dataframe thead th {\n",
       "        text-align: right;\n",
       "    }\n",
       "</style>\n",
       "<table border=\"1\" class=\"dataframe\">\n",
       "  <thead>\n",
       "    <tr style=\"text-align: right;\">\n",
       "      <th></th>\n",
       "      <th>ano</th>\n",
       "      <th>mes</th>\n",
       "      <th>horas_assistidas</th>\n",
       "      <th>media_visualizacoes</th>\n",
       "      <th>pico_de_visualizacoes</th>\n",
       "      <th>Streams</th>\n",
       "      <th>media_canais</th>\n",
       "      <th>jogos_transmitidos</th>\n",
       "      <th>proporcao_de_espectadores</th>\n",
       "    </tr>\n",
       "  </thead>\n",
       "  <tbody>\n",
       "    <tr>\n",
       "      <th>count</th>\n",
       "      <td>85.000000</td>\n",
       "      <td>85.000000</td>\n",
       "      <td>8.500000e+01</td>\n",
       "      <td>8.500000e+01</td>\n",
       "      <td>8.500000e+01</td>\n",
       "      <td>8.500000e+01</td>\n",
       "      <td>85.000000</td>\n",
       "      <td>85.000000</td>\n",
       "      <td>85.000000</td>\n",
       "    </tr>\n",
       "    <tr>\n",
       "      <th>mean</th>\n",
       "      <td>2019.047059</td>\n",
       "      <td>6.435294</td>\n",
       "      <td>1.171561e+09</td>\n",
       "      <td>1.605636e+06</td>\n",
       "      <td>3.310116e+06</td>\n",
       "      <td>1.543479e+07</td>\n",
       "      <td>60414.117647</td>\n",
       "      <td>24771.341176</td>\n",
       "      <td>26.779176</td>\n",
       "    </tr>\n",
       "    <tr>\n",
       "      <th>std</th>\n",
       "      <td>2.046518</td>\n",
       "      <td>3.503220</td>\n",
       "      <td>6.218263e+08</td>\n",
       "      <td>8.522275e+05</td>\n",
       "      <td>1.637731e+06</td>\n",
       "      <td>6.240952e+06</td>\n",
       "      <td>33558.528869</td>\n",
       "      <td>10319.046780</td>\n",
       "      <td>1.588932</td>\n",
       "    </tr>\n",
       "    <tr>\n",
       "      <th>min</th>\n",
       "      <td>2016.000000</td>\n",
       "      <td>1.000000</td>\n",
       "      <td>3.628332e+08</td>\n",
       "      <td>5.046350e+05</td>\n",
       "      <td>1.186009e+06</td>\n",
       "      <td>5.507554e+06</td>\n",
       "      <td>16592.000000</td>\n",
       "      <td>12134.000000</td>\n",
       "      <td>22.650000</td>\n",
       "    </tr>\n",
       "    <tr>\n",
       "      <th>25%</th>\n",
       "      <td>2017.000000</td>\n",
       "      <td>3.000000</td>\n",
       "      <td>5.755515e+08</td>\n",
       "      <td>7.875870e+05</td>\n",
       "      <td>1.823848e+06</td>\n",
       "      <td>8.672879e+06</td>\n",
       "      <td>25810.000000</td>\n",
       "      <td>15962.000000</td>\n",
       "      <td>25.710000</td>\n",
       "    </tr>\n",
       "    <tr>\n",
       "      <th>50%</th>\n",
       "      <td>2019.000000</td>\n",
       "      <td>6.000000</td>\n",
       "      <td>9.166925e+08</td>\n",
       "      <td>1.264495e+06</td>\n",
       "      <td>2.692333e+06</td>\n",
       "      <td>1.505304e+07</td>\n",
       "      <td>48357.000000</td>\n",
       "      <td>20248.000000</td>\n",
       "      <td>26.890000</td>\n",
       "    </tr>\n",
       "    <tr>\n",
       "      <th>75%</th>\n",
       "      <td>2021.000000</td>\n",
       "      <td>9.000000</td>\n",
       "      <td>1.834840e+09</td>\n",
       "      <td>2.520330e+06</td>\n",
       "      <td>4.815581e+06</td>\n",
       "      <td>2.028536e+07</td>\n",
       "      <td>93867.000000</td>\n",
       "      <td>35577.000000</td>\n",
       "      <td>28.130000</td>\n",
       "    </tr>\n",
       "    <tr>\n",
       "      <th>max</th>\n",
       "      <td>2023.000000</td>\n",
       "      <td>12.000000</td>\n",
       "      <td>2.308295e+09</td>\n",
       "      <td>3.112681e+06</td>\n",
       "      <td>6.707070e+06</td>\n",
       "      <td>2.759115e+07</td>\n",
       "      <td>122763.000000</td>\n",
       "      <td>43611.000000</td>\n",
       "      <td>30.390000</td>\n",
       "    </tr>\n",
       "  </tbody>\n",
       "</table>\n",
       "</div>"
      ],
      "text/plain": [
       "               ano        mes  horas_assistidas  media_visualizacoes  \\\n",
       "count    85.000000  85.000000      8.500000e+01         8.500000e+01   \n",
       "mean   2019.047059   6.435294      1.171561e+09         1.605636e+06   \n",
       "std       2.046518   3.503220      6.218263e+08         8.522275e+05   \n",
       "min    2016.000000   1.000000      3.628332e+08         5.046350e+05   \n",
       "25%    2017.000000   3.000000      5.755515e+08         7.875870e+05   \n",
       "50%    2019.000000   6.000000      9.166925e+08         1.264495e+06   \n",
       "75%    2021.000000   9.000000      1.834840e+09         2.520330e+06   \n",
       "max    2023.000000  12.000000      2.308295e+09         3.112681e+06   \n",
       "\n",
       "       pico_de_visualizacoes       Streams   media_canais  jogos_transmitidos  \\\n",
       "count           8.500000e+01  8.500000e+01      85.000000           85.000000   \n",
       "mean            3.310116e+06  1.543479e+07   60414.117647        24771.341176   \n",
       "std             1.637731e+06  6.240952e+06   33558.528869        10319.046780   \n",
       "min             1.186009e+06  5.507554e+06   16592.000000        12134.000000   \n",
       "25%             1.823848e+06  8.672879e+06   25810.000000        15962.000000   \n",
       "50%             2.692333e+06  1.505304e+07   48357.000000        20248.000000   \n",
       "75%             4.815581e+06  2.028536e+07   93867.000000        35577.000000   \n",
       "max             6.707070e+06  2.759115e+07  122763.000000        43611.000000   \n",
       "\n",
       "       proporcao_de_espectadores  \n",
       "count                  85.000000  \n",
       "mean                   26.779176  \n",
       "std                     1.588932  \n",
       "min                    22.650000  \n",
       "25%                    25.710000  \n",
       "50%                    26.890000  \n",
       "75%                    28.130000  \n",
       "max                    30.390000  "
      ]
     },
     "execution_count": 6,
     "metadata": {},
     "output_type": "execute_result"
    }
   ],
   "source": [
    "data.describe()"
   ]
  },
  {
   "cell_type": "markdown",
   "id": "53edd714",
   "metadata": {},
   "source": [
    "## Etapa Projeto"
   ]
  },
  {
   "cell_type": "markdown",
   "id": "22d1d7c4",
   "metadata": {},
   "source": [
    "### Maior e Menor médias de visualizações por horas assistidas"
   ]
  },
  {
   "cell_type": "code",
   "execution_count": 64,
   "id": "f1d8ae19",
   "metadata": {},
   "outputs": [
    {
     "data": {
      "text/html": [
       "<div>\n",
       "<style scoped>\n",
       "    .dataframe tbody tr th:only-of-type {\n",
       "        vertical-align: middle;\n",
       "    }\n",
       "\n",
       "    .dataframe tbody tr th {\n",
       "        vertical-align: top;\n",
       "    }\n",
       "\n",
       "    .dataframe thead th {\n",
       "        text-align: right;\n",
       "    }\n",
       "</style>\n",
       "<table border=\"1\" class=\"dataframe\">\n",
       "  <thead>\n",
       "    <tr style=\"text-align: right;\">\n",
       "      <th></th>\n",
       "      <th>ano</th>\n",
       "      <th>mes</th>\n",
       "      <th>horas_assistidas</th>\n",
       "      <th>media_visualizacoes</th>\n",
       "      <th>pico_de_visualizacoes</th>\n",
       "      <th>Streams</th>\n",
       "      <th>media_canais</th>\n",
       "      <th>jogos_transmitidos</th>\n",
       "      <th>proporcao_de_espectadores</th>\n",
       "    </tr>\n",
       "  </thead>\n",
       "  <tbody>\n",
       "    <tr>\n",
       "      <th>0</th>\n",
       "      <td>2016</td>\n",
       "      <td>1</td>\n",
       "      <td>480241904</td>\n",
       "      <td>646355</td>\n",
       "      <td>1275257</td>\n",
       "      <td>7701675</td>\n",
       "      <td>20076</td>\n",
       "      <td>12149</td>\n",
       "      <td>29.08</td>\n",
       "    </tr>\n",
       "    <tr>\n",
       "      <th>1</th>\n",
       "      <td>2016</td>\n",
       "      <td>2</td>\n",
       "      <td>441859897</td>\n",
       "      <td>635769</td>\n",
       "      <td>1308032</td>\n",
       "      <td>7038520</td>\n",
       "      <td>20427</td>\n",
       "      <td>12134</td>\n",
       "      <td>28.98</td>\n",
       "    </tr>\n",
       "    <tr>\n",
       "      <th>2</th>\n",
       "      <td>2016</td>\n",
       "      <td>3</td>\n",
       "      <td>490669308</td>\n",
       "      <td>660389</td>\n",
       "      <td>1591551</td>\n",
       "      <td>7390957</td>\n",
       "      <td>20271</td>\n",
       "      <td>12234</td>\n",
       "      <td>28.92</td>\n",
       "    </tr>\n",
       "    <tr>\n",
       "      <th>3</th>\n",
       "      <td>2016</td>\n",
       "      <td>4</td>\n",
       "      <td>377975447</td>\n",
       "      <td>525696</td>\n",
       "      <td>1775120</td>\n",
       "      <td>6869719</td>\n",
       "      <td>16791</td>\n",
       "      <td>12282</td>\n",
       "      <td>28.80</td>\n",
       "    </tr>\n",
       "    <tr>\n",
       "      <th>4</th>\n",
       "      <td>2016</td>\n",
       "      <td>5</td>\n",
       "      <td>449836631</td>\n",
       "      <td>605432</td>\n",
       "      <td>1438962</td>\n",
       "      <td>7535519</td>\n",
       "      <td>19394</td>\n",
       "      <td>12424</td>\n",
       "      <td>28.85</td>\n",
       "    </tr>\n",
       "  </tbody>\n",
       "</table>\n",
       "</div>"
      ],
      "text/plain": [
       "    ano  mes  horas_assistidas  media_visualizacoes  pico_de_visualizacoes  \\\n",
       "0  2016    1         480241904               646355                1275257   \n",
       "1  2016    2         441859897               635769                1308032   \n",
       "2  2016    3         490669308               660389                1591551   \n",
       "3  2016    4         377975447               525696                1775120   \n",
       "4  2016    5         449836631               605432                1438962   \n",
       "\n",
       "   Streams  media_canais  jogos_transmitidos  proporcao_de_espectadores  \n",
       "0  7701675         20076               12149                      29.08  \n",
       "1  7038520         20427               12134                      28.98  \n",
       "2  7390957         20271               12234                      28.92  \n",
       "3  6869719         16791               12282                      28.80  \n",
       "4  7535519         19394               12424                      28.85  "
      ]
     },
     "execution_count": 64,
     "metadata": {},
     "output_type": "execute_result"
    }
   ],
   "source": [
    "data.head()"
   ]
  },
  {
   "cell_type": "code",
   "execution_count": 65,
   "id": "855c9a5d",
   "metadata": {},
   "outputs": [],
   "source": [
    "maior = data.groupby(['ano', 'mes', 'horas_assistidas', 'media_visualizacoes'])['media_visualizacoes'].sum().idxmax()"
   ]
  },
  {
   "cell_type": "code",
   "execution_count": 66,
   "id": "531cdd7c",
   "metadata": {},
   "outputs": [],
   "source": [
    "menor = data.groupby(['ano', 'mes', 'horas_assistidas', 'media_visualizacoes'])['media_visualizacoes'].sum().idxmin()"
   ]
  },
  {
   "cell_type": "markdown",
   "id": "c44ed747",
   "metadata": {},
   "source": [
    "<b><i>A maior média de visualizações foi de 3112681 e ocorreu em 2021, 04 com 2238018281 horas assistidas. A menor média de visualizações foi de 504635 e ocorreu em 2019, 09 com 362833210 horas assistidas.</i></b>"
   ]
  },
  {
   "cell_type": "code",
   "execution_count": 67,
   "id": "9097900a",
   "metadata": {},
   "outputs": [
    {
     "name": "stdout",
     "output_type": "stream",
     "text": [
      "A maior média de horas assistidas por visualizações foi de 719.00\n"
     ]
    }
   ],
   "source": [
    "maior_media = maior[2] / maior[-1]\n",
    "print(f'A maior média de horas assistidas por visualizações foi de {maior_media:.2f}')"
   ]
  },
  {
   "cell_type": "code",
   "execution_count": 68,
   "id": "2ac73d23",
   "metadata": {},
   "outputs": [
    {
     "name": "stdout",
     "output_type": "stream",
     "text": [
      "A menor média de horas assistidas por visualizações foi de 719.00\n"
     ]
    }
   ],
   "source": [
    "menor_media = menor[2] / menor[-1]\n",
    "print(f'A menor média de horas assistidas por visualizações foi de {menor_media:.2f}')"
   ]
  },
  {
   "cell_type": "markdown",
   "id": "f3caf74a",
   "metadata": {},
   "source": [
    "<b><i> Há uma diferença de anos entre as datas e os valores analisados, porém, pode se perceber que eles são iguais.</i></b>"
   ]
  },
  {
   "cell_type": "markdown",
   "id": "f803ff06",
   "metadata": {},
   "source": [
    "### Valores médios por mês e ano"
   ]
  },
  {
   "cell_type": "markdown",
   "id": "e2dce655",
   "metadata": {},
   "source": [
    "0, 11 -> 2016  <br>\n",
    "12, 23 -> 2017 <br>\n",
    "24, 35 -> 2018 <br>\n",
    "36, 47 -> 2019 <br>\n",
    "48, 59 -> 2020 <br>\n",
    "60, 71 -> 2021 <br>\n",
    "72, 83 -> 2022 <br>\n",
    "84 -> 2023 <br>\n",
    "\n",
    "<b>Eu quero saber as médias mensais e anuais de horas assistidas por número de visualizações</b>"
   ]
  },
  {
   "cell_type": "code",
   "execution_count": null,
   "id": "bfea18d5",
   "metadata": {},
   "outputs": [],
   "source": [
    "def analisaMedias(horas:list(), visus:list()):"
   ]
  },
  {
   "cell_type": "code",
   "execution_count": 88,
   "id": "1c1ae4a5",
   "metadata": {},
   "outputs": [
    {
     "data": {
      "text/plain": [
       "8"
      ]
     },
     "execution_count": 88,
     "metadata": {},
     "output_type": "execute_result"
    }
   ],
   "source": [
    "horas_assistidas = [ dados for dados in data['horas_assistidas']]\n",
    "media_visualizacoes = [dados for dados in data['media_visualizacoes']]\n",
    "aux = []\n",
    "media_final = list()\n",
    "\n",
    "\n",
    "for x in range(85):\n",
    "    if x < 12:\n",
    "        aux.append(horas_assistidas[x] / media_visualizacoes[x])\n",
    "        if x == 11:\n",
    "            aux.append(sum(horas_assistidas[0:12]) / sum(media_visualizacoes[0:12]))\n",
    "            media_final.append(aux[:])\n",
    "            aux.clear()\n",
    "    elif 24 > x > 11:\n",
    "        aux.append(horas_assistidas[x] / media_visualizacoes[x])\n",
    "        if x == 23:\n",
    "            aux.append(sum(horas_assistidas[11:24]) / sum(media_visualizacoes[11:24]))\n",
    "            media_final.append(aux[:])\n",
    "            aux.clear()\n",
    "    elif 36 > x > 23:\n",
    "        aux.append(horas_assistidas[x] / media_visualizacoes[x])\n",
    "        if x == 35:\n",
    "            aux.append(sum(horas_assistidas[24:36]) / sum(media_visualizacoes[24:36]))\n",
    "            media_final.append(aux[:])\n",
    "            aux.clear()\n",
    "    elif 48 > x > 35:\n",
    "        aux.append(horas_assistidas[x] / media_visualizacoes[x])\n",
    "        if x == 47:\n",
    "            aux.append(sum(horas_assistidas[36:48]) / sum(media_visualizacoes[36:48]))\n",
    "            media_final.append(aux[:])\n",
    "            aux.clear()\n",
    "    elif 60 > x > 47:\n",
    "        aux.append(horas_assistidas[x] / media_visualizacoes[x])\n",
    "        if x == 59:\n",
    "            aux.append(sum(horas_assistidas[48:60]) / sum(media_visualizacoes[48:60]))\n",
    "            media_final.append(aux[:])\n",
    "            aux.clear()         \n",
    "    elif 72 > x > 59:\n",
    "        aux.append(horas_assistidas[x] / media_visualizacoes[x])\n",
    "        if x == 71:\n",
    "            aux.append(sum(horas_assistidas[60:72]) / sum(media_visualizacoes[60:72]))\n",
    "            media_final.append(aux[:])\n",
    "            aux.clear()\n",
    "    elif 84 > x > 71:\n",
    "        aux.append(horas_assistidas[x] / media_visualizacoes[x])\n",
    "        if x == 83:\n",
    "            aux.append(sum(horas_assistidas[72:84]) / sum(media_visualizacoes[72:84]))\n",
    "            media_final.append(aux[:])\n",
    "            aux.clear()       \n",
    "    else:\n",
    "        aux.append(horas_assistidas[x] / media_visualizacoes[x])\n",
    "        if x == 84:\n",
    "            aux.append((horas_assistidas[-1]) / (media_visualizacoes[-1]))\n",
    "            media_final.append(aux[:])\n",
    "            aux.clear()\n",
    "        \n",
    "        \n",
    "        \n",
    "\n",
    "len(media_final)"
   ]
  }
 ],
 "metadata": {
  "kernelspec": {
   "display_name": "Python 3 (ipykernel)",
   "language": "python",
   "name": "python3"
  },
  "language_info": {
   "codemirror_mode": {
    "name": "ipython",
    "version": 3
   },
   "file_extension": ".py",
   "mimetype": "text/x-python",
   "name": "python",
   "nbconvert_exporter": "python",
   "pygments_lexer": "ipython3",
   "version": "3.9.7"
  }
 },
 "nbformat": 4,
 "nbformat_minor": 5
}
