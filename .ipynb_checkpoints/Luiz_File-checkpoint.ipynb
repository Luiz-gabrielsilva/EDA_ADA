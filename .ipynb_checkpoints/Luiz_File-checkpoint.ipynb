{
 "cells": [
  {
   "cell_type": "code",
   "execution_count": null,
   "metadata": {},
   "outputs": [],
   "source": []
  }
 ],
 "metadata": {
  "kernelspec": {
   "display_name": "Python 3",
   "language": "python",
   "name": "python3"
  },
  "language_info": {
   "name": "python",
   "version": "3.10.4"
  },
  "vscode": {
   "interpreter": {
    "hash": "7e65d11a531aceda4139f11a64816fba4d738780e1efebb5d97b945e13dbf626"
   }
  }
 },
 "nbformat": 4,
 "nbformat_minor": 5
}
