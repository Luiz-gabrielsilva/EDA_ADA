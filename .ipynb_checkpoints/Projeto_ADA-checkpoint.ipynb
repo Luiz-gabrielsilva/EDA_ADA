{
 "cells": [
  {
   "cell_type": "markdown",
   "id": "39c07fc6",
   "metadata": {},
   "source": [
    "# EDA - Projeto ADA"
   ]
  },
  {
   "cell_type": "markdown",
   "id": "f70daad7",
   "metadata": {},
   "source": [
    "O presente documento tem por finalidade ser um EDA (Exploratory Data Analysis) como projeto para o curso Técnicas de Programação da ADA. Os dados aqui escolhidos para análise são de caráter público e sua origem é encontrada em: https://www.kaggle.com/datasets/rankirsh/evolution-of-top-games-on-twitch.\n",
    "\n"
   ]
  },
  {
   "cell_type": "markdown",
   "id": "686eaa2c",
   "metadata": {
    "heading_collapsed": true
   },
   "source": [
    "## Cabeçalho"
   ]
  },
  {
   "cell_type": "markdown",
   "id": "9960704d",
   "metadata": {
    "hidden": true
   },
   "source": [
    "Os estudantes responsáveis pelas análises e pelo uso dos dados em questão são:\n",
    "- Bruno Bastos\n",
    "- Delson Cardoso\n",
    "- Luiz Gabriel \n",
    "- Igor Raphael \n",
    "- Mia Valentin\n",
    "\n",
    "Todos acima são estudantes da Ada Tech, participantes do programa Data4All, ofertado em parceria com as empresas Gerdau & RandStand."
   ]
  },
  {
   "cell_type": "markdown",
   "id": "1bcc7fbd",
   "metadata": {
    "heading_collapsed": true
   },
   "source": [
    "## EDA"
   ]
  },
  {
   "cell_type": "markdown",
   "id": "d65f34a6",
   "metadata": {
    "heading_collapsed": true,
    "hidden": true
   },
   "source": [
    "### Importando Bibliotecas a serem utilizadas"
   ]
  },
  {
   "cell_type": "code",
   "execution_count": 8,
   "id": "e7ee6b19",
   "metadata": {
    "hidden": true
   },
   "outputs": [],
   "source": [
    "import pandas as pd\n",
    "import numpy as np"
   ]
  },
  {
   "cell_type": "markdown",
   "id": "8eb6a655",
   "metadata": {
    "heading_collapsed": true,
    "hidden": true
   },
   "source": [
    "### Carregando os dados"
   ]
  },
  {
   "cell_type": "code",
   "execution_count": 3,
   "id": "b2c08c5d",
   "metadata": {
    "hidden": true
   },
   "outputs": [],
   "source": [
    "data = pd.read_csv('Twitch_global_data.csv')\n",
    "\n",
    "data.rename(columns={\n",
    "    'year':'ano',\n",
    "    'Month':'mes',\n",
    "    'Hours_watched':'horas_assistidas',\n",
    "    'Avg_viewers':'media_visualizacoes',\n",
    "    'Peak_viewers':'pico_de_visualizacoes',\n",
    "    'Avg_channels':'media_canais',\n",
    "    'Games_streamed':'jogos_transmitidos',\n",
    "    'Viewer_ratio':'proporcao_de_espectadores',\n",
    "}, inplace=True)"
   ]
  },
  {
   "cell_type": "code",
   "execution_count": 4,
   "id": "adaabd65",
   "metadata": {
    "hidden": true
   },
   "outputs": [
    {
     "data": {
      "text/html": [
       "<div>\n",
       "<style scoped>\n",
       "    .dataframe tbody tr th:only-of-type {\n",
       "        vertical-align: middle;\n",
       "    }\n",
       "\n",
       "    .dataframe tbody tr th {\n",
       "        vertical-align: top;\n",
       "    }\n",
       "\n",
       "    .dataframe thead th {\n",
       "        text-align: right;\n",
       "    }\n",
       "</style>\n",
       "<table border=\"1\" class=\"dataframe\">\n",
       "  <thead>\n",
       "    <tr style=\"text-align: right;\">\n",
       "      <th></th>\n",
       "      <th>ano</th>\n",
       "      <th>mes</th>\n",
       "      <th>horas_assistidas</th>\n",
       "      <th>media_visualizacoes</th>\n",
       "      <th>pico_de_visualizacoes</th>\n",
       "      <th>Streams</th>\n",
       "      <th>media_canais</th>\n",
       "      <th>jogos_transmitidos</th>\n",
       "      <th>proporcao_de_espectadores</th>\n",
       "    </tr>\n",
       "  </thead>\n",
       "  <tbody>\n",
       "    <tr>\n",
       "      <th>0</th>\n",
       "      <td>2016</td>\n",
       "      <td>1</td>\n",
       "      <td>480241904</td>\n",
       "      <td>646355</td>\n",
       "      <td>1275257</td>\n",
       "      <td>7701675</td>\n",
       "      <td>20076</td>\n",
       "      <td>12149</td>\n",
       "      <td>29.08</td>\n",
       "    </tr>\n",
       "    <tr>\n",
       "      <th>1</th>\n",
       "      <td>2016</td>\n",
       "      <td>2</td>\n",
       "      <td>441859897</td>\n",
       "      <td>635769</td>\n",
       "      <td>1308032</td>\n",
       "      <td>7038520</td>\n",
       "      <td>20427</td>\n",
       "      <td>12134</td>\n",
       "      <td>28.98</td>\n",
       "    </tr>\n",
       "    <tr>\n",
       "      <th>2</th>\n",
       "      <td>2016</td>\n",
       "      <td>3</td>\n",
       "      <td>490669308</td>\n",
       "      <td>660389</td>\n",
       "      <td>1591551</td>\n",
       "      <td>7390957</td>\n",
       "      <td>20271</td>\n",
       "      <td>12234</td>\n",
       "      <td>28.92</td>\n",
       "    </tr>\n",
       "    <tr>\n",
       "      <th>3</th>\n",
       "      <td>2016</td>\n",
       "      <td>4</td>\n",
       "      <td>377975447</td>\n",
       "      <td>525696</td>\n",
       "      <td>1775120</td>\n",
       "      <td>6869719</td>\n",
       "      <td>16791</td>\n",
       "      <td>12282</td>\n",
       "      <td>28.80</td>\n",
       "    </tr>\n",
       "    <tr>\n",
       "      <th>4</th>\n",
       "      <td>2016</td>\n",
       "      <td>5</td>\n",
       "      <td>449836631</td>\n",
       "      <td>605432</td>\n",
       "      <td>1438962</td>\n",
       "      <td>7535519</td>\n",
       "      <td>19394</td>\n",
       "      <td>12424</td>\n",
       "      <td>28.85</td>\n",
       "    </tr>\n",
       "  </tbody>\n",
       "</table>\n",
       "</div>"
      ],
      "text/plain": [
       "    ano  mes  horas_assistidas  media_visualizacoes  pico_de_visualizacoes  \\\n",
       "0  2016    1         480241904               646355                1275257   \n",
       "1  2016    2         441859897               635769                1308032   \n",
       "2  2016    3         490669308               660389                1591551   \n",
       "3  2016    4         377975447               525696                1775120   \n",
       "4  2016    5         449836631               605432                1438962   \n",
       "\n",
       "   Streams  media_canais  jogos_transmitidos  proporcao_de_espectadores  \n",
       "0  7701675         20076               12149                      29.08  \n",
       "1  7038520         20427               12134                      28.98  \n",
       "2  7390957         20271               12234                      28.92  \n",
       "3  6869719         16791               12282                      28.80  \n",
       "4  7535519         19394               12424                      28.85  "
      ]
     },
     "execution_count": 4,
     "metadata": {},
     "output_type": "execute_result"
    }
   ],
   "source": [
    "data.head()"
   ]
  },
  {
   "cell_type": "markdown",
   "id": "fadd1bd1",
   "metadata": {
    "hidden": true
   },
   "source": [
    "<b><i>Nota: Dada as circunstâncias do ano 2023, por ter apenas o mês de janeiro como referência, o trataremos como um outlier. O valor não será removido ou alterado, porém, em certos casos, poderá ser ignorado.</i></b>"
   ]
  },
  {
   "cell_type": "markdown",
   "id": "b669e201",
   "metadata": {
    "heading_collapsed": true,
    "hidden": true
   },
   "source": [
    "### Entendendo o DataSet"
   ]
  },
  {
   "cell_type": "code",
   "execution_count": 6,
   "id": "e75e106d",
   "metadata": {
    "hidden": true
   },
   "outputs": [
    {
     "data": {
      "text/plain": [
       "(85, 9)"
      ]
     },
     "execution_count": 6,
     "metadata": {},
     "output_type": "execute_result"
    }
   ],
   "source": [
    "data.shape"
   ]
  },
  {
   "cell_type": "code",
   "execution_count": 36,
   "id": "ab2b3d5b",
   "metadata": {
    "hidden": true,
    "scrolled": false
   },
   "outputs": [
    {
     "name": "stdout",
     "output_type": "stream",
     "text": [
      "<class 'pandas.core.frame.DataFrame'>\n",
      "RangeIndex: 85 entries, 0 to 84\n",
      "Data columns (total 9 columns):\n",
      " #   Column                     Non-Null Count  Dtype  \n",
      "---  ------                     --------------  -----  \n",
      " 0   ano                        85 non-null     int64  \n",
      " 1   mes                        85 non-null     int64  \n",
      " 2   horas_assistidas           85 non-null     int64  \n",
      " 3   media_visualizacoes        85 non-null     int64  \n",
      " 4   pico_de_visualizacoes      85 non-null     int64  \n",
      " 5   Streams                    85 non-null     int64  \n",
      " 6   media_canais               85 non-null     int64  \n",
      " 7   jogos_transmitidos         85 non-null     int64  \n",
      " 8   proporcao_de_espectadores  85 non-null     float64\n",
      "dtypes: float64(1), int64(8)\n",
      "memory usage: 6.1 KB\n"
     ]
    }
   ],
   "source": [
    "data.info()"
   ]
  },
  {
   "cell_type": "code",
   "execution_count": 3,
   "id": "b1f0f060",
   "metadata": {
    "hidden": true,
    "scrolled": true
   },
   "outputs": [
    {
     "data": {
      "text/plain": [
       "ano                          0\n",
       "mes                          0\n",
       "horas_assistidas             0\n",
       "media_visualizacoes          0\n",
       "pico_de_visualizacoes        0\n",
       "Streams                      0\n",
       "media_canais                 0\n",
       "jogos_transmitidos           0\n",
       "proporcao_de_espectadores    0\n",
       "dtype: int64"
      ]
     },
     "execution_count": 3,
     "metadata": {},
     "output_type": "execute_result"
    }
   ],
   "source": [
    "data.isnull().sum()"
   ]
  },
  {
   "cell_type": "markdown",
   "id": "667fd306",
   "metadata": {
    "hidden": true
   },
   "source": [
    "<b><i>Não há dados missing e o Dtype de cada dado corresponde ao esperado para análise, sem necessidade de transformações</i></b>"
   ]
  },
  {
   "cell_type": "code",
   "execution_count": 5,
   "id": "f16a4ddc",
   "metadata": {
    "hidden": true
   },
   "outputs": [
    {
     "data": {
      "text/html": [
       "<div>\n",
       "<style scoped>\n",
       "    .dataframe tbody tr th:only-of-type {\n",
       "        vertical-align: middle;\n",
       "    }\n",
       "\n",
       "    .dataframe tbody tr th {\n",
       "        vertical-align: top;\n",
       "    }\n",
       "\n",
       "    .dataframe thead th {\n",
       "        text-align: right;\n",
       "    }\n",
       "</style>\n",
       "<table border=\"1\" class=\"dataframe\">\n",
       "  <thead>\n",
       "    <tr style=\"text-align: right;\">\n",
       "      <th></th>\n",
       "      <th>ano</th>\n",
       "      <th>mes</th>\n",
       "      <th>horas_assistidas</th>\n",
       "      <th>media_visualizacoes</th>\n",
       "      <th>pico_de_visualizacoes</th>\n",
       "      <th>Streams</th>\n",
       "      <th>media_canais</th>\n",
       "      <th>jogos_transmitidos</th>\n",
       "      <th>proporcao_de_espectadores</th>\n",
       "    </tr>\n",
       "  </thead>\n",
       "  <tbody>\n",
       "    <tr>\n",
       "      <th>count</th>\n",
       "      <td>85.000000</td>\n",
       "      <td>85.000000</td>\n",
       "      <td>8.500000e+01</td>\n",
       "      <td>8.500000e+01</td>\n",
       "      <td>8.500000e+01</td>\n",
       "      <td>8.500000e+01</td>\n",
       "      <td>85.000000</td>\n",
       "      <td>85.000000</td>\n",
       "      <td>85.000000</td>\n",
       "    </tr>\n",
       "    <tr>\n",
       "      <th>mean</th>\n",
       "      <td>2019.047059</td>\n",
       "      <td>6.435294</td>\n",
       "      <td>1.171561e+09</td>\n",
       "      <td>1.605636e+06</td>\n",
       "      <td>3.310116e+06</td>\n",
       "      <td>1.543479e+07</td>\n",
       "      <td>60414.117647</td>\n",
       "      <td>24771.341176</td>\n",
       "      <td>26.779176</td>\n",
       "    </tr>\n",
       "    <tr>\n",
       "      <th>std</th>\n",
       "      <td>2.046518</td>\n",
       "      <td>3.503220</td>\n",
       "      <td>6.218263e+08</td>\n",
       "      <td>8.522275e+05</td>\n",
       "      <td>1.637731e+06</td>\n",
       "      <td>6.240952e+06</td>\n",
       "      <td>33558.528869</td>\n",
       "      <td>10319.046780</td>\n",
       "      <td>1.588932</td>\n",
       "    </tr>\n",
       "    <tr>\n",
       "      <th>min</th>\n",
       "      <td>2016.000000</td>\n",
       "      <td>1.000000</td>\n",
       "      <td>3.628332e+08</td>\n",
       "      <td>5.046350e+05</td>\n",
       "      <td>1.186009e+06</td>\n",
       "      <td>5.507554e+06</td>\n",
       "      <td>16592.000000</td>\n",
       "      <td>12134.000000</td>\n",
       "      <td>22.650000</td>\n",
       "    </tr>\n",
       "    <tr>\n",
       "      <th>25%</th>\n",
       "      <td>2017.000000</td>\n",
       "      <td>3.000000</td>\n",
       "      <td>5.755515e+08</td>\n",
       "      <td>7.875870e+05</td>\n",
       "      <td>1.823848e+06</td>\n",
       "      <td>8.672879e+06</td>\n",
       "      <td>25810.000000</td>\n",
       "      <td>15962.000000</td>\n",
       "      <td>25.710000</td>\n",
       "    </tr>\n",
       "    <tr>\n",
       "      <th>50%</th>\n",
       "      <td>2019.000000</td>\n",
       "      <td>6.000000</td>\n",
       "      <td>9.166925e+08</td>\n",
       "      <td>1.264495e+06</td>\n",
       "      <td>2.692333e+06</td>\n",
       "      <td>1.505304e+07</td>\n",
       "      <td>48357.000000</td>\n",
       "      <td>20248.000000</td>\n",
       "      <td>26.890000</td>\n",
       "    </tr>\n",
       "    <tr>\n",
       "      <th>75%</th>\n",
       "      <td>2021.000000</td>\n",
       "      <td>9.000000</td>\n",
       "      <td>1.834840e+09</td>\n",
       "      <td>2.520330e+06</td>\n",
       "      <td>4.815581e+06</td>\n",
       "      <td>2.028536e+07</td>\n",
       "      <td>93867.000000</td>\n",
       "      <td>35577.000000</td>\n",
       "      <td>28.130000</td>\n",
       "    </tr>\n",
       "    <tr>\n",
       "      <th>max</th>\n",
       "      <td>2023.000000</td>\n",
       "      <td>12.000000</td>\n",
       "      <td>2.308295e+09</td>\n",
       "      <td>3.112681e+06</td>\n",
       "      <td>6.707070e+06</td>\n",
       "      <td>2.759115e+07</td>\n",
       "      <td>122763.000000</td>\n",
       "      <td>43611.000000</td>\n",
       "      <td>30.390000</td>\n",
       "    </tr>\n",
       "  </tbody>\n",
       "</table>\n",
       "</div>"
      ],
      "text/plain": [
       "               ano        mes  horas_assistidas  media_visualizacoes  \\\n",
       "count    85.000000  85.000000      8.500000e+01         8.500000e+01   \n",
       "mean   2019.047059   6.435294      1.171561e+09         1.605636e+06   \n",
       "std       2.046518   3.503220      6.218263e+08         8.522275e+05   \n",
       "min    2016.000000   1.000000      3.628332e+08         5.046350e+05   \n",
       "25%    2017.000000   3.000000      5.755515e+08         7.875870e+05   \n",
       "50%    2019.000000   6.000000      9.166925e+08         1.264495e+06   \n",
       "75%    2021.000000   9.000000      1.834840e+09         2.520330e+06   \n",
       "max    2023.000000  12.000000      2.308295e+09         3.112681e+06   \n",
       "\n",
       "       pico_de_visualizacoes       Streams   media_canais  jogos_transmitidos  \\\n",
       "count           8.500000e+01  8.500000e+01      85.000000           85.000000   \n",
       "mean            3.310116e+06  1.543479e+07   60414.117647        24771.341176   \n",
       "std             1.637731e+06  6.240952e+06   33558.528869        10319.046780   \n",
       "min             1.186009e+06  5.507554e+06   16592.000000        12134.000000   \n",
       "25%             1.823848e+06  8.672879e+06   25810.000000        15962.000000   \n",
       "50%             2.692333e+06  1.505304e+07   48357.000000        20248.000000   \n",
       "75%             4.815581e+06  2.028536e+07   93867.000000        35577.000000   \n",
       "max             6.707070e+06  2.759115e+07  122763.000000        43611.000000   \n",
       "\n",
       "       proporcao_de_espectadores  \n",
       "count                  85.000000  \n",
       "mean                   26.779176  \n",
       "std                     1.588932  \n",
       "min                    22.650000  \n",
       "25%                    25.710000  \n",
       "50%                    26.890000  \n",
       "75%                    28.130000  \n",
       "max                    30.390000  "
      ]
     },
     "execution_count": 5,
     "metadata": {},
     "output_type": "execute_result"
    }
   ],
   "source": [
    "data.describe()"
   ]
  },
  {
   "cell_type": "markdown",
   "id": "6561d96c",
   "metadata": {
    "heading_collapsed": true,
    "hidden": true
   },
   "source": [
    "### Começando Análises"
   ]
  },
  {
   "cell_type": "markdown",
   "id": "f072c570",
   "metadata": {
    "hidden": true
   },
   "source": [
    "#### Delson"
   ]
  },
  {
   "cell_type": "markdown",
   "id": "a1692b98",
   "metadata": {
    "hidden": true
   },
   "source": [
    "#### Luiz"
   ]
  },
  {
   "cell_type": "markdown",
   "id": "9e77c5d0",
   "metadata": {
    "hidden": true
   },
   "source": [
    "#### Igor"
   ]
  },
  {
   "cell_type": "markdown",
   "id": "6595700b",
   "metadata": {
    "hidden": true
   },
   "source": [
    "#### Bruno"
   ]
  }
 ],
 "metadata": {
  "kernelspec": {
   "display_name": "Python 3 (ipykernel)",
   "language": "python",
   "name": "python3"
  },
  "language_info": {
   "codemirror_mode": {
    "name": "ipython",
    "version": 3
   },
   "file_extension": ".py",
   "mimetype": "text/x-python",
   "name": "python",
   "nbconvert_exporter": "python",
   "pygments_lexer": "ipython3",
   "version": "3.9.7"
  },
  "vscode": {
   "interpreter": {
    "hash": "7e65d11a531aceda4139f11a64816fba4d738780e1efebb5d97b945e13dbf626"
   }
  }
 },
 "nbformat": 4,
 "nbformat_minor": 5
}
