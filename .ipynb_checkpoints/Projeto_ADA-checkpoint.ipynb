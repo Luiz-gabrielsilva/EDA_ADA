{
 "cells": [
  {
   "cell_type": "markdown",
   "id": "39c07fc6",
   "metadata": {},
   "source": [
    "# EDA - Projeto ADA"
   ]
  },
  {
   "cell_type": "markdown",
   "id": "f70daad7",
   "metadata": {},
   "source": [
    "O presente documento tem por finalidade ser um EDA (Exploratory Data Analysis) como projeto para o curso Técnicas de Programação da ADA. Os dados aqui escolhidos para análise são de caráter público e sua origem é encontrada em: https://www.kaggle.com/datasets/rankirsh/evolution-of-top-games-on-twitch.\n",
    "\n"
   ]
  },
  {
   "cell_type": "markdown",
   "id": "686eaa2c",
   "metadata": {
    "heading_collapsed": true
   },
   "source": [
    "## Cabeçalho"
   ]
  },
  {
   "cell_type": "markdown",
   "id": "9960704d",
   "metadata": {
    "hidden": true
   },
   "source": [
    "Os estudantes responsáveis pelas análises e pelo uso dos dados em questão são:\n",
    "- Bruno Bastos\n",
    "- Delson Cardoso\n",
    "- Luiz Gabriel \n",
    "- Igor Raphael \n",
    "- Mia Valentin\n",
    "\n",
    "Todos acima são estudantes da Ada Tech, participantes do programa Data4All, ofertado em parceria com as empresas Gerdau & RandStand."
   ]
  },
  {
   "cell_type": "markdown",
   "id": "1bcc7fbd",
   "metadata": {},
   "source": [
    "## EDA"
   ]
  },
  {
   "cell_type": "markdown",
   "id": "d65f34a6",
   "metadata": {
    "heading_collapsed": true
   },
   "source": [
    "### Importando Bibliotecas a serem utilizadas"
   ]
  },
  {
   "cell_type": "code",
   "execution_count": 8,
   "id": "e7ee6b19",
   "metadata": {
    "hidden": true
   },
   "outputs": [],
   "source": [
    "import pandas as pd\n",
    "import numpy as np"
   ]
  },
  {
   "cell_type": "markdown",
   "id": "8eb6a655",
   "metadata": {
    "heading_collapsed": true
   },
   "source": [
    "### Carregando os dados"
   ]
  },
  {
   "cell_type": "code",
   "execution_count": 3,
   "id": "b2c08c5d",
   "metadata": {
    "hidden": true
   },
   "outputs": [],
   "source": [
    "data = pd.read_csv('Twitch_global_data.csv')\n",
    "\n",
    "data.rename(columns={\n",
    "    'year':'ano',\n",
    "    'Month':'mes',\n",
    "    'Hours_watched':'horas_assistidas',\n",
    "    'Avg_viewers':'media_visualizacoes',\n",
    "    'Peak_viewers':'pico_de_visualizacoes',\n",
    "    'Avg_channels':'media_canais',\n",
    "    'Games_streamed':'jogos_transmitidos',\n",
    "    'Viewer_ratio':'proporcao_de_espectadores',\n",
    "}, inplace=True)"
   ]
  },
  {
   "cell_type": "code",
   "execution_count": 4,
   "id": "adaabd65",
   "metadata": {
    "hidden": true
   },
   "outputs": [
    {
     "data": {
      "text/html": [
       "<div>\n",
       "<style scoped>\n",
       "    .dataframe tbody tr th:only-of-type {\n",
       "        vertical-align: middle;\n",
       "    }\n",
       "\n",
       "    .dataframe tbody tr th {\n",
       "        vertical-align: top;\n",
       "    }\n",
       "\n",
       "    .dataframe thead th {\n",
       "        text-align: right;\n",
       "    }\n",
       "</style>\n",
       "<table border=\"1\" class=\"dataframe\">\n",
       "  <thead>\n",
       "    <tr style=\"text-align: right;\">\n",
       "      <th></th>\n",
       "      <th>ano</th>\n",
       "      <th>mes</th>\n",
       "      <th>horas_assistidas</th>\n",
       "      <th>media_visualizacoes</th>\n",
       "      <th>pico_de_visualizacoes</th>\n",
       "      <th>Streams</th>\n",
       "      <th>media_canais</th>\n",
       "      <th>jogos_transmitidos</th>\n",
       "      <th>proporcao_de_espectadores</th>\n",
       "    </tr>\n",
       "  </thead>\n",
       "  <tbody>\n",
       "    <tr>\n",
       "      <th>0</th>\n",
       "      <td>2016</td>\n",
       "      <td>1</td>\n",
       "      <td>480241904</td>\n",
       "      <td>646355</td>\n",
       "      <td>1275257</td>\n",
       "      <td>7701675</td>\n",
       "      <td>20076</td>\n",
       "      <td>12149</td>\n",
       "      <td>29.08</td>\n",
       "    </tr>\n",
       "    <tr>\n",
       "      <th>1</th>\n",
       "      <td>2016</td>\n",
       "      <td>2</td>\n",
       "      <td>441859897</td>\n",
       "      <td>635769</td>\n",
       "      <td>1308032</td>\n",
       "      <td>7038520</td>\n",
       "      <td>20427</td>\n",
       "      <td>12134</td>\n",
       "      <td>28.98</td>\n",
       "    </tr>\n",
       "    <tr>\n",
       "      <th>2</th>\n",
       "      <td>2016</td>\n",
       "      <td>3</td>\n",
       "      <td>490669308</td>\n",
       "      <td>660389</td>\n",
       "      <td>1591551</td>\n",
       "      <td>7390957</td>\n",
       "      <td>20271</td>\n",
       "      <td>12234</td>\n",
       "      <td>28.92</td>\n",
       "    </tr>\n",
       "    <tr>\n",
       "      <th>3</th>\n",
       "      <td>2016</td>\n",
       "      <td>4</td>\n",
       "      <td>377975447</td>\n",
       "      <td>525696</td>\n",
       "      <td>1775120</td>\n",
       "      <td>6869719</td>\n",
       "      <td>16791</td>\n",
       "      <td>12282</td>\n",
       "      <td>28.80</td>\n",
       "    </tr>\n",
       "    <tr>\n",
       "      <th>4</th>\n",
       "      <td>2016</td>\n",
       "      <td>5</td>\n",
       "      <td>449836631</td>\n",
       "      <td>605432</td>\n",
       "      <td>1438962</td>\n",
       "      <td>7535519</td>\n",
       "      <td>19394</td>\n",
       "      <td>12424</td>\n",
       "      <td>28.85</td>\n",
       "    </tr>\n",
       "  </tbody>\n",
       "</table>\n",
       "</div>"
      ],
      "text/plain": [
       "    ano  mes  horas_assistidas  media_visualizacoes  pico_de_visualizacoes  \\\n",
       "0  2016    1         480241904               646355                1275257   \n",
       "1  2016    2         441859897               635769                1308032   \n",
       "2  2016    3         490669308               660389                1591551   \n",
       "3  2016    4         377975447               525696                1775120   \n",
       "4  2016    5         449836631               605432                1438962   \n",
       "\n",
       "   Streams  media_canais  jogos_transmitidos  proporcao_de_espectadores  \n",
       "0  7701675         20076               12149                      29.08  \n",
       "1  7038520         20427               12134                      28.98  \n",
       "2  7390957         20271               12234                      28.92  \n",
       "3  6869719         16791               12282                      28.80  \n",
       "4  7535519         19394               12424                      28.85  "
      ]
     },
     "execution_count": 4,
     "metadata": {},
     "output_type": "execute_result"
    }
   ],
   "source": [
    "data.head()"
   ]
  },
  {
   "cell_type": "markdown",
   "id": "fadd1bd1",
   "metadata": {
    "hidden": true
   },
   "source": [
    "<b><i>Nota: Dada as circunstâncias do ano 2023, por ter apenas o mês de janeiro como referência, o trataremos como um outlier. O valor não será removido ou alterado, porém, em certos casos, poderá ser ignorado.</i></b>"
   ]
  },
  {
   "cell_type": "markdown",
   "id": "b669e201",
   "metadata": {
    "heading_collapsed": true
   },
   "source": [
    "### Entendendo o DataSet"
   ]
  },
  {
   "cell_type": "code",
   "execution_count": 6,
   "id": "e75e106d",
   "metadata": {
    "hidden": true
   },
   "outputs": [
    {
     "data": {
      "text/plain": [
       "(85, 9)"
      ]
     },
     "execution_count": 6,
     "metadata": {},
     "output_type": "execute_result"
    }
   ],
   "source": [
    "data.shape"
   ]
  },
  {
   "cell_type": "code",
   "execution_count": 36,
   "id": "ab2b3d5b",
   "metadata": {
    "hidden": true,
    "scrolled": false
   },
   "outputs": [
    {
     "name": "stdout",
     "output_type": "stream",
     "text": [
      "<class 'pandas.core.frame.DataFrame'>\n",
      "RangeIndex: 85 entries, 0 to 84\n",
      "Data columns (total 9 columns):\n",
      " #   Column                     Non-Null Count  Dtype  \n",
      "---  ------                     --------------  -----  \n",
      " 0   ano                        85 non-null     int64  \n",
      " 1   mes                        85 non-null     int64  \n",
      " 2   horas_assistidas           85 non-null     int64  \n",
      " 3   media_visualizacoes        85 non-null     int64  \n",
      " 4   pico_de_visualizacoes      85 non-null     int64  \n",
      " 5   Streams                    85 non-null     int64  \n",
      " 6   media_canais               85 non-null     int64  \n",
      " 7   jogos_transmitidos         85 non-null     int64  \n",
      " 8   proporcao_de_espectadores  85 non-null     float64\n",
      "dtypes: float64(1), int64(8)\n",
      "memory usage: 6.1 KB\n"
     ]
    }
   ],
   "source": [
    "data.info()"
   ]
  },
  {
   "cell_type": "code",
   "execution_count": 3,
   "id": "b1f0f060",
   "metadata": {
    "hidden": true,
    "scrolled": true
   },
   "outputs": [
    {
     "data": {
      "text/plain": [
       "ano                          0\n",
       "mes                          0\n",
       "horas_assistidas             0\n",
       "media_visualizacoes          0\n",
       "pico_de_visualizacoes        0\n",
       "Streams                      0\n",
       "media_canais                 0\n",
       "jogos_transmitidos           0\n",
       "proporcao_de_espectadores    0\n",
       "dtype: int64"
      ]
     },
     "execution_count": 3,
     "metadata": {},
     "output_type": "execute_result"
    }
   ],
   "source": [
    "data.isnull().sum()"
   ]
  },
  {
   "cell_type": "markdown",
   "id": "667fd306",
   "metadata": {
    "hidden": true
   },
   "source": [
    "<b><i>Não há dados missing e o Dtype de cada dado corresponde ao esperado para análise, sem necessidade de transformações</i></b>"
   ]
  },
  {
   "cell_type": "code",
   "execution_count": 5,
   "id": "f16a4ddc",
   "metadata": {
    "hidden": true
   },
   "outputs": [
    {
     "data": {
      "text/html": [
       "<div>\n",
       "<style scoped>\n",
       "    .dataframe tbody tr th:only-of-type {\n",
       "        vertical-align: middle;\n",
       "    }\n",
       "\n",
       "    .dataframe tbody tr th {\n",
       "        vertical-align: top;\n",
       "    }\n",
       "\n",
       "    .dataframe thead th {\n",
       "        text-align: right;\n",
       "    }\n",
       "</style>\n",
       "<table border=\"1\" class=\"dataframe\">\n",
       "  <thead>\n",
       "    <tr style=\"text-align: right;\">\n",
       "      <th></th>\n",
       "      <th>ano</th>\n",
       "      <th>mes</th>\n",
       "      <th>horas_assistidas</th>\n",
       "      <th>media_visualizacoes</th>\n",
       "      <th>pico_de_visualizacoes</th>\n",
       "      <th>Streams</th>\n",
       "      <th>media_canais</th>\n",
       "      <th>jogos_transmitidos</th>\n",
       "      <th>proporcao_de_espectadores</th>\n",
       "    </tr>\n",
       "  </thead>\n",
       "  <tbody>\n",
       "    <tr>\n",
       "      <th>count</th>\n",
       "      <td>85.000000</td>\n",
       "      <td>85.000000</td>\n",
       "      <td>8.500000e+01</td>\n",
       "      <td>8.500000e+01</td>\n",
       "      <td>8.500000e+01</td>\n",
       "      <td>8.500000e+01</td>\n",
       "      <td>85.000000</td>\n",
       "      <td>85.000000</td>\n",
       "      <td>85.000000</td>\n",
       "    </tr>\n",
       "    <tr>\n",
       "      <th>mean</th>\n",
       "      <td>2019.047059</td>\n",
       "      <td>6.435294</td>\n",
       "      <td>1.171561e+09</td>\n",
       "      <td>1.605636e+06</td>\n",
       "      <td>3.310116e+06</td>\n",
       "      <td>1.543479e+07</td>\n",
       "      <td>60414.117647</td>\n",
       "      <td>24771.341176</td>\n",
       "      <td>26.779176</td>\n",
       "    </tr>\n",
       "    <tr>\n",
       "      <th>std</th>\n",
       "      <td>2.046518</td>\n",
       "      <td>3.503220</td>\n",
       "      <td>6.218263e+08</td>\n",
       "      <td>8.522275e+05</td>\n",
       "      <td>1.637731e+06</td>\n",
       "      <td>6.240952e+06</td>\n",
       "      <td>33558.528869</td>\n",
       "      <td>10319.046780</td>\n",
       "      <td>1.588932</td>\n",
       "    </tr>\n",
       "    <tr>\n",
       "      <th>min</th>\n",
       "      <td>2016.000000</td>\n",
       "      <td>1.000000</td>\n",
       "      <td>3.628332e+08</td>\n",
       "      <td>5.046350e+05</td>\n",
       "      <td>1.186009e+06</td>\n",
       "      <td>5.507554e+06</td>\n",
       "      <td>16592.000000</td>\n",
       "      <td>12134.000000</td>\n",
       "      <td>22.650000</td>\n",
       "    </tr>\n",
       "    <tr>\n",
       "      <th>25%</th>\n",
       "      <td>2017.000000</td>\n",
       "      <td>3.000000</td>\n",
       "      <td>5.755515e+08</td>\n",
       "      <td>7.875870e+05</td>\n",
       "      <td>1.823848e+06</td>\n",
       "      <td>8.672879e+06</td>\n",
       "      <td>25810.000000</td>\n",
       "      <td>15962.000000</td>\n",
       "      <td>25.710000</td>\n",
       "    </tr>\n",
       "    <tr>\n",
       "      <th>50%</th>\n",
       "      <td>2019.000000</td>\n",
       "      <td>6.000000</td>\n",
       "      <td>9.166925e+08</td>\n",
       "      <td>1.264495e+06</td>\n",
       "      <td>2.692333e+06</td>\n",
       "      <td>1.505304e+07</td>\n",
       "      <td>48357.000000</td>\n",
       "      <td>20248.000000</td>\n",
       "      <td>26.890000</td>\n",
       "    </tr>\n",
       "    <tr>\n",
       "      <th>75%</th>\n",
       "      <td>2021.000000</td>\n",
       "      <td>9.000000</td>\n",
       "      <td>1.834840e+09</td>\n",
       "      <td>2.520330e+06</td>\n",
       "      <td>4.815581e+06</td>\n",
       "      <td>2.028536e+07</td>\n",
       "      <td>93867.000000</td>\n",
       "      <td>35577.000000</td>\n",
       "      <td>28.130000</td>\n",
       "    </tr>\n",
       "    <tr>\n",
       "      <th>max</th>\n",
       "      <td>2023.000000</td>\n",
       "      <td>12.000000</td>\n",
       "      <td>2.308295e+09</td>\n",
       "      <td>3.112681e+06</td>\n",
       "      <td>6.707070e+06</td>\n",
       "      <td>2.759115e+07</td>\n",
       "      <td>122763.000000</td>\n",
       "      <td>43611.000000</td>\n",
       "      <td>30.390000</td>\n",
       "    </tr>\n",
       "  </tbody>\n",
       "</table>\n",
       "</div>"
      ],
      "text/plain": [
       "               ano        mes  horas_assistidas  media_visualizacoes  \\\n",
       "count    85.000000  85.000000      8.500000e+01         8.500000e+01   \n",
       "mean   2019.047059   6.435294      1.171561e+09         1.605636e+06   \n",
       "std       2.046518   3.503220      6.218263e+08         8.522275e+05   \n",
       "min    2016.000000   1.000000      3.628332e+08         5.046350e+05   \n",
       "25%    2017.000000   3.000000      5.755515e+08         7.875870e+05   \n",
       "50%    2019.000000   6.000000      9.166925e+08         1.264495e+06   \n",
       "75%    2021.000000   9.000000      1.834840e+09         2.520330e+06   \n",
       "max    2023.000000  12.000000      2.308295e+09         3.112681e+06   \n",
       "\n",
       "       pico_de_visualizacoes       Streams   media_canais  jogos_transmitidos  \\\n",
       "count           8.500000e+01  8.500000e+01      85.000000           85.000000   \n",
       "mean            3.310116e+06  1.543479e+07   60414.117647        24771.341176   \n",
       "std             1.637731e+06  6.240952e+06   33558.528869        10319.046780   \n",
       "min             1.186009e+06  5.507554e+06   16592.000000        12134.000000   \n",
       "25%             1.823848e+06  8.672879e+06   25810.000000        15962.000000   \n",
       "50%             2.692333e+06  1.505304e+07   48357.000000        20248.000000   \n",
       "75%             4.815581e+06  2.028536e+07   93867.000000        35577.000000   \n",
       "max             6.707070e+06  2.759115e+07  122763.000000        43611.000000   \n",
       "\n",
       "       proporcao_de_espectadores  \n",
       "count                  85.000000  \n",
       "mean                   26.779176  \n",
       "std                     1.588932  \n",
       "min                    22.650000  \n",
       "25%                    25.710000  \n",
       "50%                    26.890000  \n",
       "75%                    28.130000  \n",
       "max                    30.390000  "
      ]
     },
     "execution_count": 5,
     "metadata": {},
     "output_type": "execute_result"
    }
   ],
   "source": [
    "data.describe()"
   ]
  },
  {
   "cell_type": "markdown",
   "id": "6561d96c",
   "metadata": {},
   "source": [
    "### Começando Análises"
   ]
  },
  {
   "cell_type": "markdown",
   "id": "f072c570",
   "metadata": {},
   "source": [
    "#### Delson"
   ]
  },
  {
   "cell_type": "markdown",
   "id": "a1692b98",
   "metadata": {
    "heading_collapsed": true
   },
   "source": [
    "#### Luiz"
   ]
  },
  {
   "cell_type": "markdown",
   "id": "8562b72b",
   "metadata": {
    "heading_collapsed": true,
    "hidden": true
   },
   "source": [
    "##### Maior e menor média de horas assistidas por visualização. Valores anuais e mensais. "
   ]
  },
  {
   "cell_type": "code",
   "execution_count": null,
   "id": "0ff46105",
   "metadata": {
    "hidden": true
   },
   "outputs": [],
   "source": [
    "maior_horas = data.groupby(['ano', 'mes', 'horas_assistidas', 'media_visualizacoes'])['horas_assistidas'].sum().idxmax()\n",
    "menor_horas = data.groupby(['ano', 'mes', 'horas_assistidas', 'media_visualizacoes'])['horas_assistidas'].sum().idxmin()\n",
    "\n",
    "maior_horas, menor_horas"
   ]
  },
  {
   "cell_type": "code",
   "execution_count": null,
   "id": "c3b1b08d",
   "metadata": {
    "hidden": true
   },
   "outputs": [],
   "source": [
    "print(f'A maior média de horas assistidas por visualizações foi de {maior_horas[2] / maior_horas[-1]:.2f}')\n",
    "print(f'A menor média de horas assistidas por visualizações foi de {menor_horas[2] / menor_horas[-1]:.2f}')"
   ]
  },
  {
   "cell_type": "markdown",
   "id": "b202be79",
   "metadata": {
    "hidden": true
   },
   "source": [
    "Os trechos acima permitem compreender que, na data 05/2021 ocorreu o maior número bruto de horas assistidas 2308295297 com um total de 3106723 médias visualizações. Já o menor valor de horas assistidas ocorreu em 09/2016, com um número bruto de 362833210 horas assistidas e um total de 504635 média visualizações. <br>\n",
    "A maior média horas / visus foi de 743 horas por média visualização, já o menor valor foi de 719 horas por média visualização."
   ]
  },
  {
   "cell_type": "code",
   "execution_count": null,
   "id": "e446ff4b",
   "metadata": {
    "hidden": true
   },
   "outputs": [],
   "source": [
    "def analisaMedias(horas:list(), visus:list()):\n",
    "    aux = []\n",
    "    total = []\n",
    "    ano = 2016\n",
    "    for x in range(85):\n",
    "        if x < 12:\n",
    "            aux.append(horas[x] / visus[x])\n",
    "            if x == 11:\n",
    "                aux.append(sum(horas[0:12]) / sum(visus[0:12]))\n",
    "                aux.insert(0, ano)\n",
    "                total.append(aux[:])\n",
    "                aux.clear()\n",
    "        elif 24 > x > 11:\n",
    "            aux.append(horas[x] / visus[x])\n",
    "            if x == 23:\n",
    "                aux.append(sum(horas[11:24]) / sum(visus[11:24]))\n",
    "                aux.insert(0, ano + 1)\n",
    "                total.append(aux[:])\n",
    "                aux.clear()\n",
    "        elif 36 > x > 23:\n",
    "            aux.append(horas[x] / visus[x])\n",
    "            if x == 35:\n",
    "                aux.append(sum(horas[24:36]) / sum(visus[24:36]))\n",
    "                aux.insert(0, ano + 2)\n",
    "                total.append(aux[:])\n",
    "                aux.clear()\n",
    "        elif 48 > x > 35:\n",
    "            aux.append(horas[x] / visus[x])\n",
    "            if x == 47:\n",
    "                aux.append(sum(horas[36:48]) / sum(visus[36:48]))\n",
    "                aux.insert(0, ano + 3)\n",
    "                total.append(aux[:])\n",
    "                aux.clear()\n",
    "        elif 60 > x > 47:\n",
    "            aux.append(horas[x] / visus[x])\n",
    "            if x == 59:\n",
    "                aux.append(sum(horas[48:60]) / sum(visus[48:60]))\n",
    "                aux.insert(0, ano + 4)\n",
    "                total.append(aux[:])\n",
    "                aux.clear()         \n",
    "        elif 72 > x > 59:\n",
    "            aux.append(horas[x] / visus[x])\n",
    "            if x == 71:\n",
    "                aux.append(sum(horas[60:72]) / sum(visus[60:72]))\n",
    "                aux.insert(0, ano + 5) \n",
    "                total.append(aux[:])\n",
    "                aux.clear()\n",
    "        elif 84 > x > 71:\n",
    "            aux.append(horas[x] / visus[x])\n",
    "            if x == 83:\n",
    "                aux.append(sum(horas[72:84]) / sum(visus[72:84]))\n",
    "                aux.insert(0, ano + 6)\n",
    "                total.append(aux[:])\n",
    "                aux.clear()       \n",
    "        else:\n",
    "            aux.append(horas[x] / visus[x])\n",
    "            if x == 84:\n",
    "                aux.append((horas[-1]) / (visus[-1]))\n",
    "                aux.insert(0, ano + 7)\n",
    "                total.append(aux[:])\n",
    "                aux.clear()\n",
    "    return total"
   ]
  },
  {
   "cell_type": "code",
   "execution_count": null,
   "id": "461ca72d",
   "metadata": {
    "hidden": true
   },
   "outputs": [],
   "source": [
    "horas_assistidas = [ dados for dados in data['horas_assistidas']]\n",
    "media_visualizacoes = [dados for dados in data['media_visualizacoes']]\n",
    "\n",
    "total_medias = analisaMedias(horas_assistidas, media_visualizacoes)"
   ]
  },
  {
   "cell_type": "markdown",
   "id": "b593eac1",
   "metadata": {
    "hidden": true
   },
   "source": [
    "A variável <b>total_medias</b> corresponde a uma lista com outras 8 listas dentro de si. Cada lista dessas possui 1 determinado ano como valor inicial, 12 ou (1) valores de médias mensais de horas assistidas por número de espectadores e, por fim, um valor de média anual do total de horas assistidas pelo total de espectadores anuais."
   ]
  },
  {
   "cell_type": "code",
   "execution_count": null,
   "id": "673305e1",
   "metadata": {
    "hidden": true
   },
   "outputs": [],
   "source": [
    "maiores = []\n",
    "minimos = []\n",
    "\n",
    "for x in total_medias:\n",
    "    maiores.append(f'O maior valor médio de horas por visus do ano {x[0]} é {max(x[1:-1]):.2f} no mês {x.index(max(x[1:-1]))}')\n",
    "    minimos.append(f'O menor valor médio de horas por visus do ano {x[0]} é {min(x[1:-1]):.2f} no mês {x.index(min(x[1:-1]))}')\n",
    "    \n",
    "maiores, minimos"
   ]
  },
  {
   "cell_type": "code",
   "execution_count": null,
   "id": "4476babd",
   "metadata": {
    "hidden": true
   },
   "outputs": [],
   "source": [
    "for x in range(8):\n",
    "    print(f'O valor de média HA/MV anual de {total_medias[x][0]} é de {total_medias[x][-1]:.2f}')"
   ]
  },
  {
   "cell_type": "code",
   "execution_count": null,
   "id": "e66185bb",
   "metadata": {
    "hidden": true
   },
   "outputs": [],
   "source": [
    "for value in total_medias:\n",
    "    print(f'O ano é {value[0]}')\n",
    "    for index, values in enumerate(value):\n",
    "        if 13 > index >= 1:\n",
    "            print(f'O valor médio mensal {index} é {values:.2f} HA/MV')\n",
    "            "
   ]
  },
  {
   "cell_type": "markdown",
   "id": "22c2ebbc",
   "metadata": {
    "hidden": true
   },
   "source": [
    "<b><i> O que se pode perceber após analisar todo o panorama geral do dataset é que as médias tendem a se manter iguais por meses e até mesmos anos. A variação anual não é tão significativa (considerando que 2023 está com 11 meses faltantes). É como se os dados da Twitch fossem estáveis, com poucas variações em perídos de (1) campeonatos famosos, (2) estreias de jogos famosos e (3) período de pandemia."
   ]
  },
  {
   "cell_type": "markdown",
   "id": "6183b045",
   "metadata": {
    "heading_collapsed": true,
    "hidden": true
   },
   "source": [
    "##### Meses de máxima, mínima e possíveis recorrências"
   ]
  },
  {
   "cell_type": "code",
   "execution_count": null,
   "id": "e20d7b3c",
   "metadata": {
    "hidden": true
   },
   "outputs": [],
   "source": [
    "for num in range(2016, 2023):\n",
    "    print(data[data['ano'] == num].groupby(['ano', 'mes', 'horas_assistidas'])['horas_assistidas'].sum().idxmax())"
   ]
  },
  {
   "cell_type": "code",
   "execution_count": null,
   "id": "4d284b6e",
   "metadata": {
    "hidden": true
   },
   "outputs": [],
   "source": [
    "for num in range(2016, 2023):\n",
    "    print(data[data['ano'] == num].groupby(['ano', 'mes', 'horas_assistidas'])['horas_assistidas'].sum().idxmin())"
   ]
  },
  {
   "cell_type": "markdown",
   "id": "dd59e1ac",
   "metadata": {
    "hidden": true
   },
   "source": [
    "<b><i>Não chega a existir uma recorrência de ano para ano. Os valores de máxima se dão em períodos de lançamentos de jogos e/ou campeonatos. Há a questão ainda de começo, meio e fim da pandemia para explicar uma grande alta de horas assistidas, porém, faltam dados para comprovar que a mudança foi de fato a pandemia."
   ]
  },
  {
   "cell_type": "markdown",
   "id": "e89f8f9a",
   "metadata": {
    "heading_collapsed": true,
    "hidden": true
   },
   "source": [
    "##### Proporção de Espectadores"
   ]
  },
  {
   "cell_type": "code",
   "execution_count": null,
   "id": "6f0ce352",
   "metadata": {
    "hidden": true
   },
   "outputs": [],
   "source": [
    "for x in range(2016, 2023):\n",
    "    print(f'O ano é {x}')\n",
    "    print(data[data['ano'] == x].groupby(['media_canais', 'proporcao_de_espectadores'])['proporcao_de_espectadores'].idxmax())"
   ]
  },
  {
   "cell_type": "code",
   "execution_count": null,
   "id": "35f06e03",
   "metadata": {
    "hidden": true
   },
   "outputs": [],
   "source": [
    "pro = [dado for dado in data['proporcao_de_espectadores']]\n",
    "canais = [canal for canal in data['media_canais']]"
   ]
  },
  {
   "cell_type": "code",
   "execution_count": null,
   "id": "a1d639c1",
   "metadata": {
    "hidden": true
   },
   "outputs": [],
   "source": [
    "aux_pro = pro[0]\n",
    "aux_canais = canais[0]\n",
    "\n",
    "for x in range(84):\n",
    "    if x == 0:\n",
    "        print((pro[x] >= aux_pro), (canais[x] >= aux_canais))\n",
    "    else:\n",
    "        print((pro[x] > aux_pro), (canais[x] > aux_canais))\n",
    "    aux_pro = pro[x]\n",
    "    aux_canais = canais[x]"
   ]
  },
  {
   "cell_type": "markdown",
   "id": "daa50b8a",
   "metadata": {
    "hidden": true
   },
   "source": [
    "<b><i>A interpretação dos dados acima permite compreender que não necessariamente o aumento da variável media_canais proporciona um aumento na variável media_espectadores. A variável media_espectadores seguiu-se padrão tal qual horas_assistidas, tendo aumento nos perídoso de alta no geral (campeonatos, lançamentos de jogos e pandemia), porém, no restante, não houve tanta variação.</i></b>"
   ]
  },
  {
   "cell_type": "markdown",
   "id": "982e7db4",
   "metadata": {
    "heading_collapsed": true,
    "hidden": true
   },
   "source": [
    "##### Horas assistidas por jogos transmitidos"
   ]
  },
  {
   "cell_type": "code",
   "execution_count": null,
   "id": "c3297f9a",
   "metadata": {
    "hidden": true
   },
   "outputs": [],
   "source": [
    "for x in range(2016, 2023):\n",
    "    print(data[data['ano'] == x].groupby(['ano', 'mes', 'horas_assistidas'])['jogos_transmitidos'].sum())"
   ]
  },
  {
   "cell_type": "code",
   "execution_count": null,
   "id": "6cd31e1d",
   "metadata": {
    "hidden": true
   },
   "outputs": [],
   "source": [
    "horas = [horas for horas in data['horas_assistidas']]\n",
    "jogos = [jogos for jogos in data['jogos_transmitidos']]\n",
    "\n",
    "aux_h, aux_j = horas[0], jogos[0]\n",
    "\n",
    "for x in range(83):\n",
    "    if x == 0:\n",
    "        print((horas[x] >= aux_h), (jogos[x] >= aux_j))\n",
    "    else:\n",
    "        print((horas[x] > aux_h), (jogos[x] > aux_j))\n",
    "    aux_h, aux_j = horas[x], jogos[x]"
   ]
  },
  {
   "cell_type": "markdown",
   "id": "36fbf246",
   "metadata": {
    "hidden": true
   },
   "source": [
    "<b><i> Ao analisar os dados acima, pode-se inferir que os períodos em que ambas as variáveis sofrem alguma alta são os períodos de máxima de outros valores também. Ou seja, em épocas de campeonatos, lançamentos de jogos e pandemia. Fora isso, não há correlação aparente.</i></b>"
   ]
  },
  {
   "cell_type": "markdown",
   "id": "9e77c5d0",
   "metadata": {},
   "source": [
    "#### Igor"
   ]
  },
  {
   "cell_type": "markdown",
   "id": "6595700b",
   "metadata": {},
   "source": [
    "#### Bruno"
   ]
  }
 ],
 "metadata": {
  "kernelspec": {
   "display_name": "Python 3 (ipykernel)",
   "language": "python",
   "name": "python3"
  },
  "language_info": {
   "codemirror_mode": {
    "name": "ipython",
    "version": 3
   },
   "file_extension": ".py",
   "mimetype": "text/x-python",
   "name": "python",
   "nbconvert_exporter": "python",
   "pygments_lexer": "ipython3",
   "version": "3.9.7"
  },
  "vscode": {
   "interpreter": {
    "hash": "7e65d11a531aceda4139f11a64816fba4d738780e1efebb5d97b945e13dbf626"
   }
  }
 },
 "nbformat": 4,
 "nbformat_minor": 5
}
