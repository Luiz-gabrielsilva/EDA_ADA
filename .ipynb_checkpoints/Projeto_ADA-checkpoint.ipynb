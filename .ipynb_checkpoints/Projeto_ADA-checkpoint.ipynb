{
 "cells": [
  {
   "cell_type": "markdown",
   "id": "39c07fc6",
   "metadata": {},
   "source": [
    "# EDA - Projeto ADA"
   ]
  },
  {
   "cell_type": "markdown",
   "id": "f70daad7",
   "metadata": {},
   "source": [
    "O presente documento tem por finalidade ser um EDA (Exploratory Data Analysis) como projeto para o curso Técnicas de Programação da ADA. Os dados aqui escolhidos para análise são de caráter público e sua origem é encontrada em: https://www.kaggle.com/datasets/rankirsh/evolution-of-top-games-on-twitch.\n",
    "\n"
   ]
  },
  {
   "cell_type": "markdown",
   "id": "686eaa2c",
   "metadata": {
    "heading_collapsed": true
   },
   "source": [
    "## Cabeçalho"
   ]
  },
  {
   "cell_type": "markdown",
   "id": "9960704d",
   "metadata": {
    "hidden": true
   },
   "source": [
    "Os estudantes responsáveis pelas análises e pelo uso dos dados em questão são:\n",
    "- Bruno Bastos\n",
    "- Delson Cardoso\n",
    "- Luiz Gabriel \n",
    "- Igor Raphael \n",
    "- Mia Valentin\n",
    "\n",
    "Todos acima são estudantes da Ada Tech, participantes do programa Data4All, ofertado em parceria com as empresas Gerdau & RandStand."
   ]
  },
  {
   "cell_type": "markdown",
   "id": "1bcc7fbd",
   "metadata": {
    "heading_collapsed": true
   },
   "source": [
    "## Início do EDA"
   ]
  },
  {
   "cell_type": "markdown",
   "id": "d65f34a6",
   "metadata": {
    "heading_collapsed": true,
    "hidden": true
   },
   "source": [
    "#### Importando Bibliotecas a serem utilizadas"
   ]
  },
  {
   "cell_type": "code",
   "execution_count": 2,
   "id": "e7ee6b19",
   "metadata": {
    "hidden": true
   },
   "outputs": [],
   "source": [
    "import pandas as pd\n",
    "import numpy as np"
   ]
  },
  {
   "cell_type": "markdown",
   "id": "8eb6a655",
   "metadata": {
    "heading_collapsed": true,
    "hidden": true
   },
   "source": [
    "#### Carregando os dados"
   ]
  },
  {
   "cell_type": "code",
   "execution_count": 100,
   "id": "b2c08c5d",
   "metadata": {
    "hidden": true
   },
   "outputs": [
    {
     "data": {
      "text/html": [
       "<div>\n",
       "<style scoped>\n",
       "    .dataframe tbody tr th:only-of-type {\n",
       "        vertical-align: middle;\n",
       "    }\n",
       "\n",
       "    .dataframe tbody tr th {\n",
       "        vertical-align: top;\n",
       "    }\n",
       "\n",
       "    .dataframe thead th {\n",
       "        text-align: right;\n",
       "    }\n",
       "</style>\n",
       "<table border=\"1\" class=\"dataframe\">\n",
       "  <thead>\n",
       "    <tr style=\"text-align: right;\">\n",
       "      <th></th>\n",
       "      <th>ano</th>\n",
       "      <th>mes</th>\n",
       "      <th>horas_assistidas</th>\n",
       "      <th>media_visualizacoes</th>\n",
       "      <th>pico_de_visualizacoes</th>\n",
       "      <th>Streams</th>\n",
       "      <th>media_canais</th>\n",
       "      <th>jogos_transmitidos</th>\n",
       "      <th>proporcao_de_espectadores</th>\n",
       "    </tr>\n",
       "  </thead>\n",
       "  <tbody>\n",
       "    <tr>\n",
       "      <th>80</th>\n",
       "      <td>2022</td>\n",
       "      <td>9</td>\n",
       "      <td>1817119612</td>\n",
       "      <td>2527287</td>\n",
       "      <td>4678056</td>\n",
       "      <td>22278079</td>\n",
       "      <td>90376</td>\n",
       "      <td>41863</td>\n",
       "      <td>28.37</td>\n",
       "    </tr>\n",
       "    <tr>\n",
       "      <th>81</th>\n",
       "      <td>2022</td>\n",
       "      <td>10</td>\n",
       "      <td>1883320673</td>\n",
       "      <td>2534751</td>\n",
       "      <td>4610799</td>\n",
       "      <td>22867973</td>\n",
       "      <td>90557</td>\n",
       "      <td>42164</td>\n",
       "      <td>28.35</td>\n",
       "    </tr>\n",
       "    <tr>\n",
       "      <th>82</th>\n",
       "      <td>2022</td>\n",
       "      <td>11</td>\n",
       "      <td>1694262814</td>\n",
       "      <td>2356415</td>\n",
       "      <td>5362892</td>\n",
       "      <td>21744817</td>\n",
       "      <td>88195</td>\n",
       "      <td>41058</td>\n",
       "      <td>26.84</td>\n",
       "    </tr>\n",
       "    <tr>\n",
       "      <th>83</th>\n",
       "      <td>2022</td>\n",
       "      <td>12</td>\n",
       "      <td>1674092138</td>\n",
       "      <td>2253152</td>\n",
       "      <td>3866814</td>\n",
       "      <td>21753674</td>\n",
       "      <td>84728</td>\n",
       "      <td>41548</td>\n",
       "      <td>27.00</td>\n",
       "    </tr>\n",
       "    <tr>\n",
       "      <th>84</th>\n",
       "      <td>2023</td>\n",
       "      <td>1</td>\n",
       "      <td>1866962462</td>\n",
       "      <td>2512735</td>\n",
       "      <td>5593050</td>\n",
       "      <td>24429476</td>\n",
       "      <td>93349</td>\n",
       "      <td>43611</td>\n",
       "      <td>27.44</td>\n",
       "    </tr>\n",
       "  </tbody>\n",
       "</table>\n",
       "</div>"
      ],
      "text/plain": [
       "     ano  mes  horas_assistidas  media_visualizacoes  pico_de_visualizacoes  \\\n",
       "80  2022    9        1817119612              2527287                4678056   \n",
       "81  2022   10        1883320673              2534751                4610799   \n",
       "82  2022   11        1694262814              2356415                5362892   \n",
       "83  2022   12        1674092138              2253152                3866814   \n",
       "84  2023    1        1866962462              2512735                5593050   \n",
       "\n",
       "     Streams  media_canais  jogos_transmitidos  proporcao_de_espectadores  \n",
       "80  22278079         90376               41863                      28.37  \n",
       "81  22867973         90557               42164                      28.35  \n",
       "82  21744817         88195               41058                      26.84  \n",
       "83  21753674         84728               41548                      27.00  \n",
       "84  24429476         93349               43611                      27.44  "
      ]
     },
     "execution_count": 100,
     "metadata": {},
     "output_type": "execute_result"
    }
   ],
   "source": [
    "data = pd.read_csv('Twitch_global_data.csv')\n",
    "\n",
    "data.rename(columns={\n",
    "    'year':'ano',\n",
    "    'Month':'mes',\n",
    "    'Hours_watched':'horas_assistidas',\n",
    "    'Avg_viewers':'media_visualizacoes',\n",
    "    'Peak_viewers':'pico_de_visualizacoes',\n",
    "    'Avg_channels':'media_canais',\n",
    "    'Games_streamed':'jogos_transmitidos',\n",
    "    'Viewer_ratio':'proporcao_de_espectadores',\n",
    "}, inplace=True)\n",
    "\n",
    "data.tail()"
   ]
  },
  {
   "cell_type": "markdown",
   "id": "b669e201",
   "metadata": {
    "heading_collapsed": true,
    "hidden": true
   },
   "source": [
    "#### Analisando o DataSet"
   ]
  },
  {
   "cell_type": "code",
   "execution_count": 36,
   "id": "ab2b3d5b",
   "metadata": {
    "hidden": true
   },
   "outputs": [
    {
     "name": "stdout",
     "output_type": "stream",
     "text": [
      "<class 'pandas.core.frame.DataFrame'>\n",
      "RangeIndex: 85 entries, 0 to 84\n",
      "Data columns (total 9 columns):\n",
      " #   Column                     Non-Null Count  Dtype  \n",
      "---  ------                     --------------  -----  \n",
      " 0   ano                        85 non-null     int64  \n",
      " 1   mes                        85 non-null     int64  \n",
      " 2   horas_assistidas           85 non-null     int64  \n",
      " 3   media_visualizacoes        85 non-null     int64  \n",
      " 4   pico_de_visualizacoes      85 non-null     int64  \n",
      " 5   Streams                    85 non-null     int64  \n",
      " 6   media_canais               85 non-null     int64  \n",
      " 7   jogos_transmitidos         85 non-null     int64  \n",
      " 8   proporcao_de_espectadores  85 non-null     float64\n",
      "dtypes: float64(1), int64(8)\n",
      "memory usage: 6.1 KB\n"
     ]
    }
   ],
   "source": [
    "data.info()"
   ]
  },
  {
   "cell_type": "markdown",
   "id": "667fd306",
   "metadata": {
    "hidden": true
   },
   "source": [
    "<b><i>Não há dados missing e o Dtype de cada dado corresponde ao esperado</i></b>"
   ]
  },
  {
   "cell_type": "code",
   "execution_count": 96,
   "id": "0ba7575f",
   "metadata": {
    "hidden": true
   },
   "outputs": [
    {
     "name": "stdout",
     "output_type": "stream",
     "text": [
      "[362833210]\n"
     ]
    }
   ],
   "source": [
    "dados = data['horas_assistidas']\n",
    "\n",
    "lista = [dado for dado in dados if dado == max(dados)]\n",
    "lista_1 = [dado for dado in dados if dado == min(dados)]\n",
    "\n",
    "print(lista_1)"
   ]
  },
  {
   "cell_type": "markdown",
   "id": "a18fb853",
   "metadata": {
    "hidden": true
   },
   "source": [
    "<b><i>Não há mais de 1 valor máximo para horas assistidas nem mais de 1 valor mínimo</i></b>"
   ]
  },
  {
   "cell_type": "code",
   "execution_count": 66,
   "id": "1e29ea98",
   "metadata": {
    "hidden": true
   },
   "outputs": [
    {
     "name": "stdout",
     "output_type": "stream",
     "text": [
      "(2021, 5, 2308295297)\n",
      "(2016, 9, 362833210)\n",
      "O mês 5 do ano 2021 foi o mês com o maior número de horas assistidas, totalizando 2308295297 horas.\n",
      "O mês 9 do ano 2016 foi o mês com o menor número de horas assistidas, totalizando 362833210 horas.\n"
     ]
    }
   ],
   "source": [
    "max_horas = data.groupby(['ano','mes','horas_assistidas'])['horas_assistidas'].sum().idxmax()\n",
    "min_horas = data.groupby(['ano','mes','horas_assistidas'])['horas_assistidas'].sum().idxmin()\n",
    "print(max_horas)\n",
    "print(min_horas)\n",
    "print(f\"O mês {max_horas[1]} do ano {max_horas[0]} foi o mês com o maior número de horas assistidas, totalizando {max_horas[2]} horas.\")\n",
    "print(f\"O mês {min_horas[1]} do ano {min_horas[0]} foi o mês com o menor número de horas assistidas, totalizando {min_horas[2]} horas.\")"
   ]
  },
  {
   "cell_type": "code",
   "execution_count": 97,
   "id": "b8d7b1b3",
   "metadata": {
    "hidden": true
   },
   "outputs": [
    {
     "name": "stdout",
     "output_type": "stream",
     "text": [
      "     ano  mes  horas_assistidas\n",
      "64  2021    5        2308295297\n",
      "    ano  mes  horas_assistidas\n",
      "8  2016    9         362833210\n"
     ]
    }
   ],
   "source": [
    "data_max = data[data['horas_assistidas'] == data['horas_assistidas'].max()]\n",
    "data_min = data[data['horas_assistidas'] == data['horas_assistidas'].min()]\n",
    "print(data_max.loc[:, ['ano', 'mes', 'horas_assistidas']])\n",
    "print(data_min.loc[:, ['ano', 'mes', 'horas_assistidas']])"
   ]
  },
  {
   "cell_type": "code",
   "execution_count": null,
   "id": "acd94d8d",
   "metadata": {
    "hidden": true
   },
   "outputs": [],
   "source": []
  }
 ],
 "metadata": {
  "kernelspec": {
   "display_name": "Python 3 (ipykernel)",
   "language": "python",
   "name": "python3"
  },
  "language_info": {
   "codemirror_mode": {
    "name": "ipython",
    "version": 3
   },
   "file_extension": ".py",
   "mimetype": "text/x-python",
   "name": "python",
   "nbconvert_exporter": "python",
   "pygments_lexer": "ipython3",
   "version": "3.9.7"
  }
 },
 "nbformat": 4,
 "nbformat_minor": 5
}
