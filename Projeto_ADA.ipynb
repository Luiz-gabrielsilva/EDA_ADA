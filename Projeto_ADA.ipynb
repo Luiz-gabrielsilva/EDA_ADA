{
 "cells": [
  {
   "cell_type": "markdown",
   "id": "39c07fc6",
   "metadata": {},
   "source": [
    "# EDA - Projeto ADA"
   ]
  },
  {
   "cell_type": "markdown",
   "id": "f70daad7",
   "metadata": {},
   "source": [
    "O presente documento tem por finalidade ser um EDA (Exploratory Data Analysis) como projeto para o curso Técnicas de Programação da ADA. Os dados aqui escolhidos para análise são de caráter público e sua origem é encontrada em: https://www.kaggle.com/datasets/rankirsh/evolution-of-top-games-on-twitch.\n",
    "\n"
   ]
  },
  {
   "cell_type": "markdown",
   "id": "686eaa2c",
   "metadata": {},
   "source": [
    "## Cabeçalho"
   ]
  },
  {
   "cell_type": "markdown",
   "id": "9960704d",
   "metadata": {},
   "source": [
    "Os estudantes responsáveis pelas análises e pelo uso dos dados em questão são:\n",
    "- Bruno Bastos\n",
    "- Delson Cardoso\n",
    "- Luiz Gabriel \n",
    "- Igor Raphael \n",
    "- Mia Valentin\n",
    "\n",
    "Todos acima são estudantes da Ada Tech, participantes do programa Data4All, ofertado em parceria com as empresas Gerdau & RandStand."
   ]
  },
  {
   "cell_type": "markdown",
   "id": "1bcc7fbd",
   "metadata": {},
   "source": [
    "### Início do EDA"
   ]
  },
  {
   "cell_type": "markdown",
   "id": "d65f34a6",
   "metadata": {},
   "source": [
    "#### Importando Bibliotecas a serem utilizadas"
   ]
  },
  {
   "cell_type": "code",
   "execution_count": 3,
   "id": "e7ee6b19",
   "metadata": {},
   "outputs": [],
   "source": [
    "import pandas as pd\n",
    "import numpy as np"
   ]
  },
  {
   "cell_type": "markdown",
   "id": "8eb6a655",
   "metadata": {},
   "source": [
    "#### Carregando os dados"
   ]
  },
  {
   "cell_type": "code",
   "execution_count": 7,
   "id": "b2c08c5d",
   "metadata": {},
   "outputs": [
    {
     "data": {
      "text/html": [
       "<div>\n",
       "<style scoped>\n",
       "    .dataframe tbody tr th:only-of-type {\n",
       "        vertical-align: middle;\n",
       "    }\n",
       "\n",
       "    .dataframe tbody tr th {\n",
       "        vertical-align: top;\n",
       "    }\n",
       "\n",
       "    .dataframe thead th {\n",
       "        text-align: right;\n",
       "    }\n",
       "</style>\n",
       "<table border=\"1\" class=\"dataframe\">\n",
       "  <thead>\n",
       "    <tr style=\"text-align: right;\">\n",
       "      <th></th>\n",
       "      <th>year</th>\n",
       "      <th>Month</th>\n",
       "      <th>Hours_watched</th>\n",
       "      <th>Avg_viewers</th>\n",
       "      <th>Peak_viewers</th>\n",
       "      <th>Streams</th>\n",
       "      <th>Avg_channels</th>\n",
       "      <th>Games_streamed</th>\n",
       "      <th>Viewer_ratio</th>\n",
       "    </tr>\n",
       "  </thead>\n",
       "  <tbody>\n",
       "    <tr>\n",
       "      <th>0</th>\n",
       "      <td>2016</td>\n",
       "      <td>1</td>\n",
       "      <td>480241904</td>\n",
       "      <td>646355</td>\n",
       "      <td>1275257</td>\n",
       "      <td>7701675</td>\n",
       "      <td>20076</td>\n",
       "      <td>12149</td>\n",
       "      <td>29.08</td>\n",
       "    </tr>\n",
       "    <tr>\n",
       "      <th>1</th>\n",
       "      <td>2016</td>\n",
       "      <td>2</td>\n",
       "      <td>441859897</td>\n",
       "      <td>635769</td>\n",
       "      <td>1308032</td>\n",
       "      <td>7038520</td>\n",
       "      <td>20427</td>\n",
       "      <td>12134</td>\n",
       "      <td>28.98</td>\n",
       "    </tr>\n",
       "    <tr>\n",
       "      <th>2</th>\n",
       "      <td>2016</td>\n",
       "      <td>3</td>\n",
       "      <td>490669308</td>\n",
       "      <td>660389</td>\n",
       "      <td>1591551</td>\n",
       "      <td>7390957</td>\n",
       "      <td>20271</td>\n",
       "      <td>12234</td>\n",
       "      <td>28.92</td>\n",
       "    </tr>\n",
       "    <tr>\n",
       "      <th>3</th>\n",
       "      <td>2016</td>\n",
       "      <td>4</td>\n",
       "      <td>377975447</td>\n",
       "      <td>525696</td>\n",
       "      <td>1775120</td>\n",
       "      <td>6869719</td>\n",
       "      <td>16791</td>\n",
       "      <td>12282</td>\n",
       "      <td>28.80</td>\n",
       "    </tr>\n",
       "    <tr>\n",
       "      <th>4</th>\n",
       "      <td>2016</td>\n",
       "      <td>5</td>\n",
       "      <td>449836631</td>\n",
       "      <td>605432</td>\n",
       "      <td>1438962</td>\n",
       "      <td>7535519</td>\n",
       "      <td>19394</td>\n",
       "      <td>12424</td>\n",
       "      <td>28.85</td>\n",
       "    </tr>\n",
       "  </tbody>\n",
       "</table>\n",
       "</div>"
      ],
      "text/plain": [
       "   year  Month  Hours_watched  Avg_viewers  Peak_viewers  Streams  \\\n",
       "0  2016      1      480241904       646355       1275257  7701675   \n",
       "1  2016      2      441859897       635769       1308032  7038520   \n",
       "2  2016      3      490669308       660389       1591551  7390957   \n",
       "3  2016      4      377975447       525696       1775120  6869719   \n",
       "4  2016      5      449836631       605432       1438962  7535519   \n",
       "\n",
       "   Avg_channels  Games_streamed  Viewer_ratio  \n",
       "0         20076           12149         29.08  \n",
       "1         20427           12134         28.98  \n",
       "2         20271           12234         28.92  \n",
       "3         16791           12282         28.80  \n",
       "4         19394           12424         28.85  "
      ]
     },
     "execution_count": 7,
     "metadata": {},
     "output_type": "execute_result"
    }
   ],
   "source": [
    "data = pd.read_csv('Twitch_global_data.csv')\n",
    "data.head()"
   ]
  },
  {
   "cell_type": "code",
   "execution_count": 8,
   "id": "ab2b3d5b",
   "metadata": {},
   "outputs": [
    {
     "name": "stdout",
     "output_type": "stream",
     "text": [
      "<class 'pandas.core.frame.DataFrame'>\n",
      "RangeIndex: 85 entries, 0 to 84\n",
      "Data columns (total 9 columns):\n",
      " #   Column          Non-Null Count  Dtype  \n",
      "---  ------          --------------  -----  \n",
      " 0   year            85 non-null     int64  \n",
      " 1   Month           85 non-null     int64  \n",
      " 2   Hours_watched   85 non-null     int64  \n",
      " 3   Avg_viewers     85 non-null     int64  \n",
      " 4   Peak_viewers    85 non-null     int64  \n",
      " 5   Streams         85 non-null     int64  \n",
      " 6   Avg_channels    85 non-null     int64  \n",
      " 7   Games_streamed  85 non-null     int64  \n",
      " 8   Viewer_ratio    85 non-null     float64\n",
      "dtypes: float64(1), int64(8)\n",
      "memory usage: 6.1 KB\n"
     ]
    }
   ],
   "source": [
    "data.info()"
   ]
  }
 ],
 "metadata": {
  "kernelspec": {
   "display_name": "Python 3 (ipykernel)",
   "language": "python",
   "name": "python3"
  },
  "language_info": {
   "codemirror_mode": {
    "name": "ipython",
    "version": 3
   },
   "file_extension": ".py",
   "mimetype": "text/x-python",
   "name": "python",
   "nbconvert_exporter": "python",
   "pygments_lexer": "ipython3",
   "version": "3.9.7"
  }
 },
 "nbformat": 4,
 "nbformat_minor": 5
}
