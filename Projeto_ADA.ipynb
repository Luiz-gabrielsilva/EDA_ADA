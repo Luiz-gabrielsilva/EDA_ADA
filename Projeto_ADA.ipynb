{
 "cells": [
  {
   "cell_type": "markdown",
   "id": "39c07fc6",
   "metadata": {},
   "source": [
    "# EDA - Projeto ADA"
   ]
  },
  {
   "cell_type": "markdown",
   "id": "f70daad7",
   "metadata": {},
   "source": [
    "O presente documento tem por finalidade ser um EDA (Exploratory Data Analysis) como projeto para o curso Técnicas de Programação da ADA. Os dados aqui escolhidos para análise são de caráter público e sua origem é encontrada em: https://www.kaggle.com/datasets/rankirsh/evolution-of-top-games-on-twitch.\n",
    "\n"
   ]
  },
  {
   "cell_type": "markdown",
   "id": "686eaa2c",
   "metadata": {
    "heading_collapsed": true
   },
   "source": [
    "## Cabeçalho"
   ]
  },
  {
   "cell_type": "markdown",
   "id": "9960704d",
   "metadata": {
    "hidden": true
   },
   "source": [
    "Os estudantes responsáveis pelas análises e pelo uso dos dados em questão são:\n",
    "- Bruno Bastos\n",
    "- Delson Cardoso\n",
    "- Luiz Gabriel \n",
    "- Igor Raphael \n",
    "- Mia Valentin\n",
    "\n",
    "Todos acima são estudantes da Ada Tech, participantes do programa Data4All, ofertado em parceria com as empresas Gerdau & RandStand."
   ]
  },
  {
   "cell_type": "markdown",
   "id": "1bcc7fbd",
   "metadata": {},
   "source": [
    "## EDA"
   ]
  },
  {
   "cell_type": "markdown",
   "id": "d65f34a6",
   "metadata": {
    "heading_collapsed": true
   },
   "source": [
    "#### Importando Bibliotecas a serem utilizadas"
   ]
  },
  {
   "cell_type": "code",
   "execution_count": 2,
   "id": "e7ee6b19",
   "metadata": {
    "hidden": true
   },
   "outputs": [],
   "source": [
    "import pandas as pd\n",
    "import numpy as np\n",
    "import matplotlib.pyplot as plt"
   ]
  },
  {
   "cell_type": "markdown",
   "id": "8eb6a655",
   "metadata": {
    "heading_collapsed": true
   },
   "source": [
    "#### Carregando os dados do arquivo global"
   ]
  },
  {
   "cell_type": "code",
   "execution_count": 3,
   "id": "b2c08c5d",
   "metadata": {
    "hidden": true
   },
   "outputs": [
    {
     "data": {
      "text/html": [
       "<div>\n",
       "<style scoped>\n",
       "    .dataframe tbody tr th:only-of-type {\n",
       "        vertical-align: middle;\n",
       "    }\n",
       "\n",
       "    .dataframe tbody tr th {\n",
       "        vertical-align: top;\n",
       "    }\n",
       "\n",
       "    .dataframe thead th {\n",
       "        text-align: right;\n",
       "    }\n",
       "</style>\n",
       "<table border=\"1\" class=\"dataframe\">\n",
       "  <thead>\n",
       "    <tr style=\"text-align: right;\">\n",
       "      <th></th>\n",
       "      <th>ano</th>\n",
       "      <th>mes</th>\n",
       "      <th>horas_assistidas</th>\n",
       "      <th>media_visualizacoes</th>\n",
       "      <th>pico_de_visualizacoes</th>\n",
       "      <th>Streams</th>\n",
       "      <th>media_canais</th>\n",
       "      <th>jogos_transmitidos</th>\n",
       "      <th>proporcao_de_espectadores</th>\n",
       "    </tr>\n",
       "  </thead>\n",
       "  <tbody>\n",
       "    <tr>\n",
       "      <th>80</th>\n",
       "      <td>2022</td>\n",
       "      <td>9</td>\n",
       "      <td>1817119612</td>\n",
       "      <td>2527287</td>\n",
       "      <td>4678056</td>\n",
       "      <td>22278079</td>\n",
       "      <td>90376</td>\n",
       "      <td>41863</td>\n",
       "      <td>28.37</td>\n",
       "    </tr>\n",
       "    <tr>\n",
       "      <th>81</th>\n",
       "      <td>2022</td>\n",
       "      <td>10</td>\n",
       "      <td>1883320673</td>\n",
       "      <td>2534751</td>\n",
       "      <td>4610799</td>\n",
       "      <td>22867973</td>\n",
       "      <td>90557</td>\n",
       "      <td>42164</td>\n",
       "      <td>28.35</td>\n",
       "    </tr>\n",
       "    <tr>\n",
       "      <th>82</th>\n",
       "      <td>2022</td>\n",
       "      <td>11</td>\n",
       "      <td>1694262814</td>\n",
       "      <td>2356415</td>\n",
       "      <td>5362892</td>\n",
       "      <td>21744817</td>\n",
       "      <td>88195</td>\n",
       "      <td>41058</td>\n",
       "      <td>26.84</td>\n",
       "    </tr>\n",
       "    <tr>\n",
       "      <th>83</th>\n",
       "      <td>2022</td>\n",
       "      <td>12</td>\n",
       "      <td>1674092138</td>\n",
       "      <td>2253152</td>\n",
       "      <td>3866814</td>\n",
       "      <td>21753674</td>\n",
       "      <td>84728</td>\n",
       "      <td>41548</td>\n",
       "      <td>27.00</td>\n",
       "    </tr>\n",
       "    <tr>\n",
       "      <th>84</th>\n",
       "      <td>2023</td>\n",
       "      <td>1</td>\n",
       "      <td>1866962462</td>\n",
       "      <td>2512735</td>\n",
       "      <td>5593050</td>\n",
       "      <td>24429476</td>\n",
       "      <td>93349</td>\n",
       "      <td>43611</td>\n",
       "      <td>27.44</td>\n",
       "    </tr>\n",
       "  </tbody>\n",
       "</table>\n",
       "</div>"
      ],
      "text/plain": [
       "     ano  mes  horas_assistidas  media_visualizacoes  pico_de_visualizacoes  \\\n",
       "80  2022    9        1817119612              2527287                4678056   \n",
       "81  2022   10        1883320673              2534751                4610799   \n",
       "82  2022   11        1694262814              2356415                5362892   \n",
       "83  2022   12        1674092138              2253152                3866814   \n",
       "84  2023    1        1866962462              2512735                5593050   \n",
       "\n",
       "     Streams  media_canais  jogos_transmitidos  proporcao_de_espectadores  \n",
       "80  22278079         90376               41863                      28.37  \n",
       "81  22867973         90557               42164                      28.35  \n",
       "82  21744817         88195               41058                      26.84  \n",
       "83  21753674         84728               41548                      27.00  \n",
       "84  24429476         93349               43611                      27.44  "
      ]
     },
     "execution_count": 3,
     "metadata": {},
     "output_type": "execute_result"
    }
   ],
   "source": [
    "data = pd.read_csv('Twitch_global_data.csv')\n",
    "\n",
    "data.rename(columns={\n",
    "    'year':'ano',\n",
    "    'Month':'mes',\n",
    "    'Hours_watched':'horas_assistidas',\n",
    "    'Avg_viewers':'media_visualizacoes',\n",
    "    'Peak_viewers':'pico_de_visualizacoes',\n",
    "    'Avg_channels':'media_canais',\n",
    "    'Games_streamed':'jogos_transmitidos',\n",
    "    'Viewer_ratio':'proporcao_de_espectadores',\n",
    "}, inplace=True)\n",
    "\n",
    "data.tail()"
   ]
  },
  {
   "cell_type": "markdown",
   "id": "b669e201",
   "metadata": {
    "heading_collapsed": true
   },
   "source": [
    "#### Entendendo o DataSet"
   ]
  },
  {
   "cell_type": "code",
   "execution_count": 36,
   "id": "ab2b3d5b",
   "metadata": {
    "hidden": true
   },
   "outputs": [
    {
     "name": "stdout",
     "output_type": "stream",
     "text": [
      "<class 'pandas.core.frame.DataFrame'>\n",
      "RangeIndex: 85 entries, 0 to 84\n",
      "Data columns (total 9 columns):\n",
      " #   Column                     Non-Null Count  Dtype  \n",
      "---  ------                     --------------  -----  \n",
      " 0   ano                        85 non-null     int64  \n",
      " 1   mes                        85 non-null     int64  \n",
      " 2   horas_assistidas           85 non-null     int64  \n",
      " 3   media_visualizacoes        85 non-null     int64  \n",
      " 4   pico_de_visualizacoes      85 non-null     int64  \n",
      " 5   Streams                    85 non-null     int64  \n",
      " 6   media_canais               85 non-null     int64  \n",
      " 7   jogos_transmitidos         85 non-null     int64  \n",
      " 8   proporcao_de_espectadores  85 non-null     float64\n",
      "dtypes: float64(1), int64(8)\n",
      "memory usage: 6.1 KB\n"
     ]
    }
   ],
   "source": [
    "data.info()"
   ]
  },
  {
   "cell_type": "code",
   "execution_count": 3,
   "id": "b1f0f060",
   "metadata": {
    "hidden": true
   },
   "outputs": [
    {
     "data": {
      "text/plain": [
       "ano                          0\n",
       "mes                          0\n",
       "horas_assistidas             0\n",
       "media_visualizacoes          0\n",
       "pico_de_visualizacoes        0\n",
       "Streams                      0\n",
       "media_canais                 0\n",
       "jogos_transmitidos           0\n",
       "proporcao_de_espectadores    0\n",
       "dtype: int64"
      ]
     },
     "execution_count": 3,
     "metadata": {},
     "output_type": "execute_result"
    }
   ],
   "source": [
    "data.isnull().sum()"
   ]
  },
  {
   "cell_type": "markdown",
   "id": "667fd306",
   "metadata": {
    "hidden": true
   },
   "source": [
    "<b><i>Não há dados missing e o Dtype de cada dado corresponde ao esperado para análise, sem necessidade de transformações</i></b>"
   ]
  },
  {
   "cell_type": "markdown",
   "id": "13a0bbc4",
   "metadata": {
    "collapsed": false
   },
   "source": [
    "### Carregando os dados do arquivo game"
   ]
  },
  {
   "cell_type": "code",
   "execution_count": 3,
   "id": "86b99b52",
   "metadata": {
    "collapsed": false
   },
   "outputs": [
    {
     "data": {
      "text/html": [
       "<div>\n",
       "<style scoped>\n",
       "    .dataframe tbody tr th:only-of-type {\n",
       "        vertical-align: middle;\n",
       "    }\n",
       "\n",
       "    .dataframe tbody tr th {\n",
       "        vertical-align: top;\n",
       "    }\n",
       "\n",
       "    .dataframe thead th {\n",
       "        text-align: right;\n",
       "    }\n",
       "</style>\n",
       "<table border=\"1\" class=\"dataframe\">\n",
       "  <thead>\n",
       "    <tr style=\"text-align: right;\">\n",
       "      <th></th>\n",
       "      <th>Rank</th>\n",
       "      <th>jogo</th>\n",
       "      <th>mes</th>\n",
       "      <th>ano</th>\n",
       "      <th>horas_assistidas</th>\n",
       "      <th>horas_transmitidas</th>\n",
       "      <th>pico_de_visualizacoes</th>\n",
       "      <th>pico_de_canais</th>\n",
       "      <th>Streamers</th>\n",
       "      <th>media_de_espectadores</th>\n",
       "      <th>media_canais</th>\n",
       "      <th>media_de_proporção_de_espectadores</th>\n",
       "    </tr>\n",
       "  </thead>\n",
       "  <tbody>\n",
       "    <tr>\n",
       "      <th>0</th>\n",
       "      <td>1</td>\n",
       "      <td>League of Legends</td>\n",
       "      <td>1</td>\n",
       "      <td>2016</td>\n",
       "      <td>94377226</td>\n",
       "      <td>1362044 hours</td>\n",
       "      <td>530270</td>\n",
       "      <td>2903</td>\n",
       "      <td>129172</td>\n",
       "      <td>127021</td>\n",
       "      <td>1833</td>\n",
       "      <td>69.29</td>\n",
       "    </tr>\n",
       "    <tr>\n",
       "      <th>1</th>\n",
       "      <td>2</td>\n",
       "      <td>Counter-Strike: Global Offensive</td>\n",
       "      <td>1</td>\n",
       "      <td>2016</td>\n",
       "      <td>47832863</td>\n",
       "      <td>830105 hours</td>\n",
       "      <td>372654</td>\n",
       "      <td>2197</td>\n",
       "      <td>120849</td>\n",
       "      <td>64378</td>\n",
       "      <td>1117</td>\n",
       "      <td>57.62</td>\n",
       "    </tr>\n",
       "    <tr>\n",
       "      <th>2</th>\n",
       "      <td>3</td>\n",
       "      <td>Dota 2</td>\n",
       "      <td>1</td>\n",
       "      <td>2016</td>\n",
       "      <td>45185893</td>\n",
       "      <td>433397 hours</td>\n",
       "      <td>315083</td>\n",
       "      <td>1100</td>\n",
       "      <td>44074</td>\n",
       "      <td>60815</td>\n",
       "      <td>583</td>\n",
       "      <td>104.26</td>\n",
       "    </tr>\n",
       "    <tr>\n",
       "      <th>3</th>\n",
       "      <td>4</td>\n",
       "      <td>Hearthstone</td>\n",
       "      <td>1</td>\n",
       "      <td>2016</td>\n",
       "      <td>39936159</td>\n",
       "      <td>235903 hours</td>\n",
       "      <td>131357</td>\n",
       "      <td>517</td>\n",
       "      <td>36170</td>\n",
       "      <td>53749</td>\n",
       "      <td>317</td>\n",
       "      <td>169.29</td>\n",
       "    </tr>\n",
       "    <tr>\n",
       "      <th>4</th>\n",
       "      <td>5</td>\n",
       "      <td>Call of Duty: Black Ops III</td>\n",
       "      <td>1</td>\n",
       "      <td>2016</td>\n",
       "      <td>16153057</td>\n",
       "      <td>1151578 hours</td>\n",
       "      <td>71639</td>\n",
       "      <td>3620</td>\n",
       "      <td>214054</td>\n",
       "      <td>21740</td>\n",
       "      <td>1549</td>\n",
       "      <td>14.03</td>\n",
       "    </tr>\n",
       "  </tbody>\n",
       "</table>\n",
       "</div>"
      ],
      "text/plain": [
       "   Rank                              jogo  mes   ano horas_assistidas  \\\n",
       "0     1                 League of Legends    1  2016         94377226   \n",
       "1     2  Counter-Strike: Global Offensive    1  2016         47832863   \n",
       "2     3                            Dota 2    1  2016         45185893   \n",
       "3     4                       Hearthstone    1  2016         39936159   \n",
       "4     5       Call of Duty: Black Ops III    1  2016         16153057   \n",
       "\n",
       "  horas_transmitidas pico_de_visualizacoes pico_de_canais Streamers  \\\n",
       "0      1362044 hours                530270           2903    129172   \n",
       "1       830105 hours                372654           2197    120849   \n",
       "2       433397 hours                315083           1100     44074   \n",
       "3       235903 hours                131357            517     36170   \n",
       "4      1151578 hours                 71639           3620    214054   \n",
       "\n",
       "  media_de_espectadores media_canais media_de_proporção_de_espectadores  \n",
       "0                127021         1833                              69.29  \n",
       "1                 64378         1117                              57.62  \n",
       "2                 60815          583                             104.26  \n",
       "3                 53749          317                             169.29  \n",
       "4                 21740         1549                              14.03  "
      ]
     },
     "execution_count": 3,
     "metadata": {},
     "output_type": "execute_result"
    }
   ],
   "source": [
    "data_games = pd.read_csv('Twitch_game_data.csv', encoding='latin1')\n",
    "data_games.rename(columns={\n",
    "    'Game':'jogo',\n",
    "    'Month':'mes',\n",
    "    'Year':'ano',\n",
    "    'Hours_watched':'horas_assistidas',\n",
    "    'Hours_Streamed':'horas_transmitidas',\n",
    "    'Peak_viewers':'pico_de_visualizacoes',\n",
    "    'Peak_channels':'pico_de_canais',\n",
    "    'Avg_viewers':'media_de_espectadores',\n",
    "    'Avg_channels':'media_canais',\n",
    "    'Avg_viewer_ratio':'media_de_proporção_de_espectadores',\n",
    "}, inplace=True)\n",
    "data_games.head()"
   ]
  },
  {
   "cell_type": "code",
   "execution_count": 4,
   "id": "25200b5a",
   "metadata": {
    "collapsed": false
   },
   "outputs": [
    {
     "data": {
      "text/html": [
       "<div>\n",
       "<style scoped>\n",
       "    .dataframe tbody tr th:only-of-type {\n",
       "        vertical-align: middle;\n",
       "    }\n",
       "\n",
       "    .dataframe tbody tr th {\n",
       "        vertical-align: top;\n",
       "    }\n",
       "\n",
       "    .dataframe thead th {\n",
       "        text-align: right;\n",
       "    }\n",
       "</style>\n",
       "<table border=\"1\" class=\"dataframe\">\n",
       "  <thead>\n",
       "    <tr style=\"text-align: right;\">\n",
       "      <th></th>\n",
       "      <th>Rank</th>\n",
       "      <th>jogo</th>\n",
       "      <th>mes</th>\n",
       "      <th>ano</th>\n",
       "      <th>horas_assistidas</th>\n",
       "      <th>horas_transmitidas</th>\n",
       "      <th>pico_de_visualizacoes</th>\n",
       "      <th>pico_de_canais</th>\n",
       "      <th>Streamers</th>\n",
       "      <th>media_de_espectadores</th>\n",
       "      <th>media_canais</th>\n",
       "      <th>media_de_proporção_de_espectadores</th>\n",
       "    </tr>\n",
       "  </thead>\n",
       "  <tbody>\n",
       "    <tr>\n",
       "      <th>16995</th>\n",
       "      <td>196</td>\n",
       "      <td>Tom Clancy's The Division 2</td>\n",
       "      <td>1</td>\n",
       "      <td>2023</td>\n",
       "      <td>666943(118.3%)</td>\n",
       "      <td>97138(59.5%)</td>\n",
       "      <td>2759(49.9%)</td>\n",
       "      <td>249(48.2%)</td>\n",
       "      <td>12805(68.1%)</td>\n",
       "      <td>897(118.2%)</td>\n",
       "      <td>130(60.5%)</td>\n",
       "      <td>6.87(36.9%)</td>\n",
       "    </tr>\n",
       "    <tr>\n",
       "      <th>16996</th>\n",
       "      <td>197</td>\n",
       "      <td>Persona 5 Royal</td>\n",
       "      <td>1</td>\n",
       "      <td>2023</td>\n",
       "      <td>664503(-2.9%)</td>\n",
       "      <td>68310(2.7%)</td>\n",
       "      <td>10494(19.6%)</td>\n",
       "      <td>198(4.8%)</td>\n",
       "      <td>7475(4.8%)</td>\n",
       "      <td>894(-2.9%)</td>\n",
       "      <td>91(2.2%)</td>\n",
       "      <td>9.73(-5.4%)</td>\n",
       "    </tr>\n",
       "    <tr>\n",
       "      <th>16997</th>\n",
       "      <td>198</td>\n",
       "      <td>Bloodborne</td>\n",
       "      <td>1</td>\n",
       "      <td>2023</td>\n",
       "      <td>663078(59.1%)</td>\n",
       "      <td>45522(31.8%)</td>\n",
       "      <td>9455(30.4%)</td>\n",
       "      <td>117(8.3%)</td>\n",
       "      <td>8355(27.5%)</td>\n",
       "      <td>892(59.3%)</td>\n",
       "      <td>61(32.6%)</td>\n",
       "      <td>14.57(20.7%)</td>\n",
       "    </tr>\n",
       "    <tr>\n",
       "      <th>16998</th>\n",
       "      <td>199</td>\n",
       "      <td>PowerWash Simulator</td>\n",
       "      <td>1</td>\n",
       "      <td>2023</td>\n",
       "      <td>657644(356.0%)</td>\n",
       "      <td>18494(53.7%)</td>\n",
       "      <td>63757(473.9%)</td>\n",
       "      <td>192(346.5%)</td>\n",
       "      <td>6589(42.3%)</td>\n",
       "      <td>885(356.2%)</td>\n",
       "      <td>24(50%)</td>\n",
       "      <td>35.56(196.6%)</td>\n",
       "    </tr>\n",
       "    <tr>\n",
       "      <th>16999</th>\n",
       "      <td>200</td>\n",
       "      <td>Eternal Return</td>\n",
       "      <td>1</td>\n",
       "      <td>2023</td>\n",
       "      <td>642217(2.4%)</td>\n",
       "      <td>24245(7.7%)</td>\n",
       "      <td>9933(16.7%)</td>\n",
       "      <td>97(15.5%)</td>\n",
       "      <td>1997(6.2%)</td>\n",
       "      <td>864(2.5%)</td>\n",
       "      <td>32(6.7%)</td>\n",
       "      <td>26.49(-4.9%)</td>\n",
       "    </tr>\n",
       "  </tbody>\n",
       "</table>\n",
       "</div>"
      ],
      "text/plain": [
       "       Rank                         jogo  mes   ano horas_assistidas  \\\n",
       "16995   196  Tom Clancy's The Division 2    1  2023   666943(118.3%)   \n",
       "16996   197              Persona 5 Royal    1  2023    664503(-2.9%)   \n",
       "16997   198                   Bloodborne    1  2023    663078(59.1%)   \n",
       "16998   199          PowerWash Simulator    1  2023   657644(356.0%)   \n",
       "16999   200               Eternal Return    1  2023     642217(2.4%)   \n",
       "\n",
       "      horas_transmitidas pico_de_visualizacoes pico_de_canais     Streamers  \\\n",
       "16995       97138(59.5%)           2759(49.9%)     249(48.2%)  12805(68.1%)   \n",
       "16996        68310(2.7%)          10494(19.6%)      198(4.8%)    7475(4.8%)   \n",
       "16997       45522(31.8%)           9455(30.4%)      117(8.3%)   8355(27.5%)   \n",
       "16998       18494(53.7%)         63757(473.9%)    192(346.5%)   6589(42.3%)   \n",
       "16999        24245(7.7%)           9933(16.7%)      97(15.5%)    1997(6.2%)   \n",
       "\n",
       "      media_de_espectadores media_canais media_de_proporção_de_espectadores  \n",
       "16995           897(118.2%)   130(60.5%)                        6.87(36.9%)  \n",
       "16996            894(-2.9%)     91(2.2%)                        9.73(-5.4%)  \n",
       "16997            892(59.3%)    61(32.6%)                       14.57(20.7%)  \n",
       "16998           885(356.2%)      24(50%)                      35.56(196.6%)  \n",
       "16999             864(2.5%)     32(6.7%)                       26.49(-4.9%)  "
      ]
     },
     "execution_count": 4,
     "metadata": {},
     "output_type": "execute_result"
    }
   ],
   "source": [
    "data_games.tail()"
   ]
  },
  {
   "cell_type": "markdown",
   "id": "0732b3a0",
   "metadata": {
    "collapsed": false
   },
   "source": [
    "#### Entendendo o DataSet"
   ]
  },
  {
   "cell_type": "code",
   "execution_count": 5,
   "id": "a4ac3bf9",
   "metadata": {
    "collapsed": false
   },
   "outputs": [
    {
     "name": "stdout",
     "output_type": "stream",
     "text": [
      "<class 'pandas.core.frame.DataFrame'>\n",
      "RangeIndex: 17000 entries, 0 to 16999\n",
      "Data columns (total 12 columns):\n",
      " #   Column                              Non-Null Count  Dtype \n",
      "---  ------                              --------------  ----- \n",
      " 0   Rank                                17000 non-null  int64 \n",
      " 1   jogo                                16999 non-null  object\n",
      " 2   mes                                 17000 non-null  int64 \n",
      " 3   ano                                 17000 non-null  int64 \n",
      " 4   horas_assistidas                    17000 non-null  object\n",
      " 5   horas_transmitidas                  17000 non-null  object\n",
      " 6   pico_de_visualizacoes               17000 non-null  object\n",
      " 7   pico_de_canais                      17000 non-null  object\n",
      " 8   Streamers                           17000 non-null  object\n",
      " 9   media_de_espectadores               17000 non-null  object\n",
      " 10  media_canais                        17000 non-null  object\n",
      " 11  media_de_proporção_de_espectadores  17000 non-null  object\n",
      "dtypes: int64(3), object(9)\n",
      "memory usage: 1.6+ MB\n"
     ]
    }
   ],
   "source": [
    "data_games.info()"
   ]
  },
  {
   "cell_type": "markdown",
   "id": "2f8c3486",
   "metadata": {
    "collapsed": false
   },
   "source": [
    "<b><i> Algumas classes terão que ser convertidas para numéricos </i></b>\n"
   ]
  },
  {
   "cell_type": "code",
   "execution_count": 7,
   "id": "bad6068a",
   "metadata": {
    "collapsed": false
   },
   "outputs": [
    {
     "data": {
      "text/plain": [
       "Rank                                  0\n",
       "jogo                                  1\n",
       "mes                                   0\n",
       "ano                                   0\n",
       "horas_assistidas                      0\n",
       "horas_transmitidas                    0\n",
       "pico_de_visualizacoes                 0\n",
       "pico_de_canais                        0\n",
       "Streamers                             0\n",
       "media_de_espectadores                 0\n",
       "media_canais                          0\n",
       "media_de_proporção_de_espectadores    0\n",
       "dtype: int64"
      ]
     },
     "execution_count": 7,
     "metadata": {},
     "output_type": "execute_result"
    }
   ],
   "source": [
    "data_games.isnull().sum()"
   ]
  },
  {
   "cell_type": "markdown",
   "id": "df3a0422",
   "metadata": {
    "collapsed": false
   },
   "source": [
    "<b><i>O único dado missing é categórico (nome do jogo) </i></b>"
   ]
  },
  {
   "cell_type": "code",
   "execution_count": 8,
   "id": "905dadb6",
   "metadata": {
    "collapsed": false
   },
   "outputs": [
    {
     "data": {
      "text/html": [
       "<div>\n",
       "<style scoped>\n",
       "    .dataframe tbody tr th:only-of-type {\n",
       "        vertical-align: middle;\n",
       "    }\n",
       "\n",
       "    .dataframe tbody tr th {\n",
       "        vertical-align: top;\n",
       "    }\n",
       "\n",
       "    .dataframe thead th {\n",
       "        text-align: right;\n",
       "    }\n",
       "</style>\n",
       "<table border=\"1\" class=\"dataframe\">\n",
       "  <thead>\n",
       "    <tr style=\"text-align: right;\">\n",
       "      <th></th>\n",
       "      <th>Rank</th>\n",
       "      <th>jogo</th>\n",
       "      <th>mes</th>\n",
       "      <th>ano</th>\n",
       "      <th>horas_assistidas</th>\n",
       "      <th>horas_transmitidas</th>\n",
       "      <th>pico_de_visualizacoes</th>\n",
       "      <th>pico_de_canais</th>\n",
       "      <th>Streamers</th>\n",
       "      <th>media_de_espectadores</th>\n",
       "      <th>media_canais</th>\n",
       "      <th>media_de_proporção_de_espectadores</th>\n",
       "    </tr>\n",
       "  </thead>\n",
       "  <tbody>\n",
       "    <tr>\n",
       "      <th>7561</th>\n",
       "      <td>162</td>\n",
       "      <td>NaN</td>\n",
       "      <td>2</td>\n",
       "      <td>2019</td>\n",
       "      <td>317951</td>\n",
       "      <td>77004 hours</td>\n",
       "      <td>30919</td>\n",
       "      <td>5804</td>\n",
       "      <td>21758</td>\n",
       "      <td>473</td>\n",
       "      <td>114</td>\n",
       "      <td>4.13</td>\n",
       "    </tr>\n",
       "  </tbody>\n",
       "</table>\n",
       "</div>"
      ],
      "text/plain": [
       "      Rank jogo  mes   ano horas_assistidas horas_transmitidas  \\\n",
       "7561   162  NaN    2  2019           317951        77004 hours   \n",
       "\n",
       "     pico_de_visualizacoes pico_de_canais Streamers media_de_espectadores  \\\n",
       "7561                 30919           5804     21758                   473   \n",
       "\n",
       "     media_canais media_de_proporção_de_espectadores  \n",
       "7561          114                               4.13  "
      ]
     },
     "execution_count": 8,
     "metadata": {},
     "output_type": "execute_result"
    }
   ],
   "source": [
    "data_games[data_games['jogo'].isnull()]"
   ]
  },
  {
   "cell_type": "markdown",
   "id": "95f5b885",
   "metadata": {
    "collapsed": false
   },
   "source": [
    "<b><i>O jogo está em uma posição do rank que não será analisada, portanto, não há necessidade de tratamento </i></b>"
   ]
  },
  {
   "cell_type": "markdown",
   "id": "66fc8dbf",
   "metadata": {
    "collapsed": false
   },
   "source": [
    "#### Conversão para numéricos"
   ]
  },
  {
   "cell_type": "code",
   "execution_count": 9,
   "id": "1c72979e",
   "metadata": {
    "collapsed": false
   },
   "outputs": [],
   "source": [
    "#Limpa os valores que estão entre parênteses e converte para inteiro Ex: 542342(12.0%) String -> [542342 , 12.0%)] list -> 542342 inteiro\n",
    "data_games['horas_assistidas'] = data_games.loc[:,'horas_assistidas'].str.split('(').apply(lambda lista: lista[0]).astype('int')\n",
    "data_games['pico_de_visualizacoes'] = data_games.loc[:,'pico_de_visualizacoes'].str.split('(').apply(lambda lista: lista[0]).astype('int')\n",
    "data_games['pico_de_canais'] = data_games.loc[:,'pico_de_canais'].str.split('(').apply(lambda lista: lista[0]).astype('int')\n",
    "data_games['Streamers'] = data_games.loc[:,'Streamers'].str.split('(').apply(lambda lista: lista[0]).astype('int')"
   ]
  },
  {
   "cell_type": "code",
   "execution_count": 10,
   "id": "7d61980f",
   "metadata": {
    "collapsed": false
   },
   "outputs": [],
   "source": [
    "#Limpa os valores que estão entre parênteses Ex: 542342(12.0%) String -> [542342 , 12.0%)] list -> [542342] string dentro de uma lista\n",
    "data_games['horas_transmitidas'] = data_games.loc[:, 'horas_transmitidas'].str.split('(').apply(lambda lista: lista[0])\n",
    "#Verifica valores não numéricos e os retira da string, converte a string restante em inteiro Ex: 231456 hours string -> 231456 string -> 231456 inteiro\n",
    "data_games['horas_transmitidas'] = data_games['horas_transmitidas'].replace(to_replace=r'[^0-9]', value='', regex=True).astype(int)"
   ]
  },
  {
   "cell_type": "code",
   "execution_count": 11,
   "id": "815ce554",
   "metadata": {
    "collapsed": false
   },
   "outputs": [],
   "source": [
    "#Limpa os valores que estão entre parênteses e converte para float Ex: 470(15.0%) String -> [470 , 15.0%)] list -> 470 float\n",
    "data_games['media_de_espectadores'] = data_games.loc[:,'media_de_espectadores'].str.split('(').apply(lambda lista: lista[0]).astype('float')\n",
    "data_games['media_canais'] = data_games.loc[:,'media_canais'].str.split('(').apply(lambda lista: lista[0]).astype('float')\n",
    "data_games['media_de_proporção_de_espectadores'] = data_games.loc[:,'media_de_proporção_de_espectadores'].str.split('(').apply(lambda lista: lista[0]).astype('float')"
   ]
  },
  {
   "cell_type": "code",
   "execution_count": 12,
   "id": "b4b0697a",
   "metadata": {
    "collapsed": false
   },
   "outputs": [
    {
     "name": "stdout",
     "output_type": "stream",
     "text": [
      "<class 'pandas.core.frame.DataFrame'>\n",
      "RangeIndex: 17000 entries, 0 to 16999\n",
      "Data columns (total 12 columns):\n",
      " #   Column                              Non-Null Count  Dtype  \n",
      "---  ------                              --------------  -----  \n",
      " 0   Rank                                17000 non-null  int64  \n",
      " 1   jogo                                16999 non-null  object \n",
      " 2   mes                                 17000 non-null  int64  \n",
      " 3   ano                                 17000 non-null  int64  \n",
      " 4   horas_assistidas                    17000 non-null  int32  \n",
      " 5   horas_transmitidas                  17000 non-null  int32  \n",
      " 6   pico_de_visualizacoes               17000 non-null  int32  \n",
      " 7   pico_de_canais                      17000 non-null  int32  \n",
      " 8   Streamers                           17000 non-null  int32  \n",
      " 9   media_de_espectadores               17000 non-null  float64\n",
      " 10  media_canais                        17000 non-null  float64\n",
      " 11  media_de_proporção_de_espectadores  17000 non-null  float64\n",
      "dtypes: float64(3), int32(5), int64(3), object(1)\n",
      "memory usage: 1.2+ MB\n"
     ]
    }
   ],
   "source": [
    "data_games.info()"
   ]
  },
  {
   "cell_type": "code",
   "execution_count": 13,
   "id": "b6327380",
   "metadata": {
    "collapsed": false
   },
   "outputs": [
    {
     "data": {
      "text/html": [
       "<div>\n",
       "<style scoped>\n",
       "    .dataframe tbody tr th:only-of-type {\n",
       "        vertical-align: middle;\n",
       "    }\n",
       "\n",
       "    .dataframe tbody tr th {\n",
       "        vertical-align: top;\n",
       "    }\n",
       "\n",
       "    .dataframe thead th {\n",
       "        text-align: right;\n",
       "    }\n",
       "</style>\n",
       "<table border=\"1\" class=\"dataframe\">\n",
       "  <thead>\n",
       "    <tr style=\"text-align: right;\">\n",
       "      <th></th>\n",
       "      <th>Rank</th>\n",
       "      <th>jogo</th>\n",
       "      <th>mes</th>\n",
       "      <th>ano</th>\n",
       "      <th>horas_assistidas</th>\n",
       "      <th>horas_transmitidas</th>\n",
       "      <th>pico_de_visualizacoes</th>\n",
       "      <th>pico_de_canais</th>\n",
       "      <th>Streamers</th>\n",
       "      <th>media_de_espectadores</th>\n",
       "      <th>media_canais</th>\n",
       "      <th>media_de_proporção_de_espectadores</th>\n",
       "    </tr>\n",
       "  </thead>\n",
       "  <tbody>\n",
       "    <tr>\n",
       "      <th>0</th>\n",
       "      <td>1</td>\n",
       "      <td>League of Legends</td>\n",
       "      <td>1</td>\n",
       "      <td>2016</td>\n",
       "      <td>94377226</td>\n",
       "      <td>1362044</td>\n",
       "      <td>530270</td>\n",
       "      <td>2903</td>\n",
       "      <td>129172</td>\n",
       "      <td>127021.0</td>\n",
       "      <td>1833.0</td>\n",
       "      <td>69.29</td>\n",
       "    </tr>\n",
       "    <tr>\n",
       "      <th>1</th>\n",
       "      <td>2</td>\n",
       "      <td>Counter-Strike: Global Offensive</td>\n",
       "      <td>1</td>\n",
       "      <td>2016</td>\n",
       "      <td>47832863</td>\n",
       "      <td>830105</td>\n",
       "      <td>372654</td>\n",
       "      <td>2197</td>\n",
       "      <td>120849</td>\n",
       "      <td>64378.0</td>\n",
       "      <td>1117.0</td>\n",
       "      <td>57.62</td>\n",
       "    </tr>\n",
       "    <tr>\n",
       "      <th>2</th>\n",
       "      <td>3</td>\n",
       "      <td>Dota 2</td>\n",
       "      <td>1</td>\n",
       "      <td>2016</td>\n",
       "      <td>45185893</td>\n",
       "      <td>433397</td>\n",
       "      <td>315083</td>\n",
       "      <td>1100</td>\n",
       "      <td>44074</td>\n",
       "      <td>60815.0</td>\n",
       "      <td>583.0</td>\n",
       "      <td>104.26</td>\n",
       "    </tr>\n",
       "    <tr>\n",
       "      <th>3</th>\n",
       "      <td>4</td>\n",
       "      <td>Hearthstone</td>\n",
       "      <td>1</td>\n",
       "      <td>2016</td>\n",
       "      <td>39936159</td>\n",
       "      <td>235903</td>\n",
       "      <td>131357</td>\n",
       "      <td>517</td>\n",
       "      <td>36170</td>\n",
       "      <td>53749.0</td>\n",
       "      <td>317.0</td>\n",
       "      <td>169.29</td>\n",
       "    </tr>\n",
       "    <tr>\n",
       "      <th>4</th>\n",
       "      <td>5</td>\n",
       "      <td>Call of Duty: Black Ops III</td>\n",
       "      <td>1</td>\n",
       "      <td>2016</td>\n",
       "      <td>16153057</td>\n",
       "      <td>1151578</td>\n",
       "      <td>71639</td>\n",
       "      <td>3620</td>\n",
       "      <td>214054</td>\n",
       "      <td>21740.0</td>\n",
       "      <td>1549.0</td>\n",
       "      <td>14.03</td>\n",
       "    </tr>\n",
       "  </tbody>\n",
       "</table>\n",
       "</div>"
      ],
      "text/plain": [
       "   Rank                              jogo  mes   ano  horas_assistidas  \\\n",
       "0     1                 League of Legends    1  2016          94377226   \n",
       "1     2  Counter-Strike: Global Offensive    1  2016          47832863   \n",
       "2     3                            Dota 2    1  2016          45185893   \n",
       "3     4                       Hearthstone    1  2016          39936159   \n",
       "4     5       Call of Duty: Black Ops III    1  2016          16153057   \n",
       "\n",
       "   horas_transmitidas  pico_de_visualizacoes  pico_de_canais  Streamers  \\\n",
       "0             1362044                 530270            2903     129172   \n",
       "1              830105                 372654            2197     120849   \n",
       "2              433397                 315083            1100      44074   \n",
       "3              235903                 131357             517      36170   \n",
       "4             1151578                  71639            3620     214054   \n",
       "\n",
       "   media_de_espectadores  media_canais  media_de_proporção_de_espectadores  \n",
       "0               127021.0        1833.0                               69.29  \n",
       "1                64378.0        1117.0                               57.62  \n",
       "2                60815.0         583.0                              104.26  \n",
       "3                53749.0         317.0                              169.29  \n",
       "4                21740.0        1549.0                               14.03  "
      ]
     },
     "execution_count": 13,
     "metadata": {},
     "output_type": "execute_result"
    }
   ],
   "source": [
    "data_games.head()"
   ]
  },
  {
   "cell_type": "code",
   "execution_count": 14,
   "id": "4f1f2d7d",
   "metadata": {
    "collapsed": false
   },
   "outputs": [
    {
     "data": {
      "text/html": [
       "<div>\n",
       "<style scoped>\n",
       "    .dataframe tbody tr th:only-of-type {\n",
       "        vertical-align: middle;\n",
       "    }\n",
       "\n",
       "    .dataframe tbody tr th {\n",
       "        vertical-align: top;\n",
       "    }\n",
       "\n",
       "    .dataframe thead th {\n",
       "        text-align: right;\n",
       "    }\n",
       "</style>\n",
       "<table border=\"1\" class=\"dataframe\">\n",
       "  <thead>\n",
       "    <tr style=\"text-align: right;\">\n",
       "      <th></th>\n",
       "      <th>Rank</th>\n",
       "      <th>jogo</th>\n",
       "      <th>mes</th>\n",
       "      <th>ano</th>\n",
       "      <th>horas_assistidas</th>\n",
       "      <th>horas_transmitidas</th>\n",
       "      <th>pico_de_visualizacoes</th>\n",
       "      <th>pico_de_canais</th>\n",
       "      <th>Streamers</th>\n",
       "      <th>media_de_espectadores</th>\n",
       "      <th>media_canais</th>\n",
       "      <th>media_de_proporção_de_espectadores</th>\n",
       "    </tr>\n",
       "  </thead>\n",
       "  <tbody>\n",
       "    <tr>\n",
       "      <th>16995</th>\n",
       "      <td>196</td>\n",
       "      <td>Tom Clancy's The Division 2</td>\n",
       "      <td>1</td>\n",
       "      <td>2023</td>\n",
       "      <td>666943</td>\n",
       "      <td>97138</td>\n",
       "      <td>2759</td>\n",
       "      <td>249</td>\n",
       "      <td>12805</td>\n",
       "      <td>897.0</td>\n",
       "      <td>130.0</td>\n",
       "      <td>6.87</td>\n",
       "    </tr>\n",
       "    <tr>\n",
       "      <th>16996</th>\n",
       "      <td>197</td>\n",
       "      <td>Persona 5 Royal</td>\n",
       "      <td>1</td>\n",
       "      <td>2023</td>\n",
       "      <td>664503</td>\n",
       "      <td>68310</td>\n",
       "      <td>10494</td>\n",
       "      <td>198</td>\n",
       "      <td>7475</td>\n",
       "      <td>894.0</td>\n",
       "      <td>91.0</td>\n",
       "      <td>9.73</td>\n",
       "    </tr>\n",
       "    <tr>\n",
       "      <th>16997</th>\n",
       "      <td>198</td>\n",
       "      <td>Bloodborne</td>\n",
       "      <td>1</td>\n",
       "      <td>2023</td>\n",
       "      <td>663078</td>\n",
       "      <td>45522</td>\n",
       "      <td>9455</td>\n",
       "      <td>117</td>\n",
       "      <td>8355</td>\n",
       "      <td>892.0</td>\n",
       "      <td>61.0</td>\n",
       "      <td>14.57</td>\n",
       "    </tr>\n",
       "    <tr>\n",
       "      <th>16998</th>\n",
       "      <td>199</td>\n",
       "      <td>PowerWash Simulator</td>\n",
       "      <td>1</td>\n",
       "      <td>2023</td>\n",
       "      <td>657644</td>\n",
       "      <td>18494</td>\n",
       "      <td>63757</td>\n",
       "      <td>192</td>\n",
       "      <td>6589</td>\n",
       "      <td>885.0</td>\n",
       "      <td>24.0</td>\n",
       "      <td>35.56</td>\n",
       "    </tr>\n",
       "    <tr>\n",
       "      <th>16999</th>\n",
       "      <td>200</td>\n",
       "      <td>Eternal Return</td>\n",
       "      <td>1</td>\n",
       "      <td>2023</td>\n",
       "      <td>642217</td>\n",
       "      <td>24245</td>\n",
       "      <td>9933</td>\n",
       "      <td>97</td>\n",
       "      <td>1997</td>\n",
       "      <td>864.0</td>\n",
       "      <td>32.0</td>\n",
       "      <td>26.49</td>\n",
       "    </tr>\n",
       "  </tbody>\n",
       "</table>\n",
       "</div>"
      ],
      "text/plain": [
       "       Rank                         jogo  mes   ano  horas_assistidas  \\\n",
       "16995   196  Tom Clancy's The Division 2    1  2023            666943   \n",
       "16996   197              Persona 5 Royal    1  2023            664503   \n",
       "16997   198                   Bloodborne    1  2023            663078   \n",
       "16998   199          PowerWash Simulator    1  2023            657644   \n",
       "16999   200               Eternal Return    1  2023            642217   \n",
       "\n",
       "       horas_transmitidas  pico_de_visualizacoes  pico_de_canais  Streamers  \\\n",
       "16995               97138                   2759             249      12805   \n",
       "16996               68310                  10494             198       7475   \n",
       "16997               45522                   9455             117       8355   \n",
       "16998               18494                  63757             192       6589   \n",
       "16999               24245                   9933              97       1997   \n",
       "\n",
       "       media_de_espectadores  media_canais  media_de_proporção_de_espectadores  \n",
       "16995                  897.0         130.0                                6.87  \n",
       "16996                  894.0          91.0                                9.73  \n",
       "16997                  892.0          61.0                               14.57  \n",
       "16998                  885.0          24.0                               35.56  \n",
       "16999                  864.0          32.0                               26.49  "
      ]
     },
     "execution_count": 14,
     "metadata": {},
     "output_type": "execute_result"
    }
   ],
   "source": [
    "data_games.tail()"
   ]
  },
  {
   "cell_type": "markdown",
   "id": "b42f8508",
   "metadata": {
    "collapsed": false
   },
   "source": [
    "## DELSON"
   ]
  },
  {
   "cell_type": "code",
   "execution_count": 96,
   "id": "0ba7575f",
   "metadata": {
    "hidden": true
   },
   "outputs": [
    {
     "name": "stdout",
     "output_type": "stream",
     "text": [
      "[362833210]\n"
     ]
    }
   ],
   "source": [
    "dados = data['horas_assistidas']\n",
    "\n",
    "lista = [dado for dado in dados if dado == max(dados)]\n",
    "lista_1 = [dado for dado in dados if dado == min(dados)]\n",
    "\n",
    "print(lista_1)"
   ]
  },
  {
   "cell_type": "code",
   "execution_count": 4,
   "id": "de2ce8a8",
   "metadata": {},
   "outputs": [
    {
     "name": "stdout",
     "output_type": "stream",
     "text": [
      "None\n",
      "AxesSubplot(0.125,0.11;0.775x0.77)\n",
      "(2021, 5, 2308295297)\n",
      "(2016, 9, 362833210)\n",
      "O mês 5 do ano 2021 foi o mês com o maior número de horas assistidas, totalizando 2308295297 horas.\n",
      "O mês 9 do ano 2016 foi o mês com o menor número de horas assistidas, totalizando 362833210 horas.\n"
     ]
    },
    {
     "data": {
      "image/png": "[encoded data removed]",
      "text/plain": [
       "<Figure size 640x480 with 1 Axes>"
      ]
     },
     "metadata": {},
     "output_type": "display_data"
    },
    {
     "data": {
      "image/png": "[encoded data removed]",
      "text/plain": [
       "<Figure size 640x480 with 1 Axes>"
      ]
     },
     "metadata": {},
     "output_type": "display_data"
    }
   ],
   "source": [
    "max_horas = data.groupby(['ano','mes','horas_assistidas'])['horas_assistidas'].sum().idxmax()\n",
    "min_horas = data.groupby(['ano','mes','horas_assistidas'])['horas_assistidas'].sum().idxmin()\n",
    "print(data.pivot_table(values='horas_assistidas', index='mes',columns='ano').round(0).plot().patch.set_facecolor('purple'))\n",
    "print(data.pivot_table(values='horas_assistidas', index=['mes','ano']).sort_values(by= ['ano','mes'],ascending=True).plot())\n",
    "print(max_horas)\n",
    "print(min_horas)\n",
    "print(f\"O mês {max_horas[1]} do ano {max_horas[0]} foi o mês com o maior número de horas assistidas, totalizando {max_horas[2]} horas.\")\n",
    "print(f\"O mês {min_horas[1]} do ano {min_horas[0]} foi o mês com o menor número de horas assistidas, totalizando {min_horas[2]} horas.\")"
   ]
  },
  {
   "cell_type": "code",
   "execution_count": 5,
   "id": "e9163823",
   "metadata": {},
   "outputs": [
    {
     "name": "stdout",
     "output_type": "stream",
     "text": [
      "     ano  mes  variacao_de_horas\n",
      "51  2020    4        573939027.0\n",
      "60  2021    1        296474851.0\n",
      "72  2022    1        290046300.0\n",
      "50  2020    3        236617937.0\n",
      "62  2021    3        202072109.0\n",
      "..   ...  ...                ...\n",
      "82  2022   11       -189057859.0\n",
      "61  2021    2       -194212207.0\n",
      "70  2021   11       -208080469.0\n",
      "65  2021    6       -344665031.0\n",
      "0   2016    1                NaN\n",
      "\n",
      "[85 rows x 3 columns]\n",
      "(2020, 4, 573939027.0)\n",
      "(2021, 6, -344665031.0)\n"
     ]
    }
   ],
   "source": [
    "#maior e menor crescimento de horas assistidas durante os meses\n",
    "\n",
    "diferenca = data['horas_assistidas'].diff()\n",
    "data['variacao_de_horas'] = diferenca\n",
    "\n",
    "df = data.sort_values('variacao_de_horas',ascending=False)\n",
    "# print(df)\n",
    "df_select = df[['ano','mes','variacao_de_horas']]\n",
    "print(df_select)\n",
    "var_max = df.groupby(['ano','mes','variacao_de_horas'])['variacao_de_horas'].sum().idxmax()\n",
    "var_min = df.groupby(['ano','mes','variacao_de_horas'])['variacao_de_horas'].sum().idxmin()\n",
    "print(var_max)\n",
    "print(var_min)\n"
   ]
  },
  {
   "cell_type": "code",
   "execution_count": 6,
   "id": "c4207dd1",
   "metadata": {},
   "outputs": [
    {
     "name": "stdout",
     "output_type": "stream",
     "text": [
      "0     0.000000\n",
      "1    -0.079922\n",
      "2     0.110464\n",
      "3    -0.229674\n",
      "4     0.190121\n",
      "        ...   \n",
      "80   -0.069663\n",
      "81    0.036432\n",
      "82   -0.100385\n",
      "83   -0.011905\n",
      "84    0.115209\n",
      "Name: var_percentual, Length: 85, dtype: float64\n",
      "(2020, 4, 0.47107117418179945)\n",
      "(2016, 4, -0.2296737520823291)\n",
      "\n",
      "em abril de 2020 temos o maior aumento percentual de horas assistidas\n",
      "com um aumento de 47.11%\n",
      "\n",
      "\n",
      "em abril de 2016 temos a maior redução  percentual de horas assistidas\n",
      "com uma redução de -22.97%\n",
      "\n"
     ]
    },
    {
     "name": "stderr",
     "output_type": "stream",
     "text": [
      "C:\\Users\\Delson Cardoso\\AppData\\Local\\Temp\\ipykernel_8912\\937122323.py:3: SettingWithCopyWarning: \n",
      "A value is trying to be set on a copy of a slice from a DataFrame.\n",
      "Try using .loc[row_indexer,col_indexer] = value instead\n",
      "\n",
      "See the caveats in the documentation: https://pandas.pydata.org/pandas-docs/stable/user_guide/indexing.html#returning-a-view-versus-a-copy\n",
      "  horas['var_percentual'] = horas['horas_assistidas'].pct_change().fillna(0)\n"
     ]
    }
   ],
   "source": [
    "#maior e menor crescimento percentual durante os meses\n",
    "horas  = data[['ano','mes','horas_assistidas']]\n",
    "horas['var_percentual'] = horas['horas_assistidas'].pct_change().fillna(0)\n",
    "print(horas['var_percentual'])\n",
    "horas = horas.sort_values('var_percentual',ascending=False)\n",
    "var_max_porcent = horas.groupby(['ano','mes','var_percentual'])['var_percentual'].sum().idxmax()\n",
    "var_min_porcent = horas.groupby(['ano','mes','var_percentual'])['var_percentual'].sum().idxmin()\n",
    "horas\n",
    "print(var_max_porcent)\n",
    "print(var_min_porcent)\n",
    "\n",
    "print(f'''\n",
    "em abril de {var_max_porcent[0]} temos o maior aumento percentual de horas assistidas\n",
    "com um aumento de {var_max_porcent[2]:.2%}\n",
    "''')\n",
    "print(f'''\n",
    "em abril de {var_min_porcent[0]} temos a maior redução  percentual de horas assistidas\n",
    "com uma redução de {var_min_porcent[2]:.2%}\n",
    "''')"
   ]
  },
  {
   "cell_type": "code",
   "execution_count": 7,
   "id": "1de04d2d",
   "metadata": {},
   "outputs": [
    {
     "data": {
      "text/html": [
       "<div>\n",
       "<style scoped>\n",
       "    .dataframe tbody tr th:only-of-type {\n",
       "        vertical-align: middle;\n",
       "    }\n",
       "\n",
       "    .dataframe tbody tr th {\n",
       "        vertical-align: top;\n",
       "    }\n",
       "\n",
       "    .dataframe thead th {\n",
       "        text-align: right;\n",
       "    }\n",
       "</style>\n",
       "<table border=\"1\" class=\"dataframe\">\n",
       "  <thead>\n",
       "    <tr style=\"text-align: right;\">\n",
       "      <th></th>\n",
       "      <th>Streams</th>\n",
       "    </tr>\n",
       "    <tr>\n",
       "      <th>mes</th>\n",
       "      <th></th>\n",
       "    </tr>\n",
       "  </thead>\n",
       "  <tbody>\n",
       "    <tr>\n",
       "      <th>1</th>\n",
       "      <td>17165910.0</td>\n",
       "    </tr>\n",
       "    <tr>\n",
       "      <th>3</th>\n",
       "      <td>16092204.0</td>\n",
       "    </tr>\n",
       "    <tr>\n",
       "      <th>5</th>\n",
       "      <td>15810690.0</td>\n",
       "    </tr>\n",
       "    <tr>\n",
       "      <th>7</th>\n",
       "      <td>15768544.0</td>\n",
       "    </tr>\n",
       "    <tr>\n",
       "      <th>8</th>\n",
       "      <td>15693955.0</td>\n",
       "    </tr>\n",
       "    <tr>\n",
       "      <th>12</th>\n",
       "      <td>15551058.0</td>\n",
       "    </tr>\n",
       "    <tr>\n",
       "      <th>4</th>\n",
       "      <td>15306593.0</td>\n",
       "    </tr>\n",
       "    <tr>\n",
       "      <th>6</th>\n",
       "      <td>14912642.0</td>\n",
       "    </tr>\n",
       "    <tr>\n",
       "      <th>10</th>\n",
       "      <td>14894164.0</td>\n",
       "    </tr>\n",
       "    <tr>\n",
       "      <th>2</th>\n",
       "      <td>14728239.0</td>\n",
       "    </tr>\n",
       "    <tr>\n",
       "      <th>9</th>\n",
       "      <td>14573287.0</td>\n",
       "    </tr>\n",
       "    <tr>\n",
       "      <th>11</th>\n",
       "      <td>14472914.0</td>\n",
       "    </tr>\n",
       "  </tbody>\n",
       "</table>\n",
       "</div>"
      ],
      "text/plain": [
       "        Streams\n",
       "mes            \n",
       "1    17165910.0\n",
       "3    16092204.0\n",
       "5    15810690.0\n",
       "7    15768544.0\n",
       "8    15693955.0\n",
       "12   15551058.0\n",
       "4    15306593.0\n",
       "6    14912642.0\n",
       "10   14894164.0\n",
       "2    14728239.0\n",
       "9    14573287.0\n",
       "11   14472914.0"
      ]
     },
     "execution_count": 7,
     "metadata": {},
     "output_type": "execute_result"
    }
   ],
   "source": [
    "media_transmicoes =data.pivot_table(values='Streams', index ='mes',aggfunc='mean',).round(0)\n",
    "media_transmicoes.sort_values(by='Streams',ascending=False)"
   ]
  },
  {
   "cell_type": "code",
   "execution_count": 8,
   "id": "8542ec4e",
   "metadata": {},
   "outputs": [
    {
     "data": {
      "text/html": [
       "<div>\n",
       "<style scoped>\n",
       "    .dataframe tbody tr th:only-of-type {\n",
       "        vertical-align: middle;\n",
       "    }\n",
       "\n",
       "    .dataframe tbody tr th {\n",
       "        vertical-align: top;\n",
       "    }\n",
       "\n",
       "    .dataframe thead th {\n",
       "        text-align: right;\n",
       "    }\n",
       "</style>\n",
       "<table border=\"1\" class=\"dataframe\">\n",
       "  <thead>\n",
       "    <tr style=\"text-align: right;\">\n",
       "      <th></th>\n",
       "      <th>Streams</th>\n",
       "    </tr>\n",
       "    <tr>\n",
       "      <th>mes</th>\n",
       "      <th></th>\n",
       "    </tr>\n",
       "  </thead>\n",
       "  <tbody>\n",
       "    <tr>\n",
       "      <th>1</th>\n",
       "      <td>1614852.0</td>\n",
       "    </tr>\n",
       "    <tr>\n",
       "      <th>3</th>\n",
       "      <td>1363965.0</td>\n",
       "    </tr>\n",
       "    <tr>\n",
       "      <th>12</th>\n",
       "      <td>1078144.0</td>\n",
       "    </tr>\n",
       "    <tr>\n",
       "      <th>7</th>\n",
       "      <td>855902.0</td>\n",
       "    </tr>\n",
       "    <tr>\n",
       "      <th>5</th>\n",
       "      <td>504097.0</td>\n",
       "    </tr>\n",
       "    <tr>\n",
       "      <th>10</th>\n",
       "      <td>320877.0</td>\n",
       "    </tr>\n",
       "    <tr>\n",
       "      <th>8</th>\n",
       "      <td>-74589.0</td>\n",
       "    </tr>\n",
       "    <tr>\n",
       "      <th>11</th>\n",
       "      <td>-421250.0</td>\n",
       "    </tr>\n",
       "    <tr>\n",
       "      <th>4</th>\n",
       "      <td>-785611.0</td>\n",
       "    </tr>\n",
       "    <tr>\n",
       "      <th>6</th>\n",
       "      <td>-898048.0</td>\n",
       "    </tr>\n",
       "    <tr>\n",
       "      <th>9</th>\n",
       "      <td>-1120668.0</td>\n",
       "    </tr>\n",
       "    <tr>\n",
       "      <th>2</th>\n",
       "      <td>-2437671.0</td>\n",
       "    </tr>\n",
       "  </tbody>\n",
       "</table>\n",
       "</div>"
      ],
      "text/plain": [
       "       Streams\n",
       "mes           \n",
       "1    1614852.0\n",
       "3    1363965.0\n",
       "12   1078144.0\n",
       "7     855902.0\n",
       "5     504097.0\n",
       "10    320877.0\n",
       "8     -74589.0\n",
       "11   -421250.0\n",
       "4    -785611.0\n",
       "6    -898048.0\n",
       "9   -1120668.0\n",
       "2   -2437671.0"
      ]
     },
     "execution_count": 8,
     "metadata": {},
     "output_type": "execute_result"
    }
   ],
   "source": [
    "diff = media_transmicoes.loc[1, 'Streams'] - media_transmicoes.loc[12, 'Streams']\n",
    "diferenca_de_medias = media_transmicoes.diff().fillna(diff)\n",
    "diferenca_de_medias.sort_values(by='Streams',ascending=False)\n",
    "#ou seja, de dezembro para janeiro a média de visualizações aumenta em 1614852 vizualizações"
   ]
  },
  {
   "cell_type": "code",
   "execution_count": 9,
   "id": "92934d3d",
   "metadata": {},
   "outputs": [
    {
     "data": {
      "text/html": [
       "<div>\n",
       "<style scoped>\n",
       "    .dataframe tbody tr th:only-of-type {\n",
       "        vertical-align: middle;\n",
       "    }\n",
       "\n",
       "    .dataframe tbody tr th {\n",
       "        vertical-align: top;\n",
       "    }\n",
       "\n",
       "    .dataframe thead th {\n",
       "        text-align: right;\n",
       "    }\n",
       "</style>\n",
       "<table border=\"1\" class=\"dataframe\">\n",
       "  <thead>\n",
       "    <tr style=\"text-align: right;\">\n",
       "      <th></th>\n",
       "      <th>Streams</th>\n",
       "    </tr>\n",
       "    <tr>\n",
       "      <th>mes</th>\n",
       "      <th></th>\n",
       "    </tr>\n",
       "  </thead>\n",
       "  <tbody>\n",
       "    <tr>\n",
       "      <th>1</th>\n",
       "      <td>17165910.0</td>\n",
       "    </tr>\n",
       "    <tr>\n",
       "      <th>3</th>\n",
       "      <td>16092204.0</td>\n",
       "    </tr>\n",
       "    <tr>\n",
       "      <th>5</th>\n",
       "      <td>15810690.0</td>\n",
       "    </tr>\n",
       "    <tr>\n",
       "      <th>7</th>\n",
       "      <td>15768544.0</td>\n",
       "    </tr>\n",
       "    <tr>\n",
       "      <th>8</th>\n",
       "      <td>15693955.0</td>\n",
       "    </tr>\n",
       "    <tr>\n",
       "      <th>12</th>\n",
       "      <td>15551058.0</td>\n",
       "    </tr>\n",
       "    <tr>\n",
       "      <th>4</th>\n",
       "      <td>15306593.0</td>\n",
       "    </tr>\n",
       "    <tr>\n",
       "      <th>6</th>\n",
       "      <td>14912642.0</td>\n",
       "    </tr>\n",
       "    <tr>\n",
       "      <th>10</th>\n",
       "      <td>14894164.0</td>\n",
       "    </tr>\n",
       "    <tr>\n",
       "      <th>2</th>\n",
       "      <td>14728239.0</td>\n",
       "    </tr>\n",
       "    <tr>\n",
       "      <th>9</th>\n",
       "      <td>14573287.0</td>\n",
       "    </tr>\n",
       "    <tr>\n",
       "      <th>11</th>\n",
       "      <td>14472914.0</td>\n",
       "    </tr>\n",
       "  </tbody>\n",
       "</table>\n",
       "</div>"
      ],
      "text/plain": [
       "        Streams\n",
       "mes            \n",
       "1    17165910.0\n",
       "3    16092204.0\n",
       "5    15810690.0\n",
       "7    15768544.0\n",
       "8    15693955.0\n",
       "12   15551058.0\n",
       "4    15306593.0\n",
       "6    14912642.0\n",
       "10   14894164.0\n",
       "2    14728239.0\n",
       "9    14573287.0\n",
       "11   14472914.0"
      ]
     },
     "execution_count": 9,
     "metadata": {},
     "output_type": "execute_result"
    }
   ],
   "source": [
    "media_transmicoes.sort_values(by= 'Streams',ascending=False)\n",
    "#Ranking dos meses com maior média de transmissões\n"
   ]
  },
  {
   "cell_type": "markdown",
   "id": "6561d96c",
   "metadata": {},
   "source": [
    "### Começando Análises"
   ]
  },
  {
   "cell_type": "markdown",
   "id": "f072c570",
   "metadata": {},
   "source": [
    "<b><i>Por meio dos códigos acima consegue-se inferir quais são os valores de máximo e mínimo de horas assistidas, os anos e meses respectivos e o total dessas horas."
   ]
  },
  {
   "cell_type": "markdown",
   "id": "a1692b98",
   "metadata": {
    "collapsed": false
   },
   "source": [
    "## BRUNO"
   ]
  },
  {
   "cell_type": "code",
   "execution_count": 15,
   "id": "7831d232",
   "metadata": {
    "collapsed": false
   },
   "outputs": [
    {
     "data": {
      "text/html": [
       "<div>\n",
       "<style scoped>\n",
       "    .dataframe tbody tr th:only-of-type {\n",
       "        vertical-align: middle;\n",
       "    }\n",
       "\n",
       "    .dataframe tbody tr th {\n",
       "        vertical-align: top;\n",
       "    }\n",
       "\n",
       "    .dataframe thead th {\n",
       "        text-align: right;\n",
       "    }\n",
       "</style>\n",
       "<table border=\"1\" class=\"dataframe\">\n",
       "  <thead>\n",
       "    <tr style=\"text-align: right;\">\n",
       "      <th></th>\n",
       "      <th>Rank</th>\n",
       "      <th>jogo</th>\n",
       "      <th>mes</th>\n",
       "      <th>ano</th>\n",
       "      <th>horas_assistidas</th>\n",
       "      <th>horas_transmitidas</th>\n",
       "      <th>pico_de_visualizacoes</th>\n",
       "      <th>pico_de_canais</th>\n",
       "      <th>Streamers</th>\n",
       "      <th>media_de_espectadores</th>\n",
       "      <th>media_canais</th>\n",
       "      <th>media_de_proporção_de_espectadores</th>\n",
       "    </tr>\n",
       "  </thead>\n",
       "  <tbody>\n",
       "    <tr>\n",
       "      <th>0</th>\n",
       "      <td>1</td>\n",
       "      <td>League of Legends</td>\n",
       "      <td>1</td>\n",
       "      <td>2016</td>\n",
       "      <td>94377226</td>\n",
       "      <td>1362044</td>\n",
       "      <td>530270</td>\n",
       "      <td>2903</td>\n",
       "      <td>129172</td>\n",
       "      <td>127021.0</td>\n",
       "      <td>1833.0</td>\n",
       "      <td>69.29</td>\n",
       "    </tr>\n",
       "    <tr>\n",
       "      <th>200</th>\n",
       "      <td>1</td>\n",
       "      <td>League of Legends</td>\n",
       "      <td>2</td>\n",
       "      <td>2016</td>\n",
       "      <td>93154772</td>\n",
       "      <td>1266715</td>\n",
       "      <td>475784</td>\n",
       "      <td>2712</td>\n",
       "      <td>117996</td>\n",
       "      <td>134035.0</td>\n",
       "      <td>1822.0</td>\n",
       "      <td>73.54</td>\n",
       "    </tr>\n",
       "    <tr>\n",
       "      <th>400</th>\n",
       "      <td>1</td>\n",
       "      <td>League of Legends</td>\n",
       "      <td>3</td>\n",
       "      <td>2016</td>\n",
       "      <td>94514511</td>\n",
       "      <td>1264029</td>\n",
       "      <td>599114</td>\n",
       "      <td>2585</td>\n",
       "      <td>117734</td>\n",
       "      <td>127206.0</td>\n",
       "      <td>1701.0</td>\n",
       "      <td>74.77</td>\n",
       "    </tr>\n",
       "    <tr>\n",
       "      <th>600</th>\n",
       "      <td>1</td>\n",
       "      <td>League of Legends</td>\n",
       "      <td>4</td>\n",
       "      <td>2016</td>\n",
       "      <td>88389049</td>\n",
       "      <td>1217250</td>\n",
       "      <td>553165</td>\n",
       "      <td>2945</td>\n",
       "      <td>113251</td>\n",
       "      <td>122933.0</td>\n",
       "      <td>1692.0</td>\n",
       "      <td>72.61</td>\n",
       "    </tr>\n",
       "    <tr>\n",
       "      <th>800</th>\n",
       "      <td>1</td>\n",
       "      <td>League of Legends</td>\n",
       "      <td>5</td>\n",
       "      <td>2016</td>\n",
       "      <td>80679320</td>\n",
       "      <td>1196096</td>\n",
       "      <td>433005</td>\n",
       "      <td>2635</td>\n",
       "      <td>118593</td>\n",
       "      <td>108585.0</td>\n",
       "      <td>1609.0</td>\n",
       "      <td>67.45</td>\n",
       "    </tr>\n",
       "    <tr>\n",
       "      <th>...</th>\n",
       "      <td>...</td>\n",
       "      <td>...</td>\n",
       "      <td>...</td>\n",
       "      <td>...</td>\n",
       "      <td>...</td>\n",
       "      <td>...</td>\n",
       "      <td>...</td>\n",
       "      <td>...</td>\n",
       "      <td>...</td>\n",
       "      <td>...</td>\n",
       "      <td>...</td>\n",
       "      <td>...</td>\n",
       "    </tr>\n",
       "    <tr>\n",
       "      <th>16000</th>\n",
       "      <td>1</td>\n",
       "      <td>Just Chatting</td>\n",
       "      <td>9</td>\n",
       "      <td>2022</td>\n",
       "      <td>249025325</td>\n",
       "      <td>2874872</td>\n",
       "      <td>859041</td>\n",
       "      <td>6280</td>\n",
       "      <td>529973</td>\n",
       "      <td>346349.0</td>\n",
       "      <td>3998.0</td>\n",
       "      <td>86.62</td>\n",
       "    </tr>\n",
       "    <tr>\n",
       "      <th>16200</th>\n",
       "      <td>1</td>\n",
       "      <td>Just Chatting</td>\n",
       "      <td>10</td>\n",
       "      <td>2022</td>\n",
       "      <td>242960233</td>\n",
       "      <td>2945016</td>\n",
       "      <td>741825</td>\n",
       "      <td>6112</td>\n",
       "      <td>521547</td>\n",
       "      <td>326998.0</td>\n",
       "      <td>3963.0</td>\n",
       "      <td>82.50</td>\n",
       "    </tr>\n",
       "    <tr>\n",
       "      <th>16400</th>\n",
       "      <td>1</td>\n",
       "      <td>Just Chatting</td>\n",
       "      <td>11</td>\n",
       "      <td>2022</td>\n",
       "      <td>239755926</td>\n",
       "      <td>2671266</td>\n",
       "      <td>809381</td>\n",
       "      <td>6480</td>\n",
       "      <td>469749</td>\n",
       "      <td>333457.0</td>\n",
       "      <td>3715.0</td>\n",
       "      <td>89.75</td>\n",
       "    </tr>\n",
       "    <tr>\n",
       "      <th>16600</th>\n",
       "      <td>1</td>\n",
       "      <td>Just Chatting</td>\n",
       "      <td>12</td>\n",
       "      <td>2022</td>\n",
       "      <td>254521690</td>\n",
       "      <td>2801321</td>\n",
       "      <td>992439</td>\n",
       "      <td>7645</td>\n",
       "      <td>468778</td>\n",
       "      <td>342559.0</td>\n",
       "      <td>3770.0</td>\n",
       "      <td>90.86</td>\n",
       "    </tr>\n",
       "    <tr>\n",
       "      <th>16800</th>\n",
       "      <td>1</td>\n",
       "      <td>Just Chatting</td>\n",
       "      <td>1</td>\n",
       "      <td>2023</td>\n",
       "      <td>264212906</td>\n",
       "      <td>2948218</td>\n",
       "      <td>939942</td>\n",
       "      <td>6063</td>\n",
       "      <td>505166</td>\n",
       "      <td>355602.0</td>\n",
       "      <td>3967.0</td>\n",
       "      <td>89.62</td>\n",
       "    </tr>\n",
       "  </tbody>\n",
       "</table>\n",
       "<p>85 rows × 12 columns</p>\n",
       "</div>"
      ],
      "text/plain": [
       "       Rank               jogo  mes   ano  horas_assistidas  \\\n",
       "0         1  League of Legends    1  2016          94377226   \n",
       "200       1  League of Legends    2  2016          93154772   \n",
       "400       1  League of Legends    3  2016          94514511   \n",
       "600       1  League of Legends    4  2016          88389049   \n",
       "800       1  League of Legends    5  2016          80679320   \n",
       "...     ...                ...  ...   ...               ...   \n",
       "16000     1      Just Chatting    9  2022         249025325   \n",
       "16200     1      Just Chatting   10  2022         242960233   \n",
       "16400     1      Just Chatting   11  2022         239755926   \n",
       "16600     1      Just Chatting   12  2022         254521690   \n",
       "16800     1      Just Chatting    1  2023         264212906   \n",
       "\n",
       "       horas_transmitidas  pico_de_visualizacoes  pico_de_canais  Streamers  \\\n",
       "0                 1362044                 530270            2903     129172   \n",
       "200               1266715                 475784            2712     117996   \n",
       "400               1264029                 599114            2585     117734   \n",
       "600               1217250                 553165            2945     113251   \n",
       "800               1196096                 433005            2635     118593   \n",
       "...                   ...                    ...             ...        ...   \n",
       "16000             2874872                 859041            6280     529973   \n",
       "16200             2945016                 741825            6112     521547   \n",
       "16400             2671266                 809381            6480     469749   \n",
       "16600             2801321                 992439            7645     468778   \n",
       "16800             2948218                 939942            6063     505166   \n",
       "\n",
       "       media_de_espectadores  media_canais  media_de_proporção_de_espectadores  \n",
       "0                   127021.0        1833.0                               69.29  \n",
       "200                 134035.0        1822.0                               73.54  \n",
       "400                 127206.0        1701.0                               74.77  \n",
       "600                 122933.0        1692.0                               72.61  \n",
       "800                 108585.0        1609.0                               67.45  \n",
       "...                      ...           ...                                 ...  \n",
       "16000               346349.0        3998.0                               86.62  \n",
       "16200               326998.0        3963.0                               82.50  \n",
       "16400               333457.0        3715.0                               89.75  \n",
       "16600               342559.0        3770.0                               90.86  \n",
       "16800               355602.0        3967.0                               89.62  \n",
       "\n",
       "[85 rows x 12 columns]"
      ]
     },
     "execution_count": 15,
     "metadata": {},
     "output_type": "execute_result"
    }
   ],
   "source": [
    "data_games[data_games['Rank'] == 1]"
   ]
  },
  {
   "cell_type": "markdown",
   "id": "8562b72b",
   "metadata": {
    "heading_collapsed": true,
    "hidden": true
   },
   "source": [
    "##### Maior e menor média de horas assistidas por visualização. Valores anuais e mensais. "
   ]
  },
  {
   "cell_type": "code",
   "execution_count": null,
   "id": "0ff46105",
   "metadata": {
    "hidden": true
   },
   "outputs": [],
   "source": [
    "maior_horas = data.groupby(['ano', 'mes', 'horas_assistidas', 'media_visualizacoes'])['horas_assistidas'].sum().idxmax()\n",
    "menor_horas = data.groupby(['ano', 'mes', 'horas_assistidas', 'media_visualizacoes'])['horas_assistidas'].sum().idxmin()\n",
    "\n",
    "maior_horas, menor_horas"
   ]
  },
  {
   "cell_type": "code",
   "execution_count": null,
   "id": "c3b1b08d",
   "metadata": {
    "hidden": true
   },
   "outputs": [],
   "source": [
    "print(f'A maior média de horas assistidas por visualizações foi de {maior_horas[2] / maior_horas[-1]:.2f}')\n",
    "print(f'A menor média de horas assistidas por visualizações foi de {menor_horas[2] / menor_horas[-1]:.2f}')"
   ]
  },
  {
   "cell_type": "markdown",
   "id": "b202be79",
   "metadata": {
    "hidden": true
   },
   "source": [
    "Os trechos acima permitem compreender que, na data 05/2021 ocorreu o maior número bruto de horas assistidas 2308295297 com um total de 3106723 médias visualizações. Já o menor valor de horas assistidas ocorreu em 09/2016, com um número bruto de 362833210 horas assistidas e um total de 504635 média visualizações. <br>\n",
    "A maior média horas / visus foi de 743 horas por média visualização, já o menor valor foi de 719 horas por média visualização."
   ]
  },
  {
   "cell_type": "code",
   "execution_count": null,
   "id": "e446ff4b",
   "metadata": {
    "hidden": true
   },
   "outputs": [],
   "source": [
    "def analisaMedias(horas:list(), visus:list()):\n",
    "    aux = []\n",
    "    total = []\n",
    "    ano = 2016\n",
    "    for x in range(85):\n",
    "        if x < 12:\n",
    "            aux.append(horas[x] / visus[x])\n",
    "            if x == 11:\n",
    "                aux.append(sum(horas[0:12]) / sum(visus[0:12]))\n",
    "                aux.insert(0, ano)\n",
    "                total.append(aux[:])\n",
    "                aux.clear()\n",
    "        elif 24 > x > 11:\n",
    "            aux.append(horas[x] / visus[x])\n",
    "            if x == 23:\n",
    "                aux.append(sum(horas[11:24]) / sum(visus[11:24]))\n",
    "                aux.insert(0, ano + 1)\n",
    "                total.append(aux[:])\n",
    "                aux.clear()\n",
    "        elif 36 > x > 23:\n",
    "            aux.append(horas[x] / visus[x])\n",
    "            if x == 35:\n",
    "                aux.append(sum(horas[24:36]) / sum(visus[24:36]))\n",
    "                aux.insert(0, ano + 2)\n",
    "                total.append(aux[:])\n",
    "                aux.clear()\n",
    "        elif 48 > x > 35:\n",
    "            aux.append(horas[x] / visus[x])\n",
    "            if x == 47:\n",
    "                aux.append(sum(horas[36:48]) / sum(visus[36:48]))\n",
    "                aux.insert(0, ano + 3)\n",
    "                total.append(aux[:])\n",
    "                aux.clear()\n",
    "        elif 60 > x > 47:\n",
    "            aux.append(horas[x] / visus[x])\n",
    "            if x == 59:\n",
    "                aux.append(sum(horas[48:60]) / sum(visus[48:60]))\n",
    "                aux.insert(0, ano + 4)\n",
    "                total.append(aux[:])\n",
    "                aux.clear()         \n",
    "        elif 72 > x > 59:\n",
    "            aux.append(horas[x] / visus[x])\n",
    "            if x == 71:\n",
    "                aux.append(sum(horas[60:72]) / sum(visus[60:72]))\n",
    "                aux.insert(0, ano + 5) \n",
    "                total.append(aux[:])\n",
    "                aux.clear()\n",
    "        elif 84 > x > 71:\n",
    "            aux.append(horas[x] / visus[x])\n",
    "            if x == 83:\n",
    "                aux.append(sum(horas[72:84]) / sum(visus[72:84]))\n",
    "                aux.insert(0, ano + 6)\n",
    "                total.append(aux[:])\n",
    "                aux.clear()       \n",
    "        else:\n",
    "            aux.append(horas[x] / visus[x])\n",
    "            if x == 84:\n",
    "                aux.append((horas[-1]) / (visus[-1]))\n",
    "                aux.insert(0, ano + 7)\n",
    "                total.append(aux[:])\n",
    "                aux.clear()\n",
    "    return total"
   ]
  },
  {
   "cell_type": "code",
   "execution_count": null,
   "id": "461ca72d",
   "metadata": {
    "hidden": true
   },
   "outputs": [],
   "source": [
    "horas_assistidas = [ dados for dados in data['horas_assistidas']]\n",
    "media_visualizacoes = [dados for dados in data['media_visualizacoes']]\n",
    "\n",
    "total_medias = analisaMedias(horas_assistidas, media_visualizacoes)"
   ]
  },
  {
   "cell_type": "markdown",
   "id": "b593eac1",
   "metadata": {
    "hidden": true
   },
   "source": [
    "A variável <b>total_medias</b> corresponde a uma lista com outras 8 listas dentro de si. Cada lista dessas possui 1 determinado ano como valor inicial, 12 ou (1) valores de médias mensais de horas assistidas por número de espectadores e, por fim, um valor de média anual do total de horas assistidas pelo total de espectadores anuais."
   ]
  },
  {
   "cell_type": "code",
   "execution_count": null,
   "id": "673305e1",
   "metadata": {
    "hidden": true
   },
   "outputs": [],
   "source": [
    "maiores = []\n",
    "minimos = []\n",
    "\n",
    "for x in total_medias:\n",
    "    maiores.append(f'O maior valor médio de horas por visus do ano {x[0]} é {max(x[1:-1]):.2f} no mês {x.index(max(x[1:-1]))}')\n",
    "    minimos.append(f'O menor valor médio de horas por visus do ano {x[0]} é {min(x[1:-1]):.2f} no mês {x.index(min(x[1:-1]))}')\n",
    "    \n",
    "maiores, minimos"
   ]
  },
  {
   "cell_type": "code",
   "execution_count": null,
   "id": "4476babd",
   "metadata": {
    "hidden": true
   },
   "outputs": [],
   "source": [
    "for x in range(8):\n",
    "    print(f'O valor de média HA/MV anual de {total_medias[x][0]} é de {total_medias[x][-1]:.2f}')"
   ]
  },
  {
   "cell_type": "code",
   "execution_count": null,
   "id": "e66185bb",
   "metadata": {
    "hidden": true
   },
   "outputs": [],
   "source": [
    "for value in total_medias:\n",
    "    print(f'O ano é {value[0]}')\n",
    "    for index, values in enumerate(value):\n",
    "        if 13 > index >= 1:\n",
    "            print(f'O valor médio mensal {index} é {values:.2f} HA/MV')\n",
    "            "
   ]
  },
  {
   "cell_type": "markdown",
   "id": "22c2ebbc",
   "metadata": {
    "hidden": true
   },
   "source": [
    "<b><i> O que se pode perceber após analisar todo o panorama geral do dataset é que as médias tendem a se manter iguais por meses e até mesmos anos. A variação anual não é tão significativa (considerando que 2023 está com 11 meses faltantes). É como se os dados da Twitch fossem estáveis, com poucas variações em perídos de (1) campeonatos famosos, (2) estreias de jogos famosos e (3) período de pandemia."
   ]
  },
  {
   "cell_type": "markdown",
   "id": "6183b045",
   "metadata": {
    "heading_collapsed": true,
    "hidden": true
   },
   "source": [
    "##### Meses de máxima, mínima e possíveis recorrências"
   ]
  },
  {
   "cell_type": "code",
   "execution_count": null,
   "id": "e20d7b3c",
   "metadata": {
    "hidden": true
   },
   "outputs": [],
   "source": [
    "for num in range(2016, 2023):\n",
    "    print(data[data['ano'] == num].groupby(['ano', 'mes', 'horas_assistidas'])['horas_assistidas'].sum().idxmax())"
   ]
  },
  {
   "cell_type": "code",
   "execution_count": null,
   "id": "4d284b6e",
   "metadata": {
    "hidden": true
   },
   "outputs": [],
   "source": [
    "for num in range(2016, 2023):\n",
    "    print(data[data['ano'] == num].groupby(['ano', 'mes', 'horas_assistidas'])['horas_assistidas'].sum().idxmin())"
   ]
  },
  {
   "cell_type": "markdown",
   "id": "dd59e1ac",
   "metadata": {
    "hidden": true
   },
   "source": [
    "<b><i>Não chega a existir uma recorrência de ano para ano. Os valores de máxima se dão em períodos de lançamentos de jogos e/ou campeonatos. Há a questão ainda de começo, meio e fim da pandemia para explicar uma grande alta de horas assistidas, porém, faltam dados para comprovar que a mudança foi de fato a pandemia."
   ]
  },
  {
   "cell_type": "markdown",
   "id": "e89f8f9a",
   "metadata": {
    "heading_collapsed": true,
    "hidden": true
   },
   "source": [
    "##### Proporção de Espectadores"
   ]
  },
  {
   "cell_type": "code",
   "execution_count": null,
   "id": "6f0ce352",
   "metadata": {
    "hidden": true
   },
   "outputs": [],
   "source": [
    "for x in range(2016, 2023):\n",
    "    print(f'O ano é {x}')\n",
    "    print(data[data['ano'] == x].groupby(['media_canais', 'proporcao_de_espectadores'])['proporcao_de_espectadores'].idxmax())"
   ]
  },
  {
   "cell_type": "code",
   "execution_count": null,
   "id": "35f06e03",
   "metadata": {
    "hidden": true
   },
   "outputs": [],
   "source": [
    "pro = [dado for dado in data['proporcao_de_espectadores']]\n",
    "canais = [canal for canal in data['media_canais']]"
   ]
  },
  {
   "cell_type": "code",
   "execution_count": null,
   "id": "a1d639c1",
   "metadata": {
    "hidden": true
   },
   "outputs": [],
   "source": [
    "aux_pro = pro[0]\n",
    "aux_canais = canais[0]\n",
    "\n",
    "for x in range(84):\n",
    "    if x == 0:\n",
    "        print((pro[x] >= aux_pro), (canais[x] >= aux_canais))\n",
    "    else:\n",
    "        print((pro[x] > aux_pro), (canais[x] > aux_canais))\n",
    "    aux_pro = pro[x]\n",
    "    aux_canais = canais[x]"
   ]
  },
  {
   "cell_type": "markdown",
   "id": "daa50b8a",
   "metadata": {
    "hidden": true
   },
   "source": [
    "<b><i>A interpretação dos dados acima permite compreender que não necessariamente o aumento da variável media_canais proporciona um aumento na variável media_espectadores. A variável media_espectadores seguiu-se padrão tal qual horas_assistidas, tendo aumento nos perídoso de alta no geral (campeonatos, lançamentos de jogos e pandemia), porém, no restante, não houve tanta variação.</i></b>"
   ]
  },
  {
   "cell_type": "markdown",
   "id": "982e7db4",
   "metadata": {
    "heading_collapsed": true,
    "hidden": true
   },
   "source": [
    "##### Horas assistidas por jogos transmitidos"
   ]
  },
  {
   "cell_type": "code",
   "execution_count": null,
   "id": "c3297f9a",
   "metadata": {
    "hidden": true
   },
   "outputs": [],
   "source": [
    "for x in range(2016, 2023):\n",
    "    print(data[data['ano'] == x].groupby(['ano', 'mes', 'horas_assistidas'])['jogos_transmitidos'].sum())"
   ]
  },
  {
   "cell_type": "code",
   "execution_count": null,
   "id": "6cd31e1d",
   "metadata": {
    "hidden": true
   },
   "outputs": [],
   "source": [
    "horas = [horas for horas in data['horas_assistidas']]\n",
    "jogos = [jogos for jogos in data['jogos_transmitidos']]\n",
    "\n",
    "aux_h, aux_j = horas[0], jogos[0]\n",
    "\n",
    "for x in range(83):\n",
    "    if x == 0:\n",
    "        print((horas[x] >= aux_h), (jogos[x] >= aux_j))\n",
    "    else:\n",
    "        print((horas[x] > aux_h), (jogos[x] > aux_j))\n",
    "    aux_h, aux_j = horas[x], jogos[x]"
   ]
  },
  {
   "cell_type": "markdown",
   "id": "36fbf246",
   "metadata": {
    "hidden": true
   },
   "source": [
    "<b><i> Ao analisar os dados acima, pode-se inferir que os períodos em que ambas as variáveis sofrem alguma alta são os períodos de máxima de outros valores também. Ou seja, em épocas de campeonatos, lançamentos de jogos e pandemia. Fora isso, não há correlação aparente.</i></b>"
   ]
  },
  {
   "cell_type": "markdown",
   "id": "9e77c5d0",
   "metadata": {
    "collapsed": false
   },
   "source": [
    "#### Just Chatting"
   ]
  },
  {
   "cell_type": "code",
   "execution_count": 16,
   "id": "c1ae4347",
   "metadata": {
    "collapsed": false
   },
   "outputs": [
    {
     "name": "stdout",
     "output_type": "stream",
     "text": [
      "ano\n",
      "2018     141303847\n",
      "2019     759733055\n",
      "2020    1995891029\n",
      "2021    3020771657\n",
      "2022    3139111208\n",
      "2023    3170554872\n",
      "Name: horas_assistidas, dtype: int64\n"
     ]
    },
    {
     "data": {
      "text/plain": [
       "Text(0.5, 1.0, 'Horas assistidas de Just Chatting')"
      ]
     },
     "execution_count": 16,
     "metadata": {},
     "output_type": "execute_result"
    },
    {
     "data": {
      "image/png": "[encoded data removed]",
      "text/plain": [
       "<Figure size 640x480 with 1 Axes>"
      ]
     },
     "metadata": {},
     "output_type": "display_data"
    }
   ],
   "source": [
    "#dataframe com informações apenas do Just Chatting\n",
    "df_just = data_games[data_games['jogo'] == 'Just Chatting']\n",
    "ser_just_hours = df_just.groupby(['ano'])['horas_assistidas'].sum()\n",
    "#para 2023 o mês de Janeiro será considerado como a média do ano\n",
    "ser_just_hours[2023] = ser_just_hours[2023]*12\n",
    "print(ser_just_hours)\n",
    "#gráfico Horas assistidas de Just Chatting x ano\n",
    "plt.plot(ser_just_hours.index, ser_just_hours.values)\n",
    "plt.xlabel('Ano', size=10)\n",
    "plt.ylabel('Horas assistidas', size=10)\n",
    "plt.title('Horas assistidas de Just Chatting', size=15)"
   ]
  },
  {
   "cell_type": "code",
   "execution_count": 19,
   "id": "4540d9ce",
   "metadata": {
    "collapsed": false
   },
   "outputs": [
    {
     "name": "stdout",
     "output_type": "stream",
     "text": [
      "\n",
      "A razão é de 0.1062, o que corresponde a uma porcentagem de 10.62 %\n",
      " \n"
     ]
    }
   ],
   "source": [
    "#Horas assistidas do Just Chatting (2018-2023)\n",
    "horas_just = df_just['horas_assistidas'].sum()\n",
    "#Total de horas assistidas no geral (2018-2023)\n",
    "horas_total = sum(data.groupby(['ano'])['horas_assistidas'].sum()[2:])\n",
    "#Razão de horas do just chatting em relação ao total de horas (2018-2023)\n",
    "print(f'\\nA razão é de {horas_just/horas_total:.4f}, o que corresponde a uma porcentagem de {(horas_just/horas_total)*100:.2f} %\\n ')"
   ]
  },
  {
   "cell_type": "code",
   "execution_count": 20,
   "id": "928c1b06",
   "metadata": {
    "collapsed": false
   },
   "outputs": [
    {
     "name": "stdout",
     "output_type": "stream",
     "text": [
      "ano\n",
      "2016          NaN\n",
      "2017          NaN\n",
      "2018     1.508153\n",
      "2019     6.906534\n",
      "2020    10.726575\n",
      "2021    12.412927\n",
      "2022    13.890819\n",
      "2023    14.152020\n",
      "Name: horas_assistidas, dtype: float64\n"
     ]
    },
    {
     "data": {
      "text/plain": [
       "Text(0.5, 1.0, 'Razão Percentual Entre o Just Chatting e o Total')"
      ]
     },
     "execution_count": 20,
     "metadata": {},
     "output_type": "execute_result"
    },
    {
     "data": {
      "image/png": "[encoded data removed]",
      "text/plain": [
       "<Figure size 640x480 with 1 Axes>"
      ]
     },
     "metadata": {},
     "output_type": "display_data"
    }
   ],
   "source": [
    "#Razão ano a ano em porcentagem\n",
    "ser_just_ratio = (df_just.groupby(['ano'])['horas_assistidas'].sum())*100/(data.groupby(['ano'])['horas_assistidas'].sum())\n",
    "print(ser_just_ratio)\n",
    "#Gráfico da razão percentual do Just Chatting em relação ao total de horas assistidas (2018-2023)\n",
    "plt.plot(ser_just_ratio.index, ser_just_ratio.values)\n",
    "plt.xlabel('Ano', size=10)\n",
    "plt.ylabel('Razão percentual', size=10)\n",
    "plt.title('Razão Percentual Entre o Just Chatting e o Total', size=15)"
   ]
  },
  {
   "cell_type": "markdown",
   "id": "6595700b",
   "metadata": {
    "collapsed": false
   },
   "source": [
    "### Análise de jogos"
   ]
  },
  {
   "cell_type": "markdown",
   "id": "0b201b91",
   "metadata": {
    "collapsed": false
   },
   "source": [
    "#### League of legends"
   ]
  },
  {
   "cell_type": "code",
   "execution_count": 21,
   "id": "cb936434",
   "metadata": {
    "collapsed": false
   },
   "outputs": [
    {
     "data": {
      "text/plain": [
       "League of Legends                         85\n",
       "League of Legends: Wild Rift              28\n",
       "Ruined King: A League of Legends Story     1\n",
       "Name: jogo, dtype: int64"
      ]
     },
     "execution_count": 21,
     "metadata": {},
     "output_type": "execute_result"
    }
   ],
   "source": [
    "#verificação da versão principal de League of legends\n",
    "data_games[data_games['jogo'].str.contains('League of Legends') == True]['jogo'].value_counts()"
   ]
  },
  {
   "cell_type": "code",
   "execution_count": 22,
   "id": "5ca1f7e9",
   "metadata": {
    "collapsed": false
   },
   "outputs": [
    {
     "name": "stdout",
     "output_type": "stream",
     "text": [
      "ano\n",
      "2016    1035469850\n",
      "2017    1022398595\n",
      "2018     985380685\n",
      "2019    1118435546\n",
      "2020    1553536532\n",
      "2021    1735661105\n",
      "2022    1556699612\n",
      "2023     126494155\n",
      "Name: horas_assistidas, dtype: int32\n"
     ]
    },
    {
     "data": {
      "text/plain": [
       "Text(0.5, 1.0, 'Horas Assistidas de League of Legends')"
      ]
     },
     "execution_count": 22,
     "metadata": {},
     "output_type": "execute_result"
    },
    {
     "data": {
      "image/png": "[encoded data removed]",
      "text/plain": [
       "<Figure size 640x480 with 1 Axes>"
      ]
     },
     "metadata": {},
     "output_type": "display_data"
    }
   ],
   "source": [
    "#criação de um dataframe com informações apenas de League of legends\n",
    "df_lol = data_games[data_games['jogo'] == 'League of Legends']\n",
    "#quantidade de horas assistidas em cada ano\n",
    "ser_lol_hours = df_lol.groupby(['ano'])['horas_assistidas'].sum()\n",
    "print(ser_lol_hours)\n",
    "#para 2023 o mês de Janeiro será considerado como a média do ano\n",
    "ser_lol_hours[2023] = ser_lol_hours[2023]*12\n",
    "#gráfico Horas assistidas de League of legenda a cada ano\n",
    "plt.plot(ser_lol_hours.index, ser_lol_hours.values)\n",
    "plt.xlabel('Ano', size=10)\n",
    "plt.ylabel('Horas assistidas', size=10)\n",
    "plt.title('Horas Assistidas de League of Legends', size=15)"
   ]
  },
  {
   "cell_type": "code",
   "execution_count": 23,
   "id": "ab164626",
   "metadata": {
    "collapsed": false
   },
   "outputs": [
    {
     "name": "stdout",
     "output_type": "stream",
     "text": [
      "ano\n",
      "2016    19.642783\n",
      "2017    15.648362\n",
      "2018    10.517087\n",
      "2019    10.167405\n",
      "2020     8.349216\n",
      "2021     7.132163\n",
      "2022     6.888521\n",
      "2023     6.775399\n",
      "Name: horas_assistidas, dtype: float64\n"
     ]
    },
    {
     "data": {
      "text/plain": [
       "Text(0.5, 1.0, 'Razão Percentual Entre League of Legends e o Total')"
      ]
     },
     "execution_count": 23,
     "metadata": {},
     "output_type": "execute_result"
    },
    {
     "data": {
      "image/png": "[encoded data removed]",
      "text/plain": [
       "<Figure size 640x480 with 1 Axes>"
      ]
     },
     "metadata": {},
     "output_type": "display_data"
    }
   ],
   "source": [
    "#comparação em relação às horas assistidas no total\n",
    "ser_lol_ratio = ((df_lol.groupby(['ano'])['horas_assistidas'].sum())/(data.groupby(['ano'])['horas_assistidas'].sum()))*100\n",
    "print(ser_lol_ratio)\n",
    "#Gráfico da razão percentual do League of Legends em relação ao total de horas assistidas (2018-2023)\n",
    "plt.plot(ser_lol_ratio.index, ser_lol_ratio.values)\n",
    "plt.xlabel('Ano', size=10)\n",
    "plt.ylabel('Razão percentual', size=10)\n",
    "plt.title('Razão Percentual Entre League of Legends e o Total', size=15)"
   ]
  },
  {
   "cell_type": "code",
   "execution_count": 24,
   "id": "a6090ccc",
   "metadata": {
    "collapsed": false
   },
   "outputs": [
    {
     "name": "stdout",
     "output_type": "stream",
     "text": [
      "Redução percentual de 65.51 %\n"
     ]
    }
   ],
   "source": [
    "#Redução percentual no mercado da Twitch de 2016 para 2023\n",
    "red = (1-(ser_lol_ratio[2023]/ser_lol_ratio[2016]))*100\n",
    "print(f'Redução percentual de {red:.2f} %')"
   ]
  },
  {
   "cell_type": "code",
   "execution_count": 25,
   "id": "b38f05a4",
   "metadata": {
    "collapsed": false
   },
   "outputs": [
    {
     "data": {
      "text/plain": [
       "ano\n",
       "2016          NaN\n",
       "2017          NaN\n",
       "2018    10.678130\n",
       "2019    10.921717\n",
       "2020     9.352410\n",
       "2021     8.142940\n",
       "2022     7.999752\n",
       "2023     7.892322\n",
       "Name: horas_assistidas, dtype: float64"
      ]
     },
     "execution_count": 25,
     "metadata": {},
     "output_type": "execute_result"
    }
   ],
   "source": [
    "#comparação em relação às horas assistidas no total desconsiderando-se o Just Chatting\n",
    "((df_lol.groupby(['ano'])['horas_assistidas'].sum())/(data.groupby(['ano'])['horas_assistidas'].sum() - df_just.groupby(['ano'])['horas_assistidas'].sum()))*100"
   ]
  },
  {
   "cell_type": "markdown",
   "id": "0a68b256",
   "metadata": {
    "collapsed": false
   },
   "source": [
    "#### Dota"
   ]
  },
  {
   "cell_type": "code",
   "execution_count": 26,
   "id": "00698b65",
   "metadata": {
    "collapsed": false
   },
   "outputs": [
    {
     "data": {
      "text/plain": [
       "Dota 2             85\n",
       "Dota Underlords     9\n",
       "Name: jogo, dtype: int64"
      ]
     },
     "execution_count": 26,
     "metadata": {},
     "output_type": "execute_result"
    }
   ],
   "source": [
    "#verificação da versão principal de dota\n",
    "data_games[data_games['jogo'].str.contains('Dota') == True]['jogo'].value_counts()"
   ]
  },
  {
   "cell_type": "code",
   "execution_count": 27,
   "id": "f44caa7e",
   "metadata": {
    "collapsed": false
   },
   "outputs": [
    {
     "name": "stdout",
     "output_type": "stream",
     "text": [
      "ano\n",
      "2016    496585969\n",
      "2017    449879503\n",
      "2018    472414819\n",
      "2019    503022570\n",
      "2020    497151335\n",
      "2021    578484298\n",
      "2022    532253215\n",
      "2023     43317513\n",
      "Name: horas_assistidas, dtype: int32\n"
     ]
    },
    {
     "data": {
      "text/plain": [
       "Text(0.5, 1.0, 'Horas Assistidas de Dota')"
      ]
     },
     "execution_count": 27,
     "metadata": {},
     "output_type": "execute_result"
    },
    {
     "data": {
      "image/png": "[encoded data removed]",
      "text/plain": [
       "<Figure size 640x480 with 1 Axes>"
      ]
     },
     "metadata": {},
     "output_type": "display_data"
    }
   ],
   "source": [
    "#criação de um dataframe com informações apenas de Dota 2\n",
    "df_dota = data_games[data_games['jogo'] == 'Dota 2']\n",
    "#quantidade de horas assistidas em cada ano\n",
    "ser_dota_hours = df_dota.groupby(['ano'])['horas_assistidas'].sum()\n",
    "print(ser_dota_hours)\n",
    "#para 2023 o mês de Janeiro será considerado como a média do ano\n",
    "ser_dota_hours[2023] = ser_dota_hours[2023]*12\n",
    "#gráfico Horas assistidas de League of legenda a cada ano\n",
    "plt.plot(ser_dota_hours.index, ser_dota_hours.values)\n",
    "plt.xlabel('Ano', size=10)\n",
    "plt.ylabel('Horas assistidas', size=10)\n",
    "plt.title('Horas Assistidas de Dota', size=15)"
   ]
  },
  {
   "cell_type": "code",
   "execution_count": 28,
   "id": "f34cad10",
   "metadata": {
    "collapsed": false
   },
   "outputs": [
    {
     "name": "stdout",
     "output_type": "stream",
     "text": [
      "ano\n",
      "2016    9.420197\n",
      "2017    6.885649\n",
      "2018    5.042141\n",
      "2019    4.572846\n",
      "2020    2.671855\n",
      "2021    2.377102\n",
      "2022    2.355263\n",
      "2023    2.320213\n",
      "Name: horas_assistidas, dtype: float64\n"
     ]
    },
    {
     "data": {
      "text/plain": [
       "Text(0.5, 1.0, 'Razão Percentual Entre Dota e o Total')"
      ]
     },
     "execution_count": 28,
     "metadata": {},
     "output_type": "execute_result"
    },
    {
     "data": {
      "image/png": "[encoded data removed]",
      "text/plain": [
       "<Figure size 640x480 with 1 Axes>"
      ]
     },
     "metadata": {},
     "output_type": "display_data"
    }
   ],
   "source": [
    "#comparação em relação às horas assistidas no total\n",
    "ser_dota_ratio = ((df_dota.groupby(['ano'])['horas_assistidas'].sum())/(data.groupby(['ano'])['horas_assistidas'].sum()))*100\n",
    "print(ser_dota_ratio)\n",
    "#Gráfico da razão percentual do Dota em relação ao total de horas assistidas (2018-2023)\n",
    "plt.plot(ser_dota_ratio.index, ser_dota_ratio.values)\n",
    "plt.xlabel('Ano', size=10)\n",
    "plt.ylabel('Razão percentual', size=10)\n",
    "plt.title('Razão Percentual Entre Dota e o Total', size=15)"
   ]
  },
  {
   "cell_type": "code",
   "execution_count": 29,
   "id": "6decaaba",
   "metadata": {
    "collapsed": false
   },
   "outputs": [
    {
     "name": "stdout",
     "output_type": "stream",
     "text": [
      "Redução percentual de 75.37 %\n"
     ]
    }
   ],
   "source": [
    "#Redução percentual no mercado da Twitch de 2016 para 2023\n",
    "red = (1-(ser_dota_ratio[2023]/ser_dota_ratio[2016]))*100\n",
    "print(f'Redução percentual de {red:.2f} %')"
   ]
  },
  {
   "cell_type": "code",
   "execution_count": 30,
   "id": "968e6001",
   "metadata": {
    "collapsed": false
   },
   "outputs": [
    {
     "data": {
      "text/plain": [
       "ano\n",
       "2016         NaN\n",
       "2017         NaN\n",
       "2018    5.119348\n",
       "2019    4.912103\n",
       "2020    2.992889\n",
       "2021    2.713988\n",
       "2022    2.735206\n",
       "2023    2.702700\n",
       "Name: horas_assistidas, dtype: float64"
      ]
     },
     "execution_count": 30,
     "metadata": {},
     "output_type": "execute_result"
    }
   ],
   "source": [
    "#comparação em relação às horas assistidas no total desconsiderando-se o Just Chatting\n",
    "((df_dota.groupby(['ano'])['horas_assistidas'].sum())/(data.groupby(['ano'])['horas_assistidas'].sum() - df_just.groupby(['ano'])['horas_assistidas'].sum()))*100"
   ]
  },
  {
   "cell_type": "markdown",
   "id": "9c3277b3",
   "metadata": {
    "collapsed": false
   },
   "source": [
    "### Jogos Top 20 (Desconsiderando o Just Chatting)"
   ]
  },
  {
   "cell_type": "code",
   "execution_count": 31,
   "id": "d3711cf2",
   "metadata": {
    "collapsed": false
   },
   "outputs": [
    {
     "data": {
      "text/html": [
       "<div>\n",
       "<style scoped>\n",
       "    .dataframe tbody tr th:only-of-type {\n",
       "        vertical-align: middle;\n",
       "    }\n",
       "\n",
       "    .dataframe tbody tr th {\n",
       "        vertical-align: top;\n",
       "    }\n",
       "\n",
       "    .dataframe thead th {\n",
       "        text-align: right;\n",
       "    }\n",
       "</style>\n",
       "<table border=\"1\" class=\"dataframe\">\n",
       "  <thead>\n",
       "    <tr style=\"text-align: right;\">\n",
       "      <th></th>\n",
       "      <th>Rank</th>\n",
       "      <th>jogo</th>\n",
       "      <th>mes</th>\n",
       "      <th>ano</th>\n",
       "      <th>horas_assistidas</th>\n",
       "      <th>horas_transmitidas</th>\n",
       "      <th>pico_de_visualizacoes</th>\n",
       "      <th>pico_de_canais</th>\n",
       "      <th>Streamers</th>\n",
       "      <th>media_de_espectadores</th>\n",
       "      <th>media_canais</th>\n",
       "      <th>media_de_proporção_de_espectadores</th>\n",
       "    </tr>\n",
       "  </thead>\n",
       "  <tbody>\n",
       "    <tr>\n",
       "      <th>0</th>\n",
       "      <td>1</td>\n",
       "      <td>League of Legends</td>\n",
       "      <td>1</td>\n",
       "      <td>2016</td>\n",
       "      <td>94377226</td>\n",
       "      <td>1362044</td>\n",
       "      <td>530270</td>\n",
       "      <td>2903</td>\n",
       "      <td>129172</td>\n",
       "      <td>127021.0</td>\n",
       "      <td>1833.0</td>\n",
       "      <td>69.29</td>\n",
       "    </tr>\n",
       "    <tr>\n",
       "      <th>1</th>\n",
       "      <td>2</td>\n",
       "      <td>Counter-Strike: Global Offensive</td>\n",
       "      <td>1</td>\n",
       "      <td>2016</td>\n",
       "      <td>47832863</td>\n",
       "      <td>830105</td>\n",
       "      <td>372654</td>\n",
       "      <td>2197</td>\n",
       "      <td>120849</td>\n",
       "      <td>64378.0</td>\n",
       "      <td>1117.0</td>\n",
       "      <td>57.62</td>\n",
       "    </tr>\n",
       "    <tr>\n",
       "      <th>2</th>\n",
       "      <td>3</td>\n",
       "      <td>Dota 2</td>\n",
       "      <td>1</td>\n",
       "      <td>2016</td>\n",
       "      <td>45185893</td>\n",
       "      <td>433397</td>\n",
       "      <td>315083</td>\n",
       "      <td>1100</td>\n",
       "      <td>44074</td>\n",
       "      <td>60815.0</td>\n",
       "      <td>583.0</td>\n",
       "      <td>104.26</td>\n",
       "    </tr>\n",
       "    <tr>\n",
       "      <th>3</th>\n",
       "      <td>4</td>\n",
       "      <td>Hearthstone</td>\n",
       "      <td>1</td>\n",
       "      <td>2016</td>\n",
       "      <td>39936159</td>\n",
       "      <td>235903</td>\n",
       "      <td>131357</td>\n",
       "      <td>517</td>\n",
       "      <td>36170</td>\n",
       "      <td>53749.0</td>\n",
       "      <td>317.0</td>\n",
       "      <td>169.29</td>\n",
       "    </tr>\n",
       "    <tr>\n",
       "      <th>4</th>\n",
       "      <td>5</td>\n",
       "      <td>Call of Duty: Black Ops III</td>\n",
       "      <td>1</td>\n",
       "      <td>2016</td>\n",
       "      <td>16153057</td>\n",
       "      <td>1151578</td>\n",
       "      <td>71639</td>\n",
       "      <td>3620</td>\n",
       "      <td>214054</td>\n",
       "      <td>21740.0</td>\n",
       "      <td>1549.0</td>\n",
       "      <td>14.03</td>\n",
       "    </tr>\n",
       "    <tr>\n",
       "      <th>...</th>\n",
       "      <td>...</td>\n",
       "      <td>...</td>\n",
       "      <td>...</td>\n",
       "      <td>...</td>\n",
       "      <td>...</td>\n",
       "      <td>...</td>\n",
       "      <td>...</td>\n",
       "      <td>...</td>\n",
       "      <td>...</td>\n",
       "      <td>...</td>\n",
       "      <td>...</td>\n",
       "      <td>...</td>\n",
       "    </tr>\n",
       "    <tr>\n",
       "      <th>16020</th>\n",
       "      <td>21</td>\n",
       "      <td>NBA 2K23</td>\n",
       "      <td>9</td>\n",
       "      <td>2022</td>\n",
       "      <td>16458374</td>\n",
       "      <td>829449</td>\n",
       "      <td>352152</td>\n",
       "      <td>7180</td>\n",
       "      <td>97382</td>\n",
       "      <td>22890.0</td>\n",
       "      <td>1153.0</td>\n",
       "      <td>19.84</td>\n",
       "    </tr>\n",
       "    <tr>\n",
       "      <th>16220</th>\n",
       "      <td>21</td>\n",
       "      <td>Special Events</td>\n",
       "      <td>10</td>\n",
       "      <td>2022</td>\n",
       "      <td>15015700</td>\n",
       "      <td>52937</td>\n",
       "      <td>1045462</td>\n",
       "      <td>781</td>\n",
       "      <td>13223</td>\n",
       "      <td>20209.0</td>\n",
       "      <td>71.0</td>\n",
       "      <td>283.65</td>\n",
       "    </tr>\n",
       "    <tr>\n",
       "      <th>16420</th>\n",
       "      <td>21</td>\n",
       "      <td>Teamfight Tactics</td>\n",
       "      <td>11</td>\n",
       "      <td>2022</td>\n",
       "      <td>14417524</td>\n",
       "      <td>173705</td>\n",
       "      <td>102291</td>\n",
       "      <td>586</td>\n",
       "      <td>26384</td>\n",
       "      <td>20052.0</td>\n",
       "      <td>241.0</td>\n",
       "      <td>83.00</td>\n",
       "    </tr>\n",
       "    <tr>\n",
       "      <th>16620</th>\n",
       "      <td>21</td>\n",
       "      <td>Dead by Daylight</td>\n",
       "      <td>12</td>\n",
       "      <td>2022</td>\n",
       "      <td>16803010</td>\n",
       "      <td>1048716</td>\n",
       "      <td>56226</td>\n",
       "      <td>2910</td>\n",
       "      <td>103748</td>\n",
       "      <td>22615.0</td>\n",
       "      <td>1411.0</td>\n",
       "      <td>16.02</td>\n",
       "    </tr>\n",
       "    <tr>\n",
       "      <th>16820</th>\n",
       "      <td>21</td>\n",
       "      <td>Call of Duty: Modern Warfare II</td>\n",
       "      <td>1</td>\n",
       "      <td>2023</td>\n",
       "      <td>15772936</td>\n",
       "      <td>3141654</td>\n",
       "      <td>180032</td>\n",
       "      <td>8393</td>\n",
       "      <td>469399</td>\n",
       "      <td>21228.0</td>\n",
       "      <td>4228.0</td>\n",
       "      <td>5.02</td>\n",
       "    </tr>\n",
       "  </tbody>\n",
       "</table>\n",
       "<p>1700 rows × 12 columns</p>\n",
       "</div>"
      ],
      "text/plain": [
       "       Rank                              jogo  mes   ano  horas_assistidas  \\\n",
       "0         1                 League of Legends    1  2016          94377226   \n",
       "1         2  Counter-Strike: Global Offensive    1  2016          47832863   \n",
       "2         3                            Dota 2    1  2016          45185893   \n",
       "3         4                       Hearthstone    1  2016          39936159   \n",
       "4         5       Call of Duty: Black Ops III    1  2016          16153057   \n",
       "...     ...                               ...  ...   ...               ...   \n",
       "16020    21                          NBA 2K23    9  2022          16458374   \n",
       "16220    21                    Special Events   10  2022          15015700   \n",
       "16420    21                 Teamfight Tactics   11  2022          14417524   \n",
       "16620    21                  Dead by Daylight   12  2022          16803010   \n",
       "16820    21   Call of Duty: Modern Warfare II    1  2023          15772936   \n",
       "\n",
       "       horas_transmitidas  pico_de_visualizacoes  pico_de_canais  Streamers  \\\n",
       "0                 1362044                 530270            2903     129172   \n",
       "1                  830105                 372654            2197     120849   \n",
       "2                  433397                 315083            1100      44074   \n",
       "3                  235903                 131357             517      36170   \n",
       "4                 1151578                  71639            3620     214054   \n",
       "...                   ...                    ...             ...        ...   \n",
       "16020              829449                 352152            7180      97382   \n",
       "16220               52937                1045462             781      13223   \n",
       "16420              173705                 102291             586      26384   \n",
       "16620             1048716                  56226            2910     103748   \n",
       "16820             3141654                 180032            8393     469399   \n",
       "\n",
       "       media_de_espectadores  media_canais  media_de_proporção_de_espectadores  \n",
       "0                   127021.0        1833.0                               69.29  \n",
       "1                    64378.0        1117.0                               57.62  \n",
       "2                    60815.0         583.0                              104.26  \n",
       "3                    53749.0         317.0                              169.29  \n",
       "4                    21740.0        1549.0                               14.03  \n",
       "...                      ...           ...                                 ...  \n",
       "16020                22890.0        1153.0                               19.84  \n",
       "16220                20209.0          71.0                              283.65  \n",
       "16420                20052.0         241.0                               83.00  \n",
       "16620                22615.0        1411.0                               16.02  \n",
       "16820                21228.0        4228.0                                5.02  \n",
       "\n",
       "[1700 rows x 12 columns]"
      ]
     },
     "execution_count": 31,
     "metadata": {},
     "output_type": "execute_result"
    }
   ],
   "source": [
    "#Dataframe com o top20 de todos os meses, considerando o Just Chatting\n",
    "lista_rank = np.arange(1,21)\n",
    "df_top20 = data_games[data_games['Rank'].isin(lista_rank)]\n",
    "#Dataframe que identifica o Just Chatting no top20 para removê-lo e colocar um jogo no lugar\n",
    "df_append = df_top20[df_top20['jogo'].isin(['Just Chatting'])].loc[ : , ['mes', 'ano']]\n",
    "#Remoção do Just Chatting e acréscimo do jogo de rank 21 do respectivo mês\n",
    "for tupla in df_append.itertuples():\n",
    "    df_temp = data_games[(data_games['Rank'] == 21) & (data_games['mes'] == tupla[1]) & (data_games['ano'] == tupla[2])]\n",
    "    df_top20 = pd.concat([df_top20, df_temp])\n",
    "    df_top20 = df_top20.drop(tupla[0])\n",
    "#Dataframe com o top20 de todos os meses, desconsiderando o Just Chatting\n",
    "df_top20"
   ]
  },
  {
   "cell_type": "code",
   "execution_count": 32,
   "id": "83754dbf",
   "metadata": {
    "collapsed": false
   },
   "outputs": [
    {
     "name": "stdout",
     "output_type": "stream",
     "text": [
      "ano\n",
      "2016     3919168020\n",
      "2017     4497288304\n",
      "2018     6315112988\n",
      "2019     6785334250\n",
      "2020    10618343719\n",
      "2021    12971194955\n",
      "2022    11490627552\n",
      "2023      937276137\n",
      "Name: horas_assistidas, dtype: int64\n"
     ]
    },
    {
     "data": {
      "text/plain": [
       "Text(0.5, 1.0, 'Horas Assistidas de Top 20 jogos')"
      ]
     },
     "execution_count": 32,
     "metadata": {},
     "output_type": "execute_result"
    },
    {
     "data": {
      "image/png": "[encoded data removed]",
      "text/plain": [
       "<Figure size 640x480 with 1 Axes>"
      ]
     },
     "metadata": {},
     "output_type": "display_data"
    }
   ],
   "source": [
    "#Quantidade de horas assistidas por ano (top20 jogos)\n",
    "ser_top20_hours = df_top20.groupby(['ano'])['horas_assistidas'].sum()\n",
    "print(ser_top20_hours)\n",
    "#para 2023 o mês de Janeiro será considerado como a média do ano\n",
    "ser_top20_hours[2023] = ser_top20_hours[2023]*12\n",
    "#gráfico Horas assistidas de Top20 a cada ano\n",
    "plt.plot(ser_top20_hours.index, ser_top20_hours.values)\n",
    "plt.xlabel('Ano', size=10)\n",
    "plt.ylabel('Horas assistidas', size=10)\n",
    "plt.title('Horas Assistidas de Top 20 jogos', size=15)"
   ]
  },
  {
   "cell_type": "code",
   "execution_count": 33,
   "id": "ca6d7a3f",
   "metadata": {
    "collapsed": false
   },
   "outputs": [
    {
     "name": "stdout",
     "output_type": "stream",
     "text": [
      "ano\n",
      "2016    74.346313\n",
      "2017    68.833425\n",
      "2018    67.401966\n",
      "2019    61.683697\n",
      "2020    57.066473\n",
      "2021    53.301114\n",
      "2022    50.846950\n",
      "2023    50.203266\n",
      "Name: horas_assistidas, dtype: float64\n"
     ]
    },
    {
     "data": {
      "text/plain": [
       "Text(0.5, 1.0, 'Razão Percentual Entre os Top 20 jogos e o Total')"
      ]
     },
     "execution_count": 33,
     "metadata": {},
     "output_type": "execute_result"
    },
    {
     "data": {
      "image/png": "[encoded data removed]",
      "text/plain": [
       "<Figure size 640x480 with 1 Axes>"
      ]
     },
     "metadata": {},
     "output_type": "display_data"
    }
   ],
   "source": [
    "#comparação em relação às horas assistidas no total\n",
    "ser_top20_ratio = ((df_top20.groupby(['ano'])['horas_assistidas'].sum())/(data.groupby(['ano'])['horas_assistidas'].sum()))*100\n",
    "print(ser_top20_ratio)\n",
    "#Gráfico da razão percentual do top20 jogos em relação ao total de horas assistidas (2016-2023)\n",
    "plt.plot(ser_top20_ratio.index, ser_top20_ratio.values)\n",
    "plt.xlabel('Ano', size=10)\n",
    "plt.ylabel('Razão percentual', size=10)\n",
    "plt.title('Razão Percentual Entre os Top 20 jogos e o Total', size=15)"
   ]
  },
  {
   "cell_type": "code",
   "execution_count": 34,
   "id": "472dfda0",
   "metadata": {
    "collapsed": false
   },
   "outputs": [
    {
     "name": "stdout",
     "output_type": "stream",
     "text": [
      "Redução percentual de 32.47 %\n"
     ]
    }
   ],
   "source": [
    "#Redução percentual no mercado da Twitch de 2016 para 2023 (top20)\n",
    "red = (1-(ser_top20_ratio[2023]/ser_top20_ratio[2016]))*100\n",
    "print(f'Redução percentual de {red:.2f} %')"
   ]
  },
  {
   "cell_type": "code",
   "execution_count": 35,
   "id": "5e8978fa",
   "metadata": {
    "collapsed": false
   },
   "outputs": [
    {
     "name": "stdout",
     "output_type": "stream",
     "text": [
      "\n",
      "A razão é de 0.5778, o que corresponde a uma porcentagem de 57.78 %\n",
      " \n"
     ]
    }
   ],
   "source": [
    "#Quantidade de horas assistidas separadas por ano (top20 jogos)\n",
    "horas_top20 = df_top20['horas_assistidas'].sum()\n",
    "#Quantidade de horas assistidas total (2016-2023)\n",
    "horas_total = data['horas_assistidas'].sum()\n",
    "#Razão de horas do top20 em relação ao total de horas\n",
    "print(f'\\nA razão é de {horas_top20/horas_total:.4f}, o que corresponde a uma porcentagem de {(horas_top20/horas_total)*100:.2f} %\\n ')"
   ]
  }
 ],
 "metadata": {
  "kernelspec": {
   "display_name": "Python 3",
   "language": "python",
   "name": "python3"
  },
  "language_info": {
   "codemirror_mode": {
    "name": "ipython",
    "version": 3
   },
   "file_extension": ".py",
   "mimetype": "text/x-python",
   "name": "python",
   "nbconvert_exporter": "python",
   "pygments_lexer": "ipython3",
   "version": "3.10.4"
  },
  "vscode": {
   "interpreter": {
    "hash": "7e65d11a531aceda4139f11a64816fba4d738780e1efebb5d97b945e13dbf626"
   }
  }
 },
 "nbformat": 4,
 "nbformat_minor": 5
}
